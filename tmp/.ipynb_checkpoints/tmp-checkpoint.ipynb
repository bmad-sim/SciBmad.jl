{
 "cells": [
  {
   "cell_type": "markdown",
   "id": "8fec6c66",
   "metadata": {},
   "source": [
    "## Introduction to SciBmad  \n",
    "\n",
    "Differentiable simulation codes are necessary tools in accelerator physics to properly compute (via integration) Taylor maps representing the particle transport, and subsequently extract the lattice functions from. Early examples of differentiable accelerator physics codes are the Polymorphic Tracking Code (PTC) and COSY-INFINITY, both developed in the early 1990s. Modern examples of differentiable codes are CERN's `MAD-NG`, and Cornell's `SciBmad`:\n",
    "\n",
    "`SciBmad` is a new, modular, polymorphic, differentiable, and portable (CPU/GPU compatible) accelerator physics code being developed at Cornell. This Jupyter notebook will show some its basic features, including lazily evaluated deferred expressions, polymorphism, and differentiability."
   ]
  },
  {
   "cell_type": "code",
   "execution_count": 1,
   "id": "dc2130c5",
   "metadata": {},
   "outputs": [
    {
     "name": "stdout",
     "output_type": "stream",
     "text": [
      "Detected IPython. Loading juliacall extension. See https://juliapy.github.io/PythonCall.jl/stable/compat/#IPython\n"
     ]
    },
    {
     "name": "stderr",
     "output_type": "stream",
     "text": [
      "[ Info: Precompiling SciBmad [7bf6e793-a2ec-421f-8700-d1465381ee80] (cache misses: include_dependency fsize change (6), incompatible header (2))\n",
      "[ Info: Precompiling BeamlinesPythonCallExt [1bd1f19e-78eb-58e7-990a-94b9895c993a] (cache misses: wrong dep version loaded (4))\n"
     ]
    }
   ],
   "source": [
    "import math\n",
    "import numpy as np\n",
    "import juliacall\n",
    "from juliacall import Main as jl\n",
    "import matplotlib.pyplot as plt\n",
    "jl.seval('using SciBmad')"
   ]
  },
  {
   "cell_type": "markdown",
   "id": "96cb92ae",
   "metadata": {},
   "source": [
    "Let's first make a FODO cell consisting of a quadrupole, sextupole, bend, and drift. This uses the [`Beamlines.jl`](https://github.com/bmad-sim/Beamlines.jl) package within the SciBmad family, which is automatically included when `using SciBmad`. We require by design that the focusing quadrupole strength is negative that of the defocusing quadrupole strength, and likewise for the sextupole. To achieve this, we will use `SciBmad`'s deferred expressions"
   ]
  },
  {
   "cell_type": "code",
   "execution_count": 2,
   "id": "a4b9d39d",
   "metadata": {},
   "outputs": [],
   "source": [
    "# Make a FODO cell requiring that\n",
    "# qf.Kn1 = -qd.Kn1 \n",
    "# and\n",
    "# sf.Kn2 = -sd.Kn2\n",
    "# This is done using a \"deferred expression\"\n",
    "# to form a \"closure\" of the variables we define:\n",
    "\n",
    "K1 = 0.36\n",
    "K2 = 0.1\n",
    "\n",
    "qf = jl.Quadrupole(Kn1=jl.DefExpr(lambda : +K1), L=0.5)\n",
    "sf = jl.Sextupole(Kn2=jl.DefExpr(lambda : +K2), L=0.2)\n",
    "d  = jl.Drift(L=0.6)\n",
    "b  = jl.SBend(L=6.0, angle=math.pi/132)\n",
    "qd = jl.Quadrupole(Kn1=jl.DefExpr(lambda : -K1), L=0.5)\n",
    "sd = jl.Sextupole(Kn2=jl.DefExpr(lambda : -K2), L=0.2)\n",
    "\n",
    "\n",
    "fodo_line = [qf, sf, d, b, d, qd, sd, d, b, d]\n",
    "fodo = jl.Beamline(fodo_line, species_ref=jl.Species(\"electron\"), E_ref=18e9)"
   ]
  },
  {
   "cell_type": "markdown",
   "id": "fb4cc815",
   "metadata": {},
   "source": [
    "Now if we update `K1`, both `qf` and `qd` will be (lazily) updated."
   ]
  },
  {
   "cell_type": "code",
   "execution_count": 3,
   "id": "4c9dc7e6",
   "metadata": {},
   "outputs": [
    {
     "name": "stdout",
     "output_type": "stream",
     "text": [
      "0.4\n",
      "-0.4\n"
     ]
    }
   ],
   "source": [
    "K1 = 0.4\n",
    "print(qf.Kn1)\n",
    "print(qd.Kn1)"
   ]
  },
  {
   "cell_type": "markdown",
   "id": "a8aed78e",
   "metadata": {},
   "source": [
    "Let's compute the transport matrix for this FODO cell using automatic differentiation (AD). Because it is a periodic (closed) geometry, we first need to find the closed orbit. We then will expand for small deviations around this orbit."
   ]
  },
  {
   "cell_type": "code",
   "execution_count": 4,
   "id": "7d07240c",
   "metadata": {},
   "outputs": [],
   "source": [
    "co = jl.find_closed_orbit(fodo)\n",
    "v0 = co.u"
   ]
  },
  {
   "cell_type": "markdown",
   "id": "c494612f",
   "metadata": {},
   "source": [
    "We see that in this case the closed orbit is the \"zero orbit\", which makes sense because all the magnets are perfectly aligned and there are no RF cavities. Note that in general the \"zero orbit\" is not always the closed orbit (in the case of a periodic accelerator) or the reference orbit (in the case of a linac). We must always expand around some real trajectory.\n",
    "\n",
    "Now we will use [`GTPSA.jl`](https://github.com/bmad-sim/GTPSA.jl) to compute the Taylor map, to 2nd order. `GTPSA.jl` is a full-featured interface to the Generalised Truncated Power Series Algebra library, written by Laurent Deniau for CERN's `MAD-NG` code, and is another package in the `SciBmad` family. Because `SciBmad` is polymorphic, all we need to do is track a single particle on the closed orbit where the numbers are Truncated Power Series (`TPS`) types instead of the regular 64-bit floats `Float64`s.\n",
    "\n",
    "First, we define a `Descriptor` to define the number of variables (6) and the truncation order of our Taylor series (2)."
   ]
  },
  {
   "cell_type": "code",
   "execution_count": 5,
   "id": "158da855",
   "metadata": {},
   "outputs": [],
   "source": [
    "D2 = jl.Descriptor(6, 2) # 6 variables, 2nd order"
   ]
  },
  {
   "cell_type": "markdown",
   "id": "0efc6faa",
   "metadata": {},
   "source": [
    "We will then get our special `TPS` number types. Specifically, we will start with the \"identity map\", or a vector of unit \"wiggles\". E.g., wiggle the input a bit, see how the output wiggles"
   ]
  },
  {
   "cell_type": "code",
   "execution_count": 6,
   "id": "b8035fae",
   "metadata": {},
   "outputs": [
    {
     "name": "stderr",
     "output_type": "stream",
     "text": [
      "┌ Warning: `vars` is deprecated, use the @vars macro instead.\n",
      "│   caller = pyjlany_call(self::typeof(vars), args_::Py, kwargs_::Py) at any.jl:47\n",
      "└ @ PythonCall.JlWrap ~/.julia/packages/PythonCall/L4cjh/src/JlWrap/any.jl:47\n"
     ]
    }
   ],
   "source": [
    "# Then get a vector of `TPS`s representing an identity of the variables:\n",
    "dv = jl.vars(D2) # Think of these as unit \"wiggles\"\n",
    "\n",
    " # Finally initialize our particle coordinates\n",
    "v0 = jl.zeros(6) # Closed orbit\n",
    "v = v0 + dv   # Particle as a TPSA (wiggle around the closed orbit)"
   ]
  },
  {
   "cell_type": "markdown",
   "id": "a0c8b97c",
   "metadata": {},
   "source": [
    "Now we track!"
   ]
  },
  {
   "cell_type": "code",
   "execution_count": 7,
   "id": "1d9f7c33",
   "metadata": {},
   "outputs": [
    {
     "name": "stderr",
     "output_type": "stream",
     "text": [
      "[ Info: Setting bunch.species = Species(\"electron\", -1 e, 0.51099895069 MeV c^-2, 0.5 h_bar, -9.2847646917e-24 J T^-1, 0.0, AtomicAndPhysicalConstants.Kind.LEPTON) (reference species from the Beamline)\n",
      "[ Info: Setting bunch.R_ref = -60.04153711147289 (reference R_ref from the Beamline)\n"
     ]
    },
    {
     "name": "stdout",
     "output_type": "stream",
     "text": [
      "6-element Matrix{TPS64{GTPSA.Dynamic}}:\n",
      "Descriptor(NV=6, MO=2)\n",
      " Index Coefficient                Order   Exponent\n",
      "--------------------------------------------------------------------\n",
      "   1:   2.5673907444456746e-17      0      0   0   0   0   0   0\n",
      "   1:  -2.9192628645234939e+00      1      1   0   0   0   0   0\n",
      "   1:   2.7086736617305288e+01      1      0   1   0   0   0   0\n",
      "   1:   4.8816309175570605e-16      1      0   0   1   0   0   0\n",
      "   1:   1.6002744341408089e-15      1      0   0   0   1   0   0\n",
      "   1:   5.0159518894282085e-01      1      0   0   0   0   0   1\n",
      "   1:  -2.0257056356964581e-01      2      2   0   0   0   0   0\n",
      "   1:  -1.2619985248293755e+00      2      1   1   0   0   0   0\n",
      "   1:   6.2118760845449215e+00      2      0   2   0   0   0   0\n",
      "   1:   2.4604077045055341e-17      2      1   0   1   0   0   0\n",
      "   1:   5.9531587215093307e-17      2      0   1   1   0   0   0\n",
      "   1:  -1.5931515195463741e-01      2      0   0   2   0   0   0\n",
      "   1:   5.3129394880295523e-18      2      1   0   0   1   0   0\n",
      "   1:   1.4630794896905926e-16      2      0   1   0   1   0   0\n",
      "   1:  -2.7868717305398274e+00      2      0   0   1   1   0   0\n",
      "   1:  -5.2029442575209863e+00      2      0   0   0   2   0   0\n",
      "   1:   6.2425242700219412e+00      2      1   0   0   0   0   1\n",
      "   1:  -3.7807578433494399e+01      2      0   1   0   0   0   1\n",
      "   1:  -7.9322461478621057e-16      2      0   0   1   0   0   1\n",
      "   1:  -3.2729016554810794e-15      2      0   0   0   1   0   1\n",
      "   1:  -6.4493388130436402e-01      2      0   0   0   0   0   2\n",
      "--------------------------------------------------------------------\n",
      "   2:  -3.4694469519536142e-18      0      0   0   0   0   0   0\n",
      "   2:  -3.0917479448881280e-01      1      1   0   0   0   0   0\n",
      "   2:   2.5261638191775830e+00      1      0   1   0   0   0   0\n",
      "   2:   6.3810568787362897e-17      1      0   0   1   0   0   0\n",
      "   2:   2.0920655675076445e-16      1      0   0   0   1   0   0\n",
      "   2:   6.6192405815655844e-02      1      0   0   0   0   0   1\n",
      "   2:  -1.9716409674901295e-02      2      2   0   0   0   0   0\n",
      "   2:  -1.1836022168217045e-01      2      1   1   0   0   0   0\n",
      "   2:   6.6096962489185951e-01      2      0   2   0   0   0   0\n",
      "   2:   4.0169500055934360e-18      2      1   0   1   0   0   0\n",
      "   2:   9.1087863340823260e-19      2      0   1   1   0   0   0\n",
      "   2:  -3.5334645092761102e-02      2      0   0   2   0   0   0\n",
      "   2:   3.3846237650093815e-18      2      1   0   0   1   0   0\n",
      "   2:  -4.3296541431451771e-18      2      0   1   0   1   0   0\n",
      "   2:  -3.9609101473959490e-01      2      0   0   1   1   0   0\n",
      "   2:  -7.1128402975022920e-01      2      0   0   0   2   0   0\n",
      "   2:   3.0781729794912083e-01      2      1   0   0   0   0   1\n",
      "   2:  -1.4583398667393581e+00      2      0   1   0   0   0   1\n",
      "   2:  -4.0006495007695620e-17      2      0   0   1   0   0   1\n",
      "   2:  -2.1908587316981384e-16      2      0   0   0   1   0   1\n",
      "   2:  -1.8806564185196412e-02      2      0   0   0   0   0   2\n",
      "--------------------------------------------------------------------\n",
      "   3:   2.6005063989261206e-33      0      0   0   0   0   0   0\n",
      "   3:  -1.0377507506125307e-16      1      1   0   0   0   0   0\n",
      "   3:   1.4538479106997436e-15      1      0   1   0   0   0   0\n",
      "   3:   2.3967935861470133e-01      1      0   0   1   0   0   0\n",
      "   3:   3.7216841490284902e+00      1      0   0   0   1   0   0\n",
      "   3:   1.7156967235435141e-17      1      0   0   0   0   0   1\n",
      "   3:  -1.2625390189872071e-17      2      2   0   0   0   0   0\n",
      "   3:  -1.6715018798627032e-17      2      1   1   0   0   0   0\n",
      "   3:   2.8631748569385404e-18      2      0   2   0   0   0   0\n",
      "   3:   3.3053479018582710e-01      2      1   0   1   0   0   0\n",
      "   3:  -3.2443102819751535e+00      2      0   1   1   0   0   0\n",
      "   3:   5.8464977912096827e-18      2      0   0   2   0   0   0\n",
      "   3:   8.7239691323397284e-01      2      1   0   0   1   0   0\n",
      "   3:  -1.0793192164106848e+01      2      0   1   0   1   0   0\n",
      "   3:  -4.8742304905171187e-17      2      0   0   1   1   0   0\n",
      "   3:  -1.0522416929865590e-16      2      0   0   0   2   0   0\n",
      "   3:   3.9006947041197318e-16      2      1   0   0   0   0   1\n",
      "   3:  -2.8352181182238744e-15      2      0   1   0   0   0   1\n",
      "   3:   3.0596989853096992e+00      2      0   0   1   0   0   1\n",
      "   3:   8.6053372401129504e+00      2      0   0   0   1   0   1\n",
      "   3:  -3.4311390073538383e-17      2      0   0   0   0   0   2\n",
      "--------------------------------------------------------------------\n",
      "   4:   3.3993609410275580e-34      0      0   0   0   0   0   0\n",
      "   4:  -1.3578512960405904e-17      1      1   0   0   0   0   0\n",
      "   4:   1.9010918552101528e-16      1      0   1   0   0   0   0\n",
      "   4:  -3.0929980978803862e-01      1      0   0   1   0   0   0\n",
      "   4:  -6.3049317329240628e-01      1      0   0   0   1   0   0\n",
      "   4:   2.2443320709156127e-18      1      0   0   0   0   0   1\n",
      "   4:  -1.7300989520914240e-18      2      2   0   0   0   0   0\n",
      "   4:  -2.8048596331190322e-19      2      1   1   0   0   0   0\n",
      "   4:  -1.0789253382167049e-17      2      0   2   0   0   0   0\n",
      "   4:   2.3178583550436675e-02      2      1   0   1   0   0   0\n",
      "   4:  -4.4152134026615630e-01      2      0   1   1   0   0   0\n",
      "   4:   9.6282272955842114e-19      2      0   0   2   0   0   0\n",
      "   4:   1.0360131370917137e-01      2      1   0   0   1   0   0\n",
      "   4:  -1.4618954966135980e+00      2      0   1   0   1   0   0\n",
      "   4:  -5.3846180015453750e-18      2      0   0   1   1   0   0\n",
      "   4:  -1.2647804231652445e-17      2      0   0   0   2   0   0\n",
      "   4:   3.7462774094416378e-17      2      1   0   0   0   0   1\n",
      "   4:  -1.8094029099130119e-16      2      0   1   0   0   0   1\n",
      "   4:   3.0389854279493800e-01      2      0   0   1   0   0   1\n",
      "   4:   1.6626569053533065e+00      2      0   0   0   1   0   1\n",
      "   4:  -2.2460869305159325e-18      2      0   0   0   0   0   2\n",
      "--------------------------------------------------------------------\n",
      "   5:   3.5527136788005009e-15      0      0   0   0   0   0   0\n",
      "   5:   3.8152442753139303e-02      1      1   0   0   0   0   0\n",
      "   5:  -5.2582464421355957e-01      1      0   1   0   0   0   0\n",
      "   5:  -6.1501819400079603e-18      1      0   0   1   0   0   0\n",
      "   5:  -2.0159058209417100e-17      1      0   0   0   1   0   0\n",
      "   5:   1.0000000000000000e+00      1      0   0   0   0   1   0\n",
      "   5:  -7.3986007285192883e-03      1      0   0   0   0   0   1\n",
      "   5:  -5.1219679894336123e-01      2      2   0   0   0   0   0\n",
      "   5:   7.4560386762052318e+00      2      1   1   0   0   0   0\n",
      "   5:  -2.8082874269045234e+01      2      0   2   0   0   0   0\n",
      "   5:   1.1848863791978028e-16      2      1   0   1   0   0   0\n",
      "   5:  -7.8409281276384091e-16      2      0   1   1   0   0   0\n",
      "   5:  -5.1677949578375570e-01      2      0   0   2   0   0   0\n",
      "   5:   4.2918967566389098e-16      2      1   0   0   1   0   0\n",
      "   5:  -3.1275754115222628e-15      2      0   1   0   1   0   0\n",
      "   5:  -3.0743413150330352e+00      2      0   0   1   1   0   0\n",
      "   5:  -5.8191263664126609e+00      2      0   0   0   2   0   0\n",
      "   5:   3.0183967481340175e-02      2      1   0   0   0   0   1\n",
      "   5:  -4.6852205832686250e-01      2      0   1   0   0   0   1\n",
      "   5:  -1.0858783396114030e-17      2      0   0   1   0   0   1\n",
      "   5:  -3.3711088564721932e-17      2      0   0   0   1   0   1\n",
      "   5:  -2.8323737684837185e-03      2      0   0   0   0   0   2\n",
      "--------------------------------------------------------------------\n",
      "   6:   1.0000000000000000e+00      1      0   0   0   0   0   1\n",
      "\n"
     ]
    }
   ],
   "source": [
    "b0 = jl.Bunch(v)\n",
    "jl.track_b(b0, fodo)  # b0 is mutated in-place with the result\n",
    "print(b0.coords.v)"
   ]
  },
  {
   "cell_type": "markdown",
   "id": "1d406465",
   "metadata": {},
   "source": [
    "This is the real nonlinear Taylor map, computed from the integrator itself - no matrix or map is stored internally.\n",
    "\n",
    "The exponent specifies the power of each variable, e.g. the last row in `1: ...` corresponds to $\\delta^2$ - it defines how $x$ depends on $\\delta^2$.\n",
    "\n",
    "We can also get the linear part (as a matrix):"
   ]
  },
  {
   "cell_type": "code",
   "execution_count": 8,
   "id": "bde7fdc3",
   "metadata": {},
   "outputs": [
    {
     "data": {
      "text/csv": [
       "-2.919262864523494,27.086736617305288,4.881630917557061e-16,1.6002744341408089e-15,0.0,0.5015951889428208\n",
       "-0.3091747944888128,2.526163819177583,6.38105687873629e-17,2.0920655675076445e-16,0.0,0.06619240581565584\n",
       "-1.0377507506125307e-16,1.4538479106997436e-15,0.23967935861470133,3.72168414902849,0.0,1.715696723543514e-17\n",
       "-1.3578512960405904e-17,1.9010918552101528e-16,-0.3092998097880386,-0.6304931732924063,0.0,2.2443320709156127e-18\n",
       "0.0381524427531393,-0.5258246442135596,-6.15018194000796e-18,-2.01590582094171e-17,1.0,-0.007398600728519288\n",
       "0.0,0.0,0.0,0.0,0.0,1.0\n"
      ],
      "text/plain": [
       "6×6 Matrix{Float64}:\n",
       " -2.91926      27.0867        4.88163e-16   1.60027e-15  0.0   0.501595\n",
       " -0.309175      2.52616       6.38106e-17   2.09207e-16  0.0   0.0661924\n",
       " -1.03775e-16   1.45385e-15   0.239679      3.72168      0.0   1.7157e-17\n",
       " -1.35785e-17   1.90109e-16  -0.3093       -0.630493     0.0   2.24433e-18\n",
       "  0.0381524    -0.525825     -6.15018e-18  -2.01591e-17  1.0  -0.0073986\n",
       "  0.0           0.0           0.0           0.0          0.0   1.0"
      ],
      "text/tab-separated-values": [
       "-2.919262864523494\t27.086736617305288\t4.881630917557061e-16\t1.6002744341408089e-15\t0.0\t0.5015951889428208\n",
       "-0.3091747944888128\t2.526163819177583\t6.38105687873629e-17\t2.0920655675076445e-16\t0.0\t0.06619240581565584\n",
       "-1.0377507506125307e-16\t1.4538479106997436e-15\t0.23967935861470133\t3.72168414902849\t0.0\t1.715696723543514e-17\n",
       "-1.3578512960405904e-17\t1.9010918552101528e-16\t-0.3092998097880386\t-0.6304931732924063\t0.0\t2.2443320709156127e-18\n",
       "0.0381524427531393\t-0.5258246442135596\t-6.15018194000796e-18\t-2.01590582094171e-17\t1.0\t-0.007398600728519288\n",
       "0.0\t0.0\t0.0\t0.0\t0.0\t1.0\n"
      ]
     },
     "execution_count": 8,
     "metadata": {},
     "output_type": "execute_result"
    }
   ],
   "source": [
    "# We can clean up the output with\n",
    "jl.GTPSA.show_eps = 1e-10\n",
    "\n",
    "# Also print the matrix (linear part)\n",
    "jl.GTPSA.jacobian(b0.coords.v)"
   ]
  },
  {
   "cell_type": "markdown",
   "id": "b0edbb7e",
   "metadata": {},
   "source": [
    "To get the tunes, we need to go to the normal form, where the motion lies on circles in phase space with tunes as functions of solely the radius of the circle (amplitude-dependent rotations). E.g. we seek a nonlinear map $\\vec{a}$ such that $\\vec{r} = \\vec{a}^{-1}\\circ\\vec{m}\\circ\\vec{a}$ where $\\vec{m}$ is the one-turn map. $\\vec{r}$ will then, being in circle world, have the form\n",
    "\n",
    "$$\n",
    "\\begin{equation}\n",
    "    \\begin{pmatrix}\n",
    "        \\bar{q}_1 \\\\ \\bar{p}_1 \\\\ \\vdots \\\\ \\bar{q}_n \\\\ \\bar{p}_n\n",
    "    \\end{pmatrix}_{t_0+T} = \n",
    "    \\underbrace{\\begin{pmatrix}\n",
    "        \\mathsf{R}(\\mu_i(\\vec{J})) & \\mathsf{0} & \\mathsf{0} \\\\\n",
    "        \\mathsf{0} & \\ddots & \\mathsf{0}\\\\\n",
    "        \\mathsf{0} & \\mathsf{0} & \\mathsf{R}(\\mu_n(\\vec{J}))\n",
    "    \\end{pmatrix}}_{\\let\\scriptstyle\\textstyle\\substack{\\vec{r}}}\n",
    "\\begin{pmatrix}\n",
    "        \\bar{q}_1 \\\\ \\bar{p}_1 \\\\ \\vdots \\\\ \\bar{q}_n \\\\ \\bar{p}_n\n",
    "    \\end{pmatrix}_{t_0},\\ \\  \\mathsf{R}(\\alpha)= \\begin{pmatrix}\n",
    "        \\cos{\\alpha} && \\sin{\\alpha} \\\\\n",
    "        -\\sin{\\alpha} && \\cos{\\alpha}\n",
    "    \\end{pmatrix} \\ .\n",
    "\\end{equation}\n",
    "$$\n",
    "\n",
    "where $(\\bar{q}_1,\\bar{p}_1) = (\\sqrt{2J_1}\\cos{\\phi_1},\\sqrt{2J_1}\\sin{\\phi_1})$.\n",
    "\n",
    "`SciBmad`'s `NonlinearNormalForm.jl` package makes it very easy to compute `a`, with a single function `normal`. We will elevate the tracking map result to a bona-fide `DAMap` (differential algebraic map) type, and then compute `a`:"
   ]
  },
  {
   "cell_type": "code",
   "execution_count": 9,
   "id": "07d6365a",
   "metadata": {},
   "outputs": [],
   "source": [
    "m = jl.DAMap(v=b0.coords.v)\n",
    "a = jl.normal(m)"
   ]
  },
  {
   "cell_type": "markdown",
   "id": "d2387e9a",
   "metadata": {},
   "source": [
    "We now can compute the nonlinear rotation $\\vec{r}$:"
   ]
  },
  {
   "cell_type": "code",
   "execution_count": 10,
   "id": "c062c4d2",
   "metadata": {},
   "outputs": [
    {
     "data": {
      "text/csv": [
       "-0.19654952267295533,0.9804938985720597,-2.4225068524357985e-16,-6.31401878407614e-17,0.0,1.3877787807814457e-17\n",
       "-0.9804938985720588,-0.19654952267295522,2.465190328815662e-32,0.0,0.0,-1.249000902703301e-16\n",
       "-1.1675141397270975e-28,-2.0352611354702105e-28,-0.19540690733885208,0.9807222545472616,0.0,-1.5777218104420236e-30\n",
       "1.262177448353619e-29,8.835242138475332e-29,-0.9807222545472617,-0.19540690733885285,0.0,1.34106353887572e-29\n",
       "-3.7470027081099033e-16,-1.1145598333150986e-16,-3.967415685437706e-32,4.622231866529366e-33,1.0,-0.013945975579860171\n",
       "0.0,0.0,0.0,0.0,0.0,1.0\n"
      ],
      "text/plain": [
       "6×6 Matrix{Float64}:\n",
       " -0.19655       0.980494     -2.42251e-16  -6.31402e-17  0.0   1.38778e-17\n",
       " -0.980494     -0.19655       2.46519e-32   0.0          0.0  -1.249e-16\n",
       " -1.16751e-28  -2.03526e-28  -0.195407      0.980722     0.0  -1.57772e-30\n",
       "  1.26218e-29   8.83524e-29  -0.980722     -0.195407     0.0   1.34106e-29\n",
       " -3.747e-16    -1.11456e-16  -3.96742e-32   4.62223e-33  1.0  -0.013946\n",
       "  0.0           0.0           0.0           0.0          0.0   1.0"
      ],
      "text/tab-separated-values": [
       "-0.19654952267295533\t0.9804938985720597\t-2.4225068524357985e-16\t-6.31401878407614e-17\t0.0\t1.3877787807814457e-17\n",
       "-0.9804938985720588\t-0.19654952267295522\t2.465190328815662e-32\t0.0\t0.0\t-1.249000902703301e-16\n",
       "-1.1675141397270975e-28\t-2.0352611354702105e-28\t-0.19540690733885208\t0.9807222545472616\t0.0\t-1.5777218104420236e-30\n",
       "1.262177448353619e-29\t8.835242138475332e-29\t-0.9807222545472617\t-0.19540690733885285\t0.0\t1.34106353887572e-29\n",
       "-3.7470027081099033e-16\t-1.1145598333150986e-16\t-3.967415685437706e-32\t4.622231866529366e-33\t1.0\t-0.013945975579860171\n",
       "0.0\t0.0\t0.0\t0.0\t0.0\t1.0\n"
      ]
     },
     "execution_count": 10,
     "metadata": {},
     "output_type": "execute_result"
    }
   ],
   "source": [
    "ai = jl.inv(a)\n",
    "r = ai * m * a\n",
    "jl.GTPSA.jacobian(r.v)"
   ]
  },
  {
   "cell_type": "markdown",
   "id": "06c464f6",
   "metadata": {},
   "source": [
    "It is easiest to view this in the complex phasors basis where the coordinates are $(\\tilde{p}_i,\\tilde{q}_i)=(\\sqrt{J_i}e^{+\\textrm{i}\\phi_i},\\sqrt{J_i}e^{-\\textrm{i}\\phi_i})$. That way, we see explicitly that the monomials $(\\tilde{p}_i\\tilde{q}_i)^n = J_i^n$."
   ]
  },
  {
   "cell_type": "code",
   "execution_count": null,
   "id": "eb00add2",
   "metadata": {},
   "outputs": [
    {
     "name": "stdout",
     "output_type": "stream",
     "text": [
      "DAMap{StaticArraysCore.MVector{5, ComplexF64}, StaticArraysCore.MVector{6, ComplexTPS64{Descriptor(NV=6, MO=2)}}, Nothing, Nothing}(ComplexF64[0.0 + 0.0im, 0.0 + 0.0im, 0.0 + 0.0im, 0.0 + 0.0im, 0.0 + 0.0im], 6-element StaticArraysCore.MVector{6, ComplexTPS64{Descriptor(NV=6, MO=2)}}:\n",
      " Index Real                     Imag                       Order   Exponent\n",
      "---------------------------------------------------------------------------------------------\n",
      "   1:  -1.9654952267295528e-01  -9.8049389857205926e-01      1      1   0   0   0   0   0\n",
      "   1:   2.2810225901204735e+00  -4.5725312717125638e-01      2      1   0   0   0   0   1\n",
      "---------------------------------------------------------------------------------------------\n",
      "   2:  -1.9654952267295528e-01   9.8049389857205926e-01      1      0   1   0   0   0   0\n",
      "   2:   2.2810225901204735e+00   4.5725312717125638e-01      2      0   1   0   0   0   1\n",
      "---------------------------------------------------------------------------------------------\n",
      "   3:  -1.9540690733885246e-01  -9.8072225454726158e-01      1      0   0   1   0   0   0\n",
      "   3:   2.3517700008594504e+00  -4.6858537216776275e-01      2      0   0   1   0   0   1\n",
      "---------------------------------------------------------------------------------------------\n",
      "   4:  -1.9540690733885246e-01   9.8072225454726158e-01      1      0   0   0   1   0   0\n",
      "   4:   2.3517700008594504e+00   4.6858537216776275e-01      2      0   0   0   1   0   1\n",
      "---------------------------------------------------------------------------------------------\n",
      "   5:   1.0000000000000000e+00   0.0000000000000000e+00      1      0   0   0   0   1   0\n",
      "   5:  -1.3945975579860171e-02   0.0000000000000000e+00      1      0   0   0   0   0   1\n",
      "   5:  -2.3264016160043939e+00   0.0000000000000000e+00      2      1   1   0   0   0   0\n",
      "   5:  -2.3979979958190234e+00   0.0000000000000000e+00      2      0   0   1   1   0   0\n",
      "   5:  -2.3202741736933086e-02   0.0000000000000000e+00      2      0   0   0   0   0   2\n",
      "---------------------------------------------------------------------------------------------\n",
      "   6:   1.0000000000000000e+00   0.0000000000000000e+00      1      0   0   0   0   0   1\n",
      ", nothing, nothing)\n"
     ]
    }
   ],
   "source": [
    "c = jl.c_map(m)\n",
    "ci = jl.inv(c)\n",
    "r_phasor = ci * r * c\n",
    "print(r_phasor)"
   ]
  },
  {
   "cell_type": "markdown",
   "id": "3b6b0502",
   "metadata": {},
   "source": [
    "Not only is differentiability necessary to compute and analyze high order Taylor maps, it also allows us to compute exact derivatives of anything we want. This includes the parameters, e.g. the quadrupole strengths. Using `SciBmad`, we can compute the tune $\\nu_x$ as a function of variations in the quadrupole strength, e.g. $\\nu_x=\\nu_x(K_{n1})$"
   ]
  },
  {
   "cell_type": "code",
   "execution_count": null,
   "id": "d1ceef5a",
   "metadata": {},
   "outputs": [],
   "source": [
    "# Now let's get the tune as a function of the quadrupole strength. "
   ]
  },
  {
   "cell_type": "code",
   "execution_count": null,
   "id": "2639809d",
   "metadata": {},
   "outputs": [
    {
     "ename": "LoadError",
     "evalue": "UndefVarError: `track` not defined in `Main`\nSuggestion: check for spelling errors or missing imports.",
     "output_type": "error",
     "traceback": [
      "UndefVarError: `track` not defined in `Main`\nSuggestion: check for spelling errors or missing imports.",
      "",
      "Stacktrace:",
      " [1] top-level scope",
      "\u001b[90m   @\u001b[39m \u001b[90m\u001b[4mIn[21]:8\u001b[24m\u001b[39m"
     ]
    }
   ],
   "source": [
    "# Let's track some particles\n",
    "# Initialize distribution with varying initial x\n",
    "N_particles = 10\n",
    "N_turns = 40\n",
    "x_max = 1e-5\n",
    "v = zeros(N_particles, 6) # N_particles x 6 array\n",
    "v[:,1] =  range(0, stop=x_max, length=N_particles)\n",
    "res = track(v, fodo; N_turns=N_turns)\n",
    "plt = scatter()\n",
    "for i in 1:N_particles\n",
    "    # Plot x and px\n",
    "    scatter!(plt, res[i,:,1], res[i,:,2])\n",
    "end\n",
    "display(plt)"
   ]
  },
  {
   "cell_type": "code",
   "execution_count": null,
   "id": "09f496a4",
   "metadata": {},
   "outputs": [
    {
     "data": {
      "text/plain": [
       "Table with 23 columns and 11 rows:\n",
       "      s     phi_1       beta_1   alpha_1    phi_2      beta_2   alpha_2    ⋯\n",
       "    ┌───────────────────────────────────────────────────────────────────────\n",
       " 1  │ 0.0   0.0         26.0051  -2.34866   0.0        4.96648  0.49489    ⋯\n",
       " 2  │ 0.5   0.00301456  26.005   2.34873    0.0162928  4.96648  -0.49489   ⋯\n",
       " 3  │ 0.7   0.00426109  25.0756  2.29861    0.0225735  5.17446  -0.545023  ⋯\n",
       " 4  │ 1.3   0.00829008  22.4074  2.14826    0.0398629  5.91872  -0.695422  ⋯\n",
       " 5  │ 7.3   0.0978414   5.64482  0.644985   0.125237   23.2877  -2.19941   ⋯\n",
       " 6  │ 7.9   0.115925    4.96114  0.494475   0.129117   26.0172  -2.3498    ⋯\n",
       " 7  │ 8.4   0.132236    4.96114  -0.494463  0.13213    26.0172  2.3498     ⋯\n",
       " 8  │ 8.6   0.138523    5.16896  -0.544633  0.133376   25.0873  2.29967    ⋯\n",
       " 9  │ 9.2   0.15583     5.91282  -0.695142  0.137403   22.418   2.14927    ⋯\n",
       " 10 │ 15.2  0.241265    23.2769  -2.19832   0.226889   5.65058  0.645289   ⋯\n",
       " 11 │ 15.8  0.245146    26.0051  -2.34866   0.244954   4.96648  0.49489    ⋯"
      ]
     },
     "execution_count": 21,
     "metadata": {},
     "output_type": "execute_result"
    }
   ],
   "source": [
    "# Compute Twiss parameters\n",
    "t = twiss(fodo)"
   ]
  },
  {
   "cell_type": "code",
   "execution_count": null,
   "id": "a1dd2a33",
   "metadata": {},
   "outputs": [
    {
     "data": {
      "image/png": "[encoded data removed]",
      "image/svg+xml": [
       "<?xml version=\"1.0\" encoding=\"utf-8\"?>\n",
       "<svg xmlns=\"http://www.w3.org/2000/svg\" xmlns:xlink=\"http://www.w3.org/1999/xlink\" width=\"600\" height=\"400\" viewBox=\"0 0 2400 1600\">\n",
       "<defs>\n",
       "  <clipPath id=\"clip830\">\n",
       "    <rect x=\"0\" y=\"0\" width=\"2400\" height=\"1600\"/>\n",
       "  </clipPath>\n",
       "</defs>\n",
       "<path clip-path=\"url(#clip830)\" d=\"M0 1600 L2400 1600 L2400 0 L0 0  Z\" fill=\"#ffffff\" fill-rule=\"evenodd\" fill-opacity=\"1\"/>\n",
       "<defs>\n",
       "  <clipPath id=\"clip831\">\n",
       "    <rect x=\"480\" y=\"0\" width=\"1681\" height=\"1600\"/>\n",
       "  </clipPath>\n",
       "</defs>\n",
       "<path clip-path=\"url(#clip830)\" d=\"M203.964 1423.18 L2352.76 1423.18 L2352.76 47.2441 L203.964 47.2441  Z\" fill=\"#ffffff\" fill-rule=\"evenodd\" fill-opacity=\"1\"/>\n",
       "<defs>\n",
       "  <clipPath id=\"clip832\">\n",
       "    <rect x=\"203\" y=\"47\" width=\"2150\" height=\"1377\"/>\n",
       "  </clipPath>\n",
       "</defs>\n",
       "<polyline clip-path=\"url(#clip832)\" style=\"stroke:#000000; stroke-linecap:round; stroke-linejoin:round; stroke-width:2; stroke-opacity:0.1; fill:none\" points=\"264.778,1423.18 264.778,47.2441 \"/>\n",
       "<polyline clip-path=\"url(#clip832)\" style=\"stroke:#000000; stroke-linecap:round; stroke-linejoin:round; stroke-width:2; stroke-opacity:0.1; fill:none\" points=\"906.286,1423.18 906.286,47.2441 \"/>\n",
       "<polyline clip-path=\"url(#clip832)\" style=\"stroke:#000000; stroke-linecap:round; stroke-linejoin:round; stroke-width:2; stroke-opacity:0.1; fill:none\" points=\"1547.79,1423.18 1547.79,47.2441 \"/>\n",
       "<polyline clip-path=\"url(#clip832)\" style=\"stroke:#000000; stroke-linecap:round; stroke-linejoin:round; stroke-width:2; stroke-opacity:0.1; fill:none\" points=\"2189.3,1423.18 2189.3,47.2441 \"/>\n",
       "<polyline clip-path=\"url(#clip832)\" style=\"stroke:#000000; stroke-linecap:round; stroke-linejoin:round; stroke-width:2; stroke-opacity:0.1; fill:none\" points=\"203.964,1381.84 2352.76,1381.84 \"/>\n",
       "<polyline clip-path=\"url(#clip832)\" style=\"stroke:#000000; stroke-linecap:round; stroke-linejoin:round; stroke-width:2; stroke-opacity:0.1; fill:none\" points=\"203.964,1073.61 2352.76,1073.61 \"/>\n",
       "<polyline clip-path=\"url(#clip832)\" style=\"stroke:#000000; stroke-linecap:round; stroke-linejoin:round; stroke-width:2; stroke-opacity:0.1; fill:none\" points=\"203.964,765.368 2352.76,765.368 \"/>\n",
       "<polyline clip-path=\"url(#clip832)\" style=\"stroke:#000000; stroke-linecap:round; stroke-linejoin:round; stroke-width:2; stroke-opacity:0.1; fill:none\" points=\"203.964,457.131 2352.76,457.131 \"/>\n",
       "<polyline clip-path=\"url(#clip832)\" style=\"stroke:#000000; stroke-linecap:round; stroke-linejoin:round; stroke-width:2; stroke-opacity:0.1; fill:none\" points=\"203.964,148.894 2352.76,148.894 \"/>\n",
       "<polyline clip-path=\"url(#clip830)\" style=\"stroke:#000000; stroke-linecap:round; stroke-linejoin:round; stroke-width:4; stroke-opacity:1; fill:none\" points=\"203.964,1423.18 2352.76,1423.18 \"/>\n",
       "<polyline clip-path=\"url(#clip830)\" style=\"stroke:#000000; stroke-linecap:round; stroke-linejoin:round; stroke-width:4; stroke-opacity:1; fill:none\" points=\"264.778,1423.18 264.778,1404.28 \"/>\n",
       "<polyline clip-path=\"url(#clip830)\" style=\"stroke:#000000; stroke-linecap:round; stroke-linejoin:round; stroke-width:4; stroke-opacity:1; fill:none\" points=\"906.286,1423.18 906.286,1404.28 \"/>\n",
       "<polyline clip-path=\"url(#clip830)\" style=\"stroke:#000000; stroke-linecap:round; stroke-linejoin:round; stroke-width:4; stroke-opacity:1; fill:none\" points=\"1547.79,1423.18 1547.79,1404.28 \"/>\n",
       "<polyline clip-path=\"url(#clip830)\" style=\"stroke:#000000; stroke-linecap:round; stroke-linejoin:round; stroke-width:4; stroke-opacity:1; fill:none\" points=\"2189.3,1423.18 2189.3,1404.28 \"/>\n",
       "<path clip-path=\"url(#clip830)\" d=\"M264.778 1454.1 Q261.167 1454.1 259.339 1457.66 Q257.533 1461.2 257.533 1468.33 Q257.533 1475.44 259.339 1479.01 Q261.167 1482.55 264.778 1482.55 Q268.413 1482.55 270.218 1479.01 Q272.047 1475.44 272.047 1468.33 Q272.047 1461.2 270.218 1457.66 Q268.413 1454.1 264.778 1454.1 M264.778 1450.39 Q270.589 1450.39 273.644 1455 Q276.723 1459.58 276.723 1468.33 Q276.723 1477.06 273.644 1481.67 Q270.589 1486.25 264.778 1486.25 Q258.968 1486.25 255.89 1481.67 Q252.834 1477.06 252.834 1468.33 Q252.834 1459.58 255.89 1455 Q258.968 1450.39 264.778 1450.39 Z\" fill=\"#000000\" fill-rule=\"nonzero\" fill-opacity=\"1\" /><path clip-path=\"url(#clip830)\" d=\"M896.563 1451.02 L914.92 1451.02 L914.92 1454.96 L900.846 1454.96 L900.846 1463.43 Q901.864 1463.08 902.883 1462.92 Q903.901 1462.73 904.92 1462.73 Q910.707 1462.73 914.086 1465.9 Q917.466 1469.08 917.466 1474.49 Q917.466 1480.07 913.994 1483.17 Q910.522 1486.25 904.202 1486.25 Q902.026 1486.25 899.758 1485.88 Q897.512 1485.51 895.105 1484.77 L895.105 1480.07 Q897.188 1481.2 899.411 1481.76 Q901.633 1482.32 904.11 1482.32 Q908.114 1482.32 910.452 1480.21 Q912.79 1478.1 912.79 1474.49 Q912.79 1470.88 910.452 1468.77 Q908.114 1466.67 904.11 1466.67 Q902.235 1466.67 900.36 1467.08 Q898.508 1467.5 896.563 1468.38 L896.563 1451.02 Z\" fill=\"#000000\" fill-rule=\"nonzero\" fill-opacity=\"1\" /><path clip-path=\"url(#clip830)\" d=\"M1522.48 1481.64 L1530.12 1481.64 L1530.12 1455.28 L1521.81 1456.95 L1521.81 1452.69 L1530.07 1451.02 L1534.75 1451.02 L1534.75 1481.64 L1542.39 1481.64 L1542.39 1485.58 L1522.48 1485.58 L1522.48 1481.64 Z\" fill=\"#000000\" fill-rule=\"nonzero\" fill-opacity=\"1\" /><path clip-path=\"url(#clip830)\" d=\"M1561.83 1454.1 Q1558.22 1454.1 1556.39 1457.66 Q1554.59 1461.2 1554.59 1468.33 Q1554.59 1475.44 1556.39 1479.01 Q1558.22 1482.55 1561.83 1482.55 Q1565.47 1482.55 1567.27 1479.01 Q1569.1 1475.44 1569.1 1468.33 Q1569.1 1461.2 1567.27 1457.66 Q1565.47 1454.1 1561.83 1454.1 M1561.83 1450.39 Q1567.64 1450.39 1570.7 1455 Q1573.78 1459.58 1573.78 1468.33 Q1573.78 1477.06 1570.7 1481.67 Q1567.64 1486.25 1561.83 1486.25 Q1556.02 1486.25 1552.94 1481.67 Q1549.89 1477.06 1549.89 1468.33 Q1549.89 1459.58 1552.94 1455 Q1556.02 1450.39 1561.83 1450.39 Z\" fill=\"#000000\" fill-rule=\"nonzero\" fill-opacity=\"1\" /><path clip-path=\"url(#clip830)\" d=\"M2164.49 1481.64 L2172.12 1481.64 L2172.12 1455.28 L2163.81 1456.95 L2163.81 1452.69 L2172.08 1451.02 L2176.75 1451.02 L2176.75 1481.64 L2184.39 1481.64 L2184.39 1485.58 L2164.49 1485.58 L2164.49 1481.64 Z\" fill=\"#000000\" fill-rule=\"nonzero\" fill-opacity=\"1\" /><path clip-path=\"url(#clip830)\" d=\"M2193.88 1451.02 L2212.24 1451.02 L2212.24 1454.96 L2198.17 1454.96 L2198.17 1463.43 Q2199.18 1463.08 2200.2 1462.92 Q2201.22 1462.73 2202.24 1462.73 Q2208.03 1462.73 2211.41 1465.9 Q2214.79 1469.08 2214.79 1474.49 Q2214.79 1480.07 2211.31 1483.17 Q2207.84 1486.25 2201.52 1486.25 Q2199.35 1486.25 2197.08 1485.88 Q2194.83 1485.51 2192.42 1484.77 L2192.42 1480.07 Q2194.51 1481.2 2196.73 1481.76 Q2198.95 1482.32 2201.43 1482.32 Q2205.43 1482.32 2207.77 1480.21 Q2210.11 1478.1 2210.11 1474.49 Q2210.11 1470.88 2207.77 1468.77 Q2205.43 1466.67 2201.43 1466.67 Q2199.55 1466.67 2197.68 1467.08 Q2195.83 1467.5 2193.88 1468.38 L2193.88 1451.02 Z\" fill=\"#000000\" fill-rule=\"nonzero\" fill-opacity=\"1\" /><path clip-path=\"url(#clip830)\" d=\"M1223.74 1533.45 L1223.74 1538.98 Q1221.26 1537.71 1218.59 1537.07 Q1215.91 1536.44 1213.05 1536.44 Q1208.69 1536.44 1206.49 1537.77 Q1204.33 1539.11 1204.33 1541.79 Q1204.33 1543.82 1205.89 1545 Q1207.45 1546.15 1212.16 1547.2 L1214.16 1547.64 Q1220.4 1548.98 1223.01 1551.43 Q1225.65 1553.85 1225.65 1558.21 Q1225.65 1563.17 1221.7 1566.07 Q1217.79 1568.97 1210.92 1568.97 Q1208.05 1568.97 1204.93 1568.39 Q1201.84 1567.85 1198.41 1566.74 L1198.41 1560.69 Q1201.65 1562.38 1204.8 1563.24 Q1207.96 1564.07 1211.04 1564.07 Q1215.18 1564.07 1217.41 1562.66 Q1219.64 1561.23 1219.64 1558.65 Q1219.64 1556.27 1218.01 1554.99 Q1216.42 1553.72 1210.98 1552.54 L1208.94 1552.07 Q1203.5 1550.92 1201.08 1548.56 Q1198.66 1546.18 1198.66 1542.04 Q1198.66 1537.01 1202.23 1534.27 Q1205.79 1531.54 1212.35 1531.54 Q1215.59 1531.54 1218.46 1532.01 Q1221.32 1532.49 1223.74 1533.45 Z\" fill=\"#000000\" fill-rule=\"nonzero\" fill-opacity=\"1\" /><path clip-path=\"url(#clip830)\" d=\"M1255.16 1518.52 L1268.65 1518.52 L1268.65 1523.07 L1261.01 1523.07 L1261.01 1572.09 L1268.65 1572.09 L1268.65 1576.64 L1255.16 1576.64 L1255.16 1518.52 Z\" fill=\"#000000\" fill-rule=\"nonzero\" fill-opacity=\"1\" /><path clip-path=\"url(#clip830)\" d=\"M1308.88 1539.24 Q1311.08 1535.29 1314.14 1533.41 Q1317.19 1531.54 1321.33 1531.54 Q1326.9 1531.54 1329.92 1535.45 Q1332.95 1539.33 1332.95 1546.53 L1332.95 1568.04 L1327.06 1568.04 L1327.06 1546.72 Q1327.06 1541.59 1325.24 1539.11 Q1323.43 1536.63 1319.71 1536.63 Q1315.15 1536.63 1312.51 1539.65 Q1309.87 1542.68 1309.87 1547.9 L1309.87 1568.04 L1303.98 1568.04 L1303.98 1546.72 Q1303.98 1541.56 1302.17 1539.11 Q1300.35 1536.63 1296.57 1536.63 Q1292.08 1536.63 1289.44 1539.68 Q1286.79 1542.71 1286.79 1547.9 L1286.79 1568.04 L1280.91 1568.04 L1280.91 1532.4 L1286.79 1532.4 L1286.79 1537.93 Q1288.8 1534.66 1291.6 1533.1 Q1294.4 1531.54 1298.25 1531.54 Q1302.14 1531.54 1304.84 1533.51 Q1307.58 1535.48 1308.88 1539.24 Z\" fill=\"#000000\" fill-rule=\"nonzero\" fill-opacity=\"1\" /><path clip-path=\"url(#clip830)\" d=\"M1358.31 1518.52 L1358.31 1576.64 L1344.82 1576.64 L1344.82 1572.09 L1352.42 1572.09 L1352.42 1523.07 L1344.82 1523.07 L1344.82 1518.52 L1358.31 1518.52 Z\" fill=\"#000000\" fill-rule=\"nonzero\" fill-opacity=\"1\" /><polyline clip-path=\"url(#clip830)\" style=\"stroke:#000000; stroke-linecap:round; stroke-linejoin:round; stroke-width:4; stroke-opacity:1; fill:none\" points=\"203.964,1423.18 203.964,47.2441 \"/>\n",
       "<polyline clip-path=\"url(#clip830)\" style=\"stroke:#000000; stroke-linecap:round; stroke-linejoin:round; stroke-width:4; stroke-opacity:1; fill:none\" points=\"203.964,1381.84 222.861,1381.84 \"/>\n",
       "<polyline clip-path=\"url(#clip830)\" style=\"stroke:#000000; stroke-linecap:round; stroke-linejoin:round; stroke-width:4; stroke-opacity:1; fill:none\" points=\"203.964,1073.61 222.861,1073.61 \"/>\n",
       "<polyline clip-path=\"url(#clip830)\" style=\"stroke:#000000; stroke-linecap:round; stroke-linejoin:round; stroke-width:4; stroke-opacity:1; fill:none\" points=\"203.964,765.368 222.861,765.368 \"/>\n",
       "<polyline clip-path=\"url(#clip830)\" style=\"stroke:#000000; stroke-linecap:round; stroke-linejoin:round; stroke-width:4; stroke-opacity:1; fill:none\" points=\"203.964,457.131 222.861,457.131 \"/>\n",
       "<polyline clip-path=\"url(#clip830)\" style=\"stroke:#000000; stroke-linecap:round; stroke-linejoin:round; stroke-width:4; stroke-opacity:1; fill:none\" points=\"203.964,148.894 222.861,148.894 \"/>\n",
       "<path clip-path=\"url(#clip830)\" d=\"M147.061 1364.56 L165.417 1364.56 L165.417 1368.5 L151.343 1368.5 L151.343 1376.97 Q152.362 1376.62 153.38 1376.46 Q154.399 1376.28 155.417 1376.28 Q161.204 1376.28 164.584 1379.45 Q167.964 1382.62 167.964 1388.03 Q167.964 1393.61 164.491 1396.72 Q161.019 1399.79 154.7 1399.79 Q152.524 1399.79 150.255 1399.42 Q148.01 1399.05 145.603 1398.31 L145.603 1393.61 Q147.686 1394.75 149.908 1395.3 Q152.13 1395.86 154.607 1395.86 Q158.612 1395.86 160.95 1393.75 Q163.288 1391.65 163.288 1388.03 Q163.288 1384.42 160.95 1382.32 Q158.612 1380.21 154.607 1380.21 Q152.732 1380.21 150.857 1380.63 Q149.005 1381.04 147.061 1381.92 L147.061 1364.56 Z\" fill=\"#000000\" fill-rule=\"nonzero\" fill-opacity=\"1\" /><path clip-path=\"url(#clip830)\" d=\"M116.668 1086.95 L124.306 1086.95 L124.306 1060.58 L115.996 1062.25 L115.996 1057.99 L124.26 1056.33 L128.936 1056.33 L128.936 1086.95 L136.575 1086.95 L136.575 1090.89 L116.668 1090.89 L116.668 1086.95 Z\" fill=\"#000000\" fill-rule=\"nonzero\" fill-opacity=\"1\" /><path clip-path=\"url(#clip830)\" d=\"M156.019 1059.4 Q152.408 1059.4 150.579 1062.97 Q148.774 1066.51 148.774 1073.64 Q148.774 1080.75 150.579 1084.31 Q152.408 1087.85 156.019 1087.85 Q159.653 1087.85 161.459 1084.31 Q163.288 1080.75 163.288 1073.64 Q163.288 1066.51 161.459 1062.97 Q159.653 1059.4 156.019 1059.4 M156.019 1055.7 Q161.829 1055.7 164.885 1060.31 Q167.964 1064.89 167.964 1073.64 Q167.964 1082.37 164.885 1086.97 Q161.829 1091.56 156.019 1091.56 Q150.209 1091.56 147.13 1086.97 Q144.075 1082.37 144.075 1073.64 Q144.075 1064.89 147.13 1060.31 Q150.209 1055.7 156.019 1055.7 Z\" fill=\"#000000\" fill-rule=\"nonzero\" fill-opacity=\"1\" /><path clip-path=\"url(#clip830)\" d=\"M117.663 778.713 L125.302 778.713 L125.302 752.348 L116.992 754.014 L116.992 749.755 L125.255 748.088 L129.931 748.088 L129.931 778.713 L137.57 778.713 L137.57 782.648 L117.663 782.648 L117.663 778.713 Z\" fill=\"#000000\" fill-rule=\"nonzero\" fill-opacity=\"1\" /><path clip-path=\"url(#clip830)\" d=\"M147.061 748.088 L165.417 748.088 L165.417 752.023 L151.343 752.023 L151.343 760.496 Q152.362 760.148 153.38 759.986 Q154.399 759.801 155.417 759.801 Q161.204 759.801 164.584 762.972 Q167.964 766.144 167.964 771.56 Q167.964 777.139 164.491 780.241 Q161.019 783.32 154.7 783.32 Q152.524 783.32 150.255 782.949 Q148.01 782.579 145.603 781.838 L145.603 777.139 Q147.686 778.273 149.908 778.829 Q152.13 779.384 154.607 779.384 Q158.612 779.384 160.95 777.278 Q163.288 775.171 163.288 771.56 Q163.288 767.949 160.95 765.843 Q158.612 763.736 154.607 763.736 Q152.732 763.736 150.857 764.153 Q149.005 764.57 147.061 765.449 L147.061 748.088 Z\" fill=\"#000000\" fill-rule=\"nonzero\" fill-opacity=\"1\" /><path clip-path=\"url(#clip830)\" d=\"M119.885 470.476 L136.204 470.476 L136.204 474.411 L114.26 474.411 L114.26 470.476 Q116.922 467.721 121.505 463.092 Q126.112 458.439 127.292 457.097 Q129.538 454.573 130.417 452.837 Q131.32 451.078 131.32 449.388 Q131.32 446.634 129.376 444.898 Q127.455 443.161 124.353 443.161 Q122.154 443.161 119.7 443.925 Q117.269 444.689 114.492 446.24 L114.492 441.518 Q117.316 440.384 119.769 439.805 Q122.223 439.226 124.26 439.226 Q129.63 439.226 132.825 441.911 Q136.019 444.597 136.019 449.087 Q136.019 451.217 135.209 453.138 Q134.422 455.036 132.316 457.629 Q131.737 458.3 128.635 461.518 Q125.533 464.712 119.885 470.476 Z\" fill=\"#000000\" fill-rule=\"nonzero\" fill-opacity=\"1\" /><path clip-path=\"url(#clip830)\" d=\"M156.019 442.93 Q152.408 442.93 150.579 446.495 Q148.774 450.036 148.774 457.166 Q148.774 464.272 150.579 467.837 Q152.408 471.379 156.019 471.379 Q159.653 471.379 161.459 467.837 Q163.288 464.272 163.288 457.166 Q163.288 450.036 161.459 446.495 Q159.653 442.93 156.019 442.93 M156.019 439.226 Q161.829 439.226 164.885 443.833 Q167.964 448.416 167.964 457.166 Q167.964 465.893 164.885 470.499 Q161.829 475.083 156.019 475.083 Q150.209 475.083 147.13 470.499 Q144.075 465.893 144.075 457.166 Q144.075 448.416 147.13 443.833 Q150.209 439.226 156.019 439.226 Z\" fill=\"#000000\" fill-rule=\"nonzero\" fill-opacity=\"1\" /><path clip-path=\"url(#clip830)\" d=\"M120.88 162.239 L137.2 162.239 L137.2 166.174 L115.256 166.174 L115.256 162.239 Q117.918 159.484 122.501 154.855 Q127.107 150.202 128.288 148.859 Q130.533 146.336 131.413 144.6 Q132.316 142.841 132.316 141.151 Q132.316 138.397 130.371 136.66 Q128.45 134.924 125.348 134.924 Q123.149 134.924 120.695 135.688 Q118.265 136.452 115.487 138.003 L115.487 133.281 Q118.311 132.147 120.765 131.568 Q123.218 130.989 125.255 130.989 Q130.626 130.989 133.82 133.674 Q137.015 136.36 137.015 140.85 Q137.015 142.98 136.204 144.901 Q135.417 146.799 133.311 149.392 Q132.732 150.063 129.63 153.281 Q126.529 156.475 120.88 162.239 Z\" fill=\"#000000\" fill-rule=\"nonzero\" fill-opacity=\"1\" /><path clip-path=\"url(#clip830)\" d=\"M147.061 131.614 L165.417 131.614 L165.417 135.549 L151.343 135.549 L151.343 144.022 Q152.362 143.674 153.38 143.512 Q154.399 143.327 155.417 143.327 Q161.204 143.327 164.584 146.498 Q167.964 149.67 167.964 155.086 Q167.964 160.665 164.491 163.767 Q161.019 166.846 154.7 166.846 Q152.524 166.846 150.255 166.475 Q148.01 166.105 145.603 165.364 L145.603 160.665 Q147.686 161.799 149.908 162.355 Q152.13 162.91 154.607 162.91 Q158.612 162.91 160.95 160.804 Q163.288 158.697 163.288 155.086 Q163.288 151.475 160.95 149.369 Q158.612 147.262 154.607 147.262 Q152.732 147.262 150.857 147.679 Q149.005 148.096 147.061 148.975 L147.061 131.614 Z\" fill=\"#000000\" fill-rule=\"nonzero\" fill-opacity=\"1\" /><path clip-path=\"url(#clip830)\" d=\"M41.3104 1014.48 L58.7206 1014.48 L58.7206 1004.16 Q58.7206 998.975 56.5881 996.492 Q54.4238 993.978 49.9996 993.978 Q45.5436 993.978 43.4429 996.492 Q41.3104 998.975 41.3104 1004.16 L41.3104 1014.48 M21.7677 1014.48 L36.0905 1014.48 L36.0905 1004.96 Q36.0905 1000.25 34.34 997.957 Q32.5576 995.633 28.9291 995.633 Q25.3325 995.633 23.5501 997.957 Q21.7677 1000.25 21.7677 1004.96 L21.7677 1014.48 M16.4842 1020.9 L16.4842 1004.48 Q16.4842 997.129 19.5397 993.15 Q22.5952 989.172 28.2289 989.172 Q32.5894 989.172 35.1675 991.209 Q37.7456 993.246 38.3822 997.193 Q39.4007 992.45 42.6472 989.84 Q45.8619 987.198 50.6998 987.198 Q57.0655 987.198 60.5348 991.527 Q64.0042 995.856 64.0042 1003.84 L64.0042 1020.9 L16.4842 1020.9 Z\" fill=\"#000000\" fill-rule=\"nonzero\" fill-opacity=\"1\" /><path clip-path=\"url(#clip830)\" d=\"M44.7161 945.949 L47.5806 945.949 L47.5806 972.876 Q53.6281 972.494 56.8109 969.247 Q59.9619 965.969 59.9619 960.144 Q59.9619 956.77 59.1344 953.619 Q58.3069 950.437 56.6518 947.317 L62.1899 947.317 Q63.5267 950.468 64.227 953.779 Q64.9272 957.089 64.9272 960.494 Q64.9272 969.024 59.9619 974.021 Q54.9967 978.987 46.5303 978.987 Q37.7774 978.987 32.6531 974.276 Q27.4968 969.534 27.4968 961.513 Q27.4968 954.32 32.1438 950.15 Q36.7589 945.949 44.7161 945.949 M42.9973 951.805 Q38.1912 951.869 35.3266 954.511 Q32.4621 957.121 32.4621 961.449 Q32.4621 966.351 35.2312 969.311 Q38.0002 972.239 43.0292 972.685 L42.9973 951.805 Z\" fill=\"#000000\" fill-rule=\"nonzero\" fill-opacity=\"1\" /><path clip-path=\"url(#clip830)\" d=\"M18.2347 930.544 L28.3562 930.544 L28.3562 918.481 L32.9077 918.481 L32.9077 930.544 L52.2594 930.544 Q56.6199 930.544 57.8613 929.366 Q59.1026 928.157 59.1026 924.496 L59.1026 918.481 L64.0042 918.481 L64.0042 924.496 Q64.0042 931.276 61.4897 933.854 Q58.9434 936.432 52.2594 936.432 L32.9077 936.432 L32.9077 940.729 L28.3562 940.729 L28.3562 936.432 L18.2347 936.432 L18.2347 930.544 Z\" fill=\"#000000\" fill-rule=\"nonzero\" fill-opacity=\"1\" /><path clip-path=\"url(#clip830)\" d=\"M46.0847 894.577 Q46.0847 901.675 47.7079 904.412 Q49.3312 907.15 53.2461 907.15 Q56.3653 907.15 58.2114 905.113 Q60.0256 903.044 60.0256 899.511 Q60.0256 894.641 56.5881 891.713 Q53.1188 888.753 47.3897 888.753 L46.0847 888.753 L46.0847 894.577 M43.6657 882.896 L64.0042 882.896 L64.0042 888.753 L58.5933 888.753 Q61.8398 890.758 63.3994 893.75 Q64.9272 896.742 64.9272 901.07 Q64.9272 906.545 61.8716 909.791 Q58.7843 913.006 53.6281 913.006 Q47.6125 913.006 44.5569 908.996 Q41.5014 904.954 41.5014 896.965 L41.5014 888.753 L40.9285 888.753 Q36.8862 888.753 34.6901 891.426 Q32.4621 894.068 32.4621 898.874 Q32.4621 901.93 33.1941 904.826 Q33.9262 907.723 35.3903 910.396 L29.9795 910.396 Q28.7381 907.182 28.1334 904.158 Q27.4968 901.134 27.4968 898.27 Q27.4968 890.535 31.5072 886.716 Q35.5176 882.896 43.6657 882.896 Z\" fill=\"#000000\" fill-rule=\"nonzero\" fill-opacity=\"1\" /><path clip-path=\"url(#clip830)\" d=\"M16.4842 849.858 L16.4842 822.549 L21.895 822.549 L21.895 843.429 L35.8996 843.429 L35.8996 824.586 L41.3104 824.586 L41.3104 843.429 L64.0042 843.429 L64.0042 849.858 L16.4842 849.858 Z\" fill=\"#000000\" fill-rule=\"nonzero\" fill-opacity=\"1\" /><path clip-path=\"url(#clip830)\" d=\"M49.9359 816.788 L28.3562 816.788 L28.3562 810.932 L49.7131 810.932 Q54.7739 810.932 57.3202 808.959 Q59.8346 806.985 59.8346 803.039 Q59.8346 798.296 56.8109 795.559 Q53.7872 792.79 48.5673 792.79 L28.3562 792.79 L28.3562 786.933 L64.0042 786.933 L64.0042 792.79 L58.5296 792.79 Q61.7762 794.922 63.3676 797.755 Q64.9272 800.556 64.9272 804.28 Q64.9272 810.423 61.1078 813.606 Q57.2883 816.788 49.9359 816.788 M27.4968 802.052 L27.4968 802.052 Z\" fill=\"#000000\" fill-rule=\"nonzero\" fill-opacity=\"1\" /><path clip-path=\"url(#clip830)\" d=\"M42.4881 745.238 L64.0042 745.238 L64.0042 751.094 L42.679 751.094 Q37.6183 751.094 35.1038 753.068 Q32.5894 755.041 32.5894 758.988 Q32.5894 763.73 35.6131 766.468 Q38.6368 769.205 43.8567 769.205 L64.0042 769.205 L64.0042 775.093 L28.3562 775.093 L28.3562 769.205 L33.8944 769.205 Q30.6797 767.104 29.0883 764.271 Q27.4968 761.407 27.4968 757.683 Q27.4968 751.54 31.3163 748.389 Q35.1038 745.238 42.4881 745.238 Z\" fill=\"#000000\" fill-rule=\"nonzero\" fill-opacity=\"1\" /><path clip-path=\"url(#clip830)\" d=\"M29.7248 707.903 L35.1993 707.903 Q33.8307 710.386 33.1623 712.9 Q32.4621 715.383 32.4621 717.929 Q32.4621 723.626 36.0905 726.777 Q39.6872 729.928 46.212 729.928 Q52.7369 729.928 56.3653 726.777 Q59.9619 723.626 59.9619 717.929 Q59.9619 715.383 59.2935 712.9 Q58.5933 710.386 57.2247 707.903 L62.6355 707.903 Q63.7814 710.354 64.3543 712.996 Q64.9272 715.606 64.9272 718.566 Q64.9272 726.618 59.8664 731.361 Q54.8057 736.103 46.212 736.103 Q37.491 736.103 32.4939 731.329 Q27.4968 726.523 27.4968 718.184 Q27.4968 715.478 28.0697 712.9 Q28.6108 710.322 29.7248 707.903 Z\" fill=\"#000000\" fill-rule=\"nonzero\" fill-opacity=\"1\" /><path clip-path=\"url(#clip830)\" d=\"M18.2347 691.925 L28.3562 691.925 L28.3562 679.862 L32.9077 679.862 L32.9077 691.925 L52.2594 691.925 Q56.6199 691.925 57.8613 690.748 Q59.1026 689.538 59.1026 685.878 L59.1026 679.862 L64.0042 679.862 L64.0042 685.878 Q64.0042 692.657 61.4897 695.235 Q58.9434 697.813 52.2594 697.813 L32.9077 697.813 L32.9077 702.11 L28.3562 702.11 L28.3562 697.813 L18.2347 697.813 L18.2347 691.925 Z\" fill=\"#000000\" fill-rule=\"nonzero\" fill-opacity=\"1\" /><path clip-path=\"url(#clip830)\" d=\"M28.3562 672.16 L28.3562 666.303 L64.0042 666.303 L64.0042 672.16 L28.3562 672.16 M14.479 672.16 L14.479 666.303 L21.895 666.303 L21.895 672.16 L14.479 672.16 Z\" fill=\"#000000\" fill-rule=\"nonzero\" fill-opacity=\"1\" /><path clip-path=\"url(#clip830)\" d=\"M32.4621 640.236 Q32.4621 644.946 36.1542 647.684 Q39.8145 650.421 46.212 650.421 Q52.6095 650.421 56.3017 647.715 Q59.9619 644.978 59.9619 640.236 Q59.9619 635.557 56.2698 632.82 Q52.5777 630.082 46.212 630.082 Q39.8781 630.082 36.186 632.82 Q32.4621 635.557 32.4621 640.236 M27.4968 640.236 Q27.4968 632.597 32.4621 628.236 Q37.4273 623.876 46.212 623.876 Q54.9649 623.876 59.9619 628.236 Q64.9272 632.597 64.9272 640.236 Q64.9272 647.906 59.9619 652.267 Q54.9649 656.595 46.212 656.595 Q37.4273 656.595 32.4621 652.267 Q27.4968 647.906 27.4968 640.236 Z\" fill=\"#000000\" fill-rule=\"nonzero\" fill-opacity=\"1\" /><path clip-path=\"url(#clip830)\" d=\"M42.4881 584.536 L64.0042 584.536 L64.0042 590.392 L42.679 590.392 Q37.6183 590.392 35.1038 592.366 Q32.5894 594.339 32.5894 598.286 Q32.5894 603.028 35.6131 605.765 Q38.6368 608.503 43.8567 608.503 L64.0042 608.503 L64.0042 614.391 L28.3562 614.391 L28.3562 608.503 L33.8944 608.503 Q30.6797 606.402 29.0883 603.569 Q27.4968 600.705 27.4968 596.981 Q27.4968 590.838 31.3163 587.687 Q35.1038 584.536 42.4881 584.536 Z\" fill=\"#000000\" fill-rule=\"nonzero\" fill-opacity=\"1\" /><path clip-path=\"url(#clip830)\" d=\"M14.479 552.675 L14.479 539.18 L19.0304 539.18 L19.0304 546.819 L68.0464 546.819 L68.0464 539.18 L72.5979 539.18 L72.5979 552.675 L14.479 552.675 Z\" fill=\"#000000\" fill-rule=\"nonzero\" fill-opacity=\"1\" /><path clip-path=\"url(#clip830)\" d=\"M35.1993 498.949 Q31.2526 496.753 29.3747 493.697 Q27.4968 490.642 27.4968 486.504 Q27.4968 480.934 31.4117 477.91 Q35.2948 474.886 42.4881 474.886 L64.0042 474.886 L64.0042 480.775 L42.679 480.775 Q37.5546 480.775 35.072 482.589 Q32.5894 484.403 32.5894 488.127 Q32.5894 492.679 35.6131 495.32 Q38.6368 497.962 43.8567 497.962 L64.0042 497.962 L64.0042 503.85 L42.679 503.85 Q37.5228 503.85 35.072 505.665 Q32.5894 507.479 32.5894 511.266 Q32.5894 515.754 35.6449 518.396 Q38.6686 521.038 43.8567 521.038 L64.0042 521.038 L64.0042 526.926 L28.3562 526.926 L28.3562 521.038 L33.8944 521.038 Q30.616 519.033 29.0564 516.232 Q27.4968 513.431 27.4968 509.579 Q27.4968 505.696 29.4702 502.991 Q31.4436 500.254 35.1993 498.949 Z\" fill=\"#000000\" fill-rule=\"nonzero\" fill-opacity=\"1\" /><path clip-path=\"url(#clip830)\" d=\"M14.479 449.519 L72.5979 449.519 L72.5979 463.014 L68.0464 463.014 L68.0464 455.407 L19.0304 455.407 L19.0304 463.014 L14.479 463.014 L14.479 449.519 Z\" fill=\"#000000\" fill-rule=\"nonzero\" fill-opacity=\"1\" /><polyline clip-path=\"url(#clip832)\" style=\"stroke:#009af9; stroke-linecap:round; stroke-linejoin:round; stroke-width:4; stroke-opacity:1; fill:none\" points=\"264.778,86.9349 328.929,86.9368 354.589,144.236 431.57,308.719 1201.38,1342.09 1278.36,1384.24 1342.51,1384.24 1368.17,1371.43 1445.15,1325.57 2214.96,255.121 2291.94,86.9349 \"/>\n",
       "<polyline clip-path=\"url(#clip832)\" style=\"stroke:#e26f46; stroke-linecap:round; stroke-linejoin:round; stroke-width:4; stroke-opacity:1; fill:none\" points=\"264.778,1383.91 328.929,1383.91 354.589,1371.09 431.57,1325.21 1201.38,254.454 1278.36,86.1857 1342.51,86.1857 1368.17,143.511 1445.15,308.071 2214.96,1341.74 2291.94,1383.91 \"/>\n",
       "<path clip-path=\"url(#clip830)\" d=\"M1912.45 248.629 L2281.13 248.629 L2281.13 93.1086 L1912.45 93.1086  Z\" fill=\"#ffffff\" fill-rule=\"evenodd\" fill-opacity=\"1\"/>\n",
       "<polyline clip-path=\"url(#clip830)\" style=\"stroke:#000000; stroke-linecap:round; stroke-linejoin:round; stroke-width:4; stroke-opacity:1; fill:none\" points=\"1912.45,248.629 2281.13,248.629 2281.13,93.1086 1912.45,93.1086 1912.45,248.629 \"/>\n",
       "<polyline clip-path=\"url(#clip830)\" style=\"stroke:#009af9; stroke-linecap:round; stroke-linejoin:round; stroke-width:4; stroke-opacity:1; fill:none\" points=\"1936.33,144.949 2079.58,144.949 \"/>\n",
       "<path clip-path=\"url(#clip830)\" d=\"M2122.23 149.289 Q2122.23 144.59 2120.29 141.928 Q2118.37 139.243 2114.99 139.243 Q2111.61 139.243 2109.66 141.928 Q2107.74 144.59 2107.74 149.289 Q2107.74 153.988 2109.66 156.673 Q2111.61 159.335 2114.99 159.335 Q2118.37 159.335 2120.29 156.673 Q2122.23 153.988 2122.23 149.289 M2107.74 140.238 Q2109.08 137.923 2111.12 136.812 Q2113.18 135.678 2116.03 135.678 Q2120.75 135.678 2123.69 139.428 Q2126.65 143.178 2126.65 149.289 Q2126.65 155.4 2123.69 159.15 Q2120.75 162.9 2116.03 162.9 Q2113.18 162.9 2111.12 161.789 Q2109.08 160.655 2107.74 158.34 L2107.74 162.229 L2103.46 162.229 L2103.46 126.21 L2107.74 126.21 L2107.74 140.238 Z\" fill=\"#000000\" fill-rule=\"nonzero\" fill-opacity=\"1\" /><path clip-path=\"url(#clip830)\" d=\"M2155.89 148.201 L2155.89 150.284 L2136.31 150.284 Q2136.58 154.682 2138.94 156.997 Q2141.33 159.289 2145.56 159.289 Q2148.02 159.289 2150.31 158.687 Q2152.62 158.085 2154.89 156.881 L2154.89 160.909 Q2152.6 161.881 2150.19 162.391 Q2147.79 162.9 2145.31 162.9 Q2139.11 162.9 2135.47 159.289 Q2131.86 155.678 2131.86 149.52 Q2131.86 143.155 2135.29 139.428 Q2138.74 135.678 2144.57 135.678 Q2149.8 135.678 2152.83 139.057 Q2155.89 142.414 2155.89 148.201 M2151.63 146.951 Q2151.58 143.456 2149.66 141.372 Q2147.76 139.289 2144.62 139.289 Q2141.05 139.289 2138.9 141.303 Q2136.77 143.317 2136.44 146.974 L2151.63 146.951 Z\" fill=\"#000000\" fill-rule=\"nonzero\" fill-opacity=\"1\" /><path clip-path=\"url(#clip830)\" d=\"M2167.09 128.942 L2167.09 136.303 L2175.87 136.303 L2175.87 139.613 L2167.09 139.613 L2167.09 153.687 Q2167.09 156.858 2167.95 157.761 Q2168.83 158.664 2171.49 158.664 L2175.87 158.664 L2175.87 162.229 L2171.49 162.229 Q2166.56 162.229 2164.69 160.4 Q2162.81 158.548 2162.81 153.687 L2162.81 139.613 L2159.69 139.613 L2159.69 136.303 L2162.81 136.303 L2162.81 128.942 L2167.09 128.942 Z\" fill=\"#000000\" fill-rule=\"nonzero\" fill-opacity=\"1\" /><path clip-path=\"url(#clip830)\" d=\"M2193.25 149.196 Q2188.09 149.196 2186.1 150.377 Q2184.11 151.557 2184.11 154.405 Q2184.11 156.673 2185.59 158.016 Q2187.09 159.335 2189.66 159.335 Q2193.2 159.335 2195.33 156.835 Q2197.49 154.312 2197.49 150.145 L2197.49 149.196 L2193.25 149.196 M2201.75 147.437 L2201.75 162.229 L2197.49 162.229 L2197.49 158.293 Q2196.03 160.655 2193.85 161.789 Q2191.68 162.9 2188.53 162.9 Q2184.55 162.9 2182.18 160.678 Q2179.85 158.432 2179.85 154.682 Q2179.85 150.307 2182.76 148.085 Q2185.7 145.863 2191.51 145.863 L2197.49 145.863 L2197.49 145.446 Q2197.49 142.507 2195.54 140.909 Q2193.62 139.289 2190.12 139.289 Q2187.9 139.289 2185.8 139.821 Q2183.69 140.354 2181.75 141.419 L2181.75 137.483 Q2184.08 136.581 2186.28 136.141 Q2188.48 135.678 2190.56 135.678 Q2196.19 135.678 2198.97 138.594 Q2201.75 141.511 2201.75 147.437 Z\" fill=\"#000000\" fill-rule=\"nonzero\" fill-opacity=\"1\" /><path clip-path=\"url(#clip830)\" d=\"M2230.22 170.099 L2230.22 173.409 L2205.59 173.409 L2205.59 170.099 L2230.22 170.099 Z\" fill=\"#000000\" fill-rule=\"nonzero\" fill-opacity=\"1\" /><path clip-path=\"url(#clip830)\" d=\"M2235.63 158.293 L2243.27 158.293 L2243.27 131.928 L2234.96 133.595 L2234.96 129.335 L2243.23 127.669 L2247.9 127.669 L2247.9 158.293 L2255.54 158.293 L2255.54 162.229 L2235.63 162.229 L2235.63 158.293 Z\" fill=\"#000000\" fill-rule=\"nonzero\" fill-opacity=\"1\" /><polyline clip-path=\"url(#clip830)\" style=\"stroke:#e26f46; stroke-linecap:round; stroke-linejoin:round; stroke-width:4; stroke-opacity:1; fill:none\" points=\"1936.33,196.789 2079.58,196.789 \"/>\n",
       "<path clip-path=\"url(#clip830)\" d=\"M2122.23 201.129 Q2122.23 196.43 2120.29 193.768 Q2118.37 191.083 2114.99 191.083 Q2111.61 191.083 2109.66 193.768 Q2107.74 196.43 2107.74 201.129 Q2107.74 205.828 2109.66 208.513 Q2111.61 211.175 2114.99 211.175 Q2118.37 211.175 2120.29 208.513 Q2122.23 205.828 2122.23 201.129 M2107.74 192.078 Q2109.08 189.763 2111.12 188.652 Q2113.18 187.518 2116.03 187.518 Q2120.75 187.518 2123.69 191.268 Q2126.65 195.018 2126.65 201.129 Q2126.65 207.24 2123.69 210.99 Q2120.75 214.74 2116.03 214.74 Q2113.18 214.74 2111.12 213.629 Q2109.08 212.495 2107.74 210.18 L2107.74 214.069 L2103.46 214.069 L2103.46 178.05 L2107.74 178.05 L2107.74 192.078 Z\" fill=\"#000000\" fill-rule=\"nonzero\" fill-opacity=\"1\" /><path clip-path=\"url(#clip830)\" d=\"M2155.89 200.041 L2155.89 202.124 L2136.31 202.124 Q2136.58 206.522 2138.94 208.837 Q2141.33 211.129 2145.56 211.129 Q2148.02 211.129 2150.31 210.527 Q2152.62 209.925 2154.89 208.721 L2154.89 212.749 Q2152.6 213.721 2150.19 214.231 Q2147.79 214.74 2145.31 214.74 Q2139.11 214.74 2135.47 211.129 Q2131.86 207.518 2131.86 201.36 Q2131.86 194.995 2135.29 191.268 Q2138.74 187.518 2144.57 187.518 Q2149.8 187.518 2152.83 190.897 Q2155.89 194.254 2155.89 200.041 M2151.63 198.791 Q2151.58 195.296 2149.66 193.212 Q2147.76 191.129 2144.62 191.129 Q2141.05 191.129 2138.9 193.143 Q2136.77 195.157 2136.44 198.814 L2151.63 198.791 Z\" fill=\"#000000\" fill-rule=\"nonzero\" fill-opacity=\"1\" /><path clip-path=\"url(#clip830)\" d=\"M2167.09 180.782 L2167.09 188.143 L2175.87 188.143 L2175.87 191.453 L2167.09 191.453 L2167.09 205.527 Q2167.09 208.698 2167.95 209.601 Q2168.83 210.504 2171.49 210.504 L2175.87 210.504 L2175.87 214.069 L2171.49 214.069 Q2166.56 214.069 2164.69 212.24 Q2162.81 210.388 2162.81 205.527 L2162.81 191.453 L2159.69 191.453 L2159.69 188.143 L2162.81 188.143 L2162.81 180.782 L2167.09 180.782 Z\" fill=\"#000000\" fill-rule=\"nonzero\" fill-opacity=\"1\" /><path clip-path=\"url(#clip830)\" d=\"M2193.25 201.036 Q2188.09 201.036 2186.1 202.217 Q2184.11 203.397 2184.11 206.245 Q2184.11 208.513 2185.59 209.856 Q2187.09 211.175 2189.66 211.175 Q2193.2 211.175 2195.33 208.675 Q2197.49 206.152 2197.49 201.985 L2197.49 201.036 L2193.25 201.036 M2201.75 199.277 L2201.75 214.069 L2197.49 214.069 L2197.49 210.133 Q2196.03 212.495 2193.85 213.629 Q2191.68 214.74 2188.53 214.74 Q2184.55 214.74 2182.18 212.518 Q2179.85 210.272 2179.85 206.522 Q2179.85 202.147 2182.76 199.925 Q2185.7 197.703 2191.51 197.703 L2197.49 197.703 L2197.49 197.286 Q2197.49 194.347 2195.54 192.749 Q2193.62 191.129 2190.12 191.129 Q2187.9 191.129 2185.8 191.661 Q2183.69 192.194 2181.75 193.259 L2181.75 189.323 Q2184.08 188.421 2186.28 187.981 Q2188.48 187.518 2190.56 187.518 Q2196.19 187.518 2198.97 190.434 Q2201.75 193.351 2201.75 199.277 Z\" fill=\"#000000\" fill-rule=\"nonzero\" fill-opacity=\"1\" /><path clip-path=\"url(#clip830)\" d=\"M2230.22 221.939 L2230.22 225.249 L2205.59 225.249 L2205.59 221.939 L2230.22 221.939 Z\" fill=\"#000000\" fill-rule=\"nonzero\" fill-opacity=\"1\" /><path clip-path=\"url(#clip830)\" d=\"M2252.83 201.129 Q2252.83 196.43 2250.89 193.768 Q2248.97 191.083 2245.59 191.083 Q2242.21 191.083 2240.26 193.768 Q2238.34 196.43 2238.34 201.129 Q2238.34 205.828 2240.26 208.513 Q2242.21 211.175 2245.59 211.175 Q2248.97 211.175 2250.89 208.513 Q2252.83 205.828 2252.83 201.129 M2238.34 192.078 Q2239.68 189.763 2241.72 188.652 Q2243.78 187.518 2246.63 187.518 Q2251.35 187.518 2254.29 191.268 Q2257.25 195.018 2257.25 201.129 Q2257.25 207.24 2254.29 210.99 Q2251.35 214.74 2246.63 214.74 Q2243.78 214.74 2241.72 213.629 Q2239.68 212.495 2238.34 210.18 L2238.34 214.069 L2234.06 214.069 L2234.06 178.05 L2238.34 178.05 L2238.34 192.078 Z\" fill=\"#000000\" fill-rule=\"nonzero\" fill-opacity=\"1\" /></svg>\n"
      ],
      "text/html": [
       "<?xml version=\"1.0\" encoding=\"utf-8\"?>\n",
       "<svg xmlns=\"http://www.w3.org/2000/svg\" xmlns:xlink=\"http://www.w3.org/1999/xlink\" width=\"600\" height=\"400\" viewBox=\"0 0 2400 1600\">\n",
       "<defs>\n",
       "  <clipPath id=\"clip880\">\n",
       "    <rect x=\"0\" y=\"0\" width=\"2400\" height=\"1600\"/>\n",
       "  </clipPath>\n",
       "</defs>\n",
       "<path clip-path=\"url(#clip880)\" d=\"M0 1600 L2400 1600 L2400 0 L0 0  Z\" fill=\"#ffffff\" fill-rule=\"evenodd\" fill-opacity=\"1\"/>\n",
       "<defs>\n",
       "  <clipPath id=\"clip881\">\n",
       "    <rect x=\"480\" y=\"0\" width=\"1681\" height=\"1600\"/>\n",
       "  </clipPath>\n",
       "</defs>\n",
       "<path clip-path=\"url(#clip880)\" d=\"M203.964 1423.18 L2352.76 1423.18 L2352.76 47.2441 L203.964 47.2441  Z\" fill=\"#ffffff\" fill-rule=\"evenodd\" fill-opacity=\"1\"/>\n",
       "<defs>\n",
       "  <clipPath id=\"clip882\">\n",
       "    <rect x=\"203\" y=\"47\" width=\"2150\" height=\"1377\"/>\n",
       "  </clipPath>\n",
       "</defs>\n",
       "<polyline clip-path=\"url(#clip882)\" style=\"stroke:#000000; stroke-linecap:round; stroke-linejoin:round; stroke-width:2; stroke-opacity:0.1; fill:none\" points=\"264.778,1423.18 264.778,47.2441 \"/>\n",
       "<polyline clip-path=\"url(#clip882)\" style=\"stroke:#000000; stroke-linecap:round; stroke-linejoin:round; stroke-width:2; stroke-opacity:0.1; fill:none\" points=\"906.286,1423.18 906.286,47.2441 \"/>\n",
       "<polyline clip-path=\"url(#clip882)\" style=\"stroke:#000000; stroke-linecap:round; stroke-linejoin:round; stroke-width:2; stroke-opacity:0.1; fill:none\" points=\"1547.79,1423.18 1547.79,47.2441 \"/>\n",
       "<polyline clip-path=\"url(#clip882)\" style=\"stroke:#000000; stroke-linecap:round; stroke-linejoin:round; stroke-width:2; stroke-opacity:0.1; fill:none\" points=\"2189.3,1423.18 2189.3,47.2441 \"/>\n",
       "<polyline clip-path=\"url(#clip882)\" style=\"stroke:#000000; stroke-linecap:round; stroke-linejoin:round; stroke-width:2; stroke-opacity:0.1; fill:none\" points=\"203.964,1381.84 2352.76,1381.84 \"/>\n",
       "<polyline clip-path=\"url(#clip882)\" style=\"stroke:#000000; stroke-linecap:round; stroke-linejoin:round; stroke-width:2; stroke-opacity:0.1; fill:none\" points=\"203.964,1073.61 2352.76,1073.61 \"/>\n",
       "<polyline clip-path=\"url(#clip882)\" style=\"stroke:#000000; stroke-linecap:round; stroke-linejoin:round; stroke-width:2; stroke-opacity:0.1; fill:none\" points=\"203.964,765.368 2352.76,765.368 \"/>\n",
       "<polyline clip-path=\"url(#clip882)\" style=\"stroke:#000000; stroke-linecap:round; stroke-linejoin:round; stroke-width:2; stroke-opacity:0.1; fill:none\" points=\"203.964,457.131 2352.76,457.131 \"/>\n",
       "<polyline clip-path=\"url(#clip882)\" style=\"stroke:#000000; stroke-linecap:round; stroke-linejoin:round; stroke-width:2; stroke-opacity:0.1; fill:none\" points=\"203.964,148.894 2352.76,148.894 \"/>\n",
       "<polyline clip-path=\"url(#clip880)\" style=\"stroke:#000000; stroke-linecap:round; stroke-linejoin:round; stroke-width:4; stroke-opacity:1; fill:none\" points=\"203.964,1423.18 2352.76,1423.18 \"/>\n",
       "<polyline clip-path=\"url(#clip880)\" style=\"stroke:#000000; stroke-linecap:round; stroke-linejoin:round; stroke-width:4; stroke-opacity:1; fill:none\" points=\"264.778,1423.18 264.778,1404.28 \"/>\n",
       "<polyline clip-path=\"url(#clip880)\" style=\"stroke:#000000; stroke-linecap:round; stroke-linejoin:round; stroke-width:4; stroke-opacity:1; fill:none\" points=\"906.286,1423.18 906.286,1404.28 \"/>\n",
       "<polyline clip-path=\"url(#clip880)\" style=\"stroke:#000000; stroke-linecap:round; stroke-linejoin:round; stroke-width:4; stroke-opacity:1; fill:none\" points=\"1547.79,1423.18 1547.79,1404.28 \"/>\n",
       "<polyline clip-path=\"url(#clip880)\" style=\"stroke:#000000; stroke-linecap:round; stroke-linejoin:round; stroke-width:4; stroke-opacity:1; fill:none\" points=\"2189.3,1423.18 2189.3,1404.28 \"/>\n",
       "<path clip-path=\"url(#clip880)\" d=\"M264.778 1454.1 Q261.167 1454.1 259.339 1457.66 Q257.533 1461.2 257.533 1468.33 Q257.533 1475.44 259.339 1479.01 Q261.167 1482.55 264.778 1482.55 Q268.413 1482.55 270.218 1479.01 Q272.047 1475.44 272.047 1468.33 Q272.047 1461.2 270.218 1457.66 Q268.413 1454.1 264.778 1454.1 M264.778 1450.39 Q270.589 1450.39 273.644 1455 Q276.723 1459.58 276.723 1468.33 Q276.723 1477.06 273.644 1481.67 Q270.589 1486.25 264.778 1486.25 Q258.968 1486.25 255.89 1481.67 Q252.834 1477.06 252.834 1468.33 Q252.834 1459.58 255.89 1455 Q258.968 1450.39 264.778 1450.39 Z\" fill=\"#000000\" fill-rule=\"nonzero\" fill-opacity=\"1\" /><path clip-path=\"url(#clip880)\" d=\"M896.563 1451.02 L914.92 1451.02 L914.92 1454.96 L900.846 1454.96 L900.846 1463.43 Q901.864 1463.08 902.883 1462.92 Q903.901 1462.73 904.92 1462.73 Q910.707 1462.73 914.086 1465.9 Q917.466 1469.08 917.466 1474.49 Q917.466 1480.07 913.994 1483.17 Q910.522 1486.25 904.202 1486.25 Q902.026 1486.25 899.758 1485.88 Q897.512 1485.51 895.105 1484.77 L895.105 1480.07 Q897.188 1481.2 899.411 1481.76 Q901.633 1482.32 904.11 1482.32 Q908.114 1482.32 910.452 1480.21 Q912.79 1478.1 912.79 1474.49 Q912.79 1470.88 910.452 1468.77 Q908.114 1466.67 904.11 1466.67 Q902.235 1466.67 900.36 1467.08 Q898.508 1467.5 896.563 1468.38 L896.563 1451.02 Z\" fill=\"#000000\" fill-rule=\"nonzero\" fill-opacity=\"1\" /><path clip-path=\"url(#clip880)\" d=\"M1522.48 1481.64 L1530.12 1481.64 L1530.12 1455.28 L1521.81 1456.95 L1521.81 1452.69 L1530.07 1451.02 L1534.75 1451.02 L1534.75 1481.64 L1542.39 1481.64 L1542.39 1485.58 L1522.48 1485.58 L1522.48 1481.64 Z\" fill=\"#000000\" fill-rule=\"nonzero\" fill-opacity=\"1\" /><path clip-path=\"url(#clip880)\" d=\"M1561.83 1454.1 Q1558.22 1454.1 1556.39 1457.66 Q1554.59 1461.2 1554.59 1468.33 Q1554.59 1475.44 1556.39 1479.01 Q1558.22 1482.55 1561.83 1482.55 Q1565.47 1482.55 1567.27 1479.01 Q1569.1 1475.44 1569.1 1468.33 Q1569.1 1461.2 1567.27 1457.66 Q1565.47 1454.1 1561.83 1454.1 M1561.83 1450.39 Q1567.64 1450.39 1570.7 1455 Q1573.78 1459.58 1573.78 1468.33 Q1573.78 1477.06 1570.7 1481.67 Q1567.64 1486.25 1561.83 1486.25 Q1556.02 1486.25 1552.94 1481.67 Q1549.89 1477.06 1549.89 1468.33 Q1549.89 1459.58 1552.94 1455 Q1556.02 1450.39 1561.83 1450.39 Z\" fill=\"#000000\" fill-rule=\"nonzero\" fill-opacity=\"1\" /><path clip-path=\"url(#clip880)\" d=\"M2164.49 1481.64 L2172.12 1481.64 L2172.12 1455.28 L2163.81 1456.95 L2163.81 1452.69 L2172.08 1451.02 L2176.75 1451.02 L2176.75 1481.64 L2184.39 1481.64 L2184.39 1485.58 L2164.49 1485.58 L2164.49 1481.64 Z\" fill=\"#000000\" fill-rule=\"nonzero\" fill-opacity=\"1\" /><path clip-path=\"url(#clip880)\" d=\"M2193.88 1451.02 L2212.24 1451.02 L2212.24 1454.96 L2198.17 1454.96 L2198.17 1463.43 Q2199.18 1463.08 2200.2 1462.92 Q2201.22 1462.73 2202.24 1462.73 Q2208.03 1462.73 2211.41 1465.9 Q2214.79 1469.08 2214.79 1474.49 Q2214.79 1480.07 2211.31 1483.17 Q2207.84 1486.25 2201.52 1486.25 Q2199.35 1486.25 2197.08 1485.88 Q2194.83 1485.51 2192.42 1484.77 L2192.42 1480.07 Q2194.51 1481.2 2196.73 1481.76 Q2198.95 1482.32 2201.43 1482.32 Q2205.43 1482.32 2207.77 1480.21 Q2210.11 1478.1 2210.11 1474.49 Q2210.11 1470.88 2207.77 1468.77 Q2205.43 1466.67 2201.43 1466.67 Q2199.55 1466.67 2197.68 1467.08 Q2195.83 1467.5 2193.88 1468.38 L2193.88 1451.02 Z\" fill=\"#000000\" fill-rule=\"nonzero\" fill-opacity=\"1\" /><path clip-path=\"url(#clip880)\" d=\"M1223.74 1533.45 L1223.74 1538.98 Q1221.26 1537.71 1218.59 1537.07 Q1215.91 1536.44 1213.05 1536.44 Q1208.69 1536.44 1206.49 1537.77 Q1204.33 1539.11 1204.33 1541.79 Q1204.33 1543.82 1205.89 1545 Q1207.45 1546.15 1212.16 1547.2 L1214.16 1547.64 Q1220.4 1548.98 1223.01 1551.43 Q1225.65 1553.85 1225.65 1558.21 Q1225.65 1563.17 1221.7 1566.07 Q1217.79 1568.97 1210.92 1568.97 Q1208.05 1568.97 1204.93 1568.39 Q1201.84 1567.85 1198.41 1566.74 L1198.41 1560.69 Q1201.65 1562.38 1204.8 1563.24 Q1207.96 1564.07 1211.04 1564.07 Q1215.18 1564.07 1217.41 1562.66 Q1219.64 1561.23 1219.64 1558.65 Q1219.64 1556.27 1218.01 1554.99 Q1216.42 1553.72 1210.98 1552.54 L1208.94 1552.07 Q1203.5 1550.92 1201.08 1548.56 Q1198.66 1546.18 1198.66 1542.04 Q1198.66 1537.01 1202.23 1534.27 Q1205.79 1531.54 1212.35 1531.54 Q1215.59 1531.54 1218.46 1532.01 Q1221.32 1532.49 1223.74 1533.45 Z\" fill=\"#000000\" fill-rule=\"nonzero\" fill-opacity=\"1\" /><path clip-path=\"url(#clip880)\" d=\"M1255.16 1518.52 L1268.65 1518.52 L1268.65 1523.07 L1261.01 1523.07 L1261.01 1572.09 L1268.65 1572.09 L1268.65 1576.64 L1255.16 1576.64 L1255.16 1518.52 Z\" fill=\"#000000\" fill-rule=\"nonzero\" fill-opacity=\"1\" /><path clip-path=\"url(#clip880)\" d=\"M1308.88 1539.24 Q1311.08 1535.29 1314.14 1533.41 Q1317.19 1531.54 1321.33 1531.54 Q1326.9 1531.54 1329.92 1535.45 Q1332.95 1539.33 1332.95 1546.53 L1332.95 1568.04 L1327.06 1568.04 L1327.06 1546.72 Q1327.06 1541.59 1325.24 1539.11 Q1323.43 1536.63 1319.71 1536.63 Q1315.15 1536.63 1312.51 1539.65 Q1309.87 1542.68 1309.87 1547.9 L1309.87 1568.04 L1303.98 1568.04 L1303.98 1546.72 Q1303.98 1541.56 1302.17 1539.11 Q1300.35 1536.63 1296.57 1536.63 Q1292.08 1536.63 1289.44 1539.68 Q1286.79 1542.71 1286.79 1547.9 L1286.79 1568.04 L1280.91 1568.04 L1280.91 1532.4 L1286.79 1532.4 L1286.79 1537.93 Q1288.8 1534.66 1291.6 1533.1 Q1294.4 1531.54 1298.25 1531.54 Q1302.14 1531.54 1304.84 1533.51 Q1307.58 1535.48 1308.88 1539.24 Z\" fill=\"#000000\" fill-rule=\"nonzero\" fill-opacity=\"1\" /><path clip-path=\"url(#clip880)\" d=\"M1358.31 1518.52 L1358.31 1576.64 L1344.82 1576.64 L1344.82 1572.09 L1352.42 1572.09 L1352.42 1523.07 L1344.82 1523.07 L1344.82 1518.52 L1358.31 1518.52 Z\" fill=\"#000000\" fill-rule=\"nonzero\" fill-opacity=\"1\" /><polyline clip-path=\"url(#clip880)\" style=\"stroke:#000000; stroke-linecap:round; stroke-linejoin:round; stroke-width:4; stroke-opacity:1; fill:none\" points=\"203.964,1423.18 203.964,47.2441 \"/>\n",
       "<polyline clip-path=\"url(#clip880)\" style=\"stroke:#000000; stroke-linecap:round; stroke-linejoin:round; stroke-width:4; stroke-opacity:1; fill:none\" points=\"203.964,1381.84 222.861,1381.84 \"/>\n",
       "<polyline clip-path=\"url(#clip880)\" style=\"stroke:#000000; stroke-linecap:round; stroke-linejoin:round; stroke-width:4; stroke-opacity:1; fill:none\" points=\"203.964,1073.61 222.861,1073.61 \"/>\n",
       "<polyline clip-path=\"url(#clip880)\" style=\"stroke:#000000; stroke-linecap:round; stroke-linejoin:round; stroke-width:4; stroke-opacity:1; fill:none\" points=\"203.964,765.368 222.861,765.368 \"/>\n",
       "<polyline clip-path=\"url(#clip880)\" style=\"stroke:#000000; stroke-linecap:round; stroke-linejoin:round; stroke-width:4; stroke-opacity:1; fill:none\" points=\"203.964,457.131 222.861,457.131 \"/>\n",
       "<polyline clip-path=\"url(#clip880)\" style=\"stroke:#000000; stroke-linecap:round; stroke-linejoin:round; stroke-width:4; stroke-opacity:1; fill:none\" points=\"203.964,148.894 222.861,148.894 \"/>\n",
       "<path clip-path=\"url(#clip880)\" d=\"M147.061 1364.56 L165.417 1364.56 L165.417 1368.5 L151.343 1368.5 L151.343 1376.97 Q152.362 1376.62 153.38 1376.46 Q154.399 1376.28 155.417 1376.28 Q161.204 1376.28 164.584 1379.45 Q167.964 1382.62 167.964 1388.03 Q167.964 1393.61 164.491 1396.72 Q161.019 1399.79 154.7 1399.79 Q152.524 1399.79 150.255 1399.42 Q148.01 1399.05 145.603 1398.31 L145.603 1393.61 Q147.686 1394.75 149.908 1395.3 Q152.13 1395.86 154.607 1395.86 Q158.612 1395.86 160.95 1393.75 Q163.288 1391.65 163.288 1388.03 Q163.288 1384.42 160.95 1382.32 Q158.612 1380.21 154.607 1380.21 Q152.732 1380.21 150.857 1380.63 Q149.005 1381.04 147.061 1381.92 L147.061 1364.56 Z\" fill=\"#000000\" fill-rule=\"nonzero\" fill-opacity=\"1\" /><path clip-path=\"url(#clip880)\" d=\"M116.668 1086.95 L124.306 1086.95 L124.306 1060.58 L115.996 1062.25 L115.996 1057.99 L124.26 1056.33 L128.936 1056.33 L128.936 1086.95 L136.575 1086.95 L136.575 1090.89 L116.668 1090.89 L116.668 1086.95 Z\" fill=\"#000000\" fill-rule=\"nonzero\" fill-opacity=\"1\" /><path clip-path=\"url(#clip880)\" d=\"M156.019 1059.4 Q152.408 1059.4 150.579 1062.97 Q148.774 1066.51 148.774 1073.64 Q148.774 1080.75 150.579 1084.31 Q152.408 1087.85 156.019 1087.85 Q159.653 1087.85 161.459 1084.31 Q163.288 1080.75 163.288 1073.64 Q163.288 1066.51 161.459 1062.97 Q159.653 1059.4 156.019 1059.4 M156.019 1055.7 Q161.829 1055.7 164.885 1060.31 Q167.964 1064.89 167.964 1073.64 Q167.964 1082.37 164.885 1086.97 Q161.829 1091.56 156.019 1091.56 Q150.209 1091.56 147.13 1086.97 Q144.075 1082.37 144.075 1073.64 Q144.075 1064.89 147.13 1060.31 Q150.209 1055.7 156.019 1055.7 Z\" fill=\"#000000\" fill-rule=\"nonzero\" fill-opacity=\"1\" /><path clip-path=\"url(#clip880)\" d=\"M117.663 778.713 L125.302 778.713 L125.302 752.348 L116.992 754.014 L116.992 749.755 L125.255 748.088 L129.931 748.088 L129.931 778.713 L137.57 778.713 L137.57 782.648 L117.663 782.648 L117.663 778.713 Z\" fill=\"#000000\" fill-rule=\"nonzero\" fill-opacity=\"1\" /><path clip-path=\"url(#clip880)\" d=\"M147.061 748.088 L165.417 748.088 L165.417 752.023 L151.343 752.023 L151.343 760.496 Q152.362 760.148 153.38 759.986 Q154.399 759.801 155.417 759.801 Q161.204 759.801 164.584 762.972 Q167.964 766.144 167.964 771.56 Q167.964 777.139 164.491 780.241 Q161.019 783.32 154.7 783.32 Q152.524 783.32 150.255 782.949 Q148.01 782.579 145.603 781.838 L145.603 777.139 Q147.686 778.273 149.908 778.829 Q152.13 779.384 154.607 779.384 Q158.612 779.384 160.95 777.278 Q163.288 775.171 163.288 771.56 Q163.288 767.949 160.95 765.843 Q158.612 763.736 154.607 763.736 Q152.732 763.736 150.857 764.153 Q149.005 764.57 147.061 765.449 L147.061 748.088 Z\" fill=\"#000000\" fill-rule=\"nonzero\" fill-opacity=\"1\" /><path clip-path=\"url(#clip880)\" d=\"M119.885 470.476 L136.204 470.476 L136.204 474.411 L114.26 474.411 L114.26 470.476 Q116.922 467.721 121.505 463.092 Q126.112 458.439 127.292 457.097 Q129.538 454.573 130.417 452.837 Q131.32 451.078 131.32 449.388 Q131.32 446.634 129.376 444.898 Q127.455 443.161 124.353 443.161 Q122.154 443.161 119.7 443.925 Q117.269 444.689 114.492 446.24 L114.492 441.518 Q117.316 440.384 119.769 439.805 Q122.223 439.226 124.26 439.226 Q129.63 439.226 132.825 441.911 Q136.019 444.597 136.019 449.087 Q136.019 451.217 135.209 453.138 Q134.422 455.036 132.316 457.629 Q131.737 458.3 128.635 461.518 Q125.533 464.712 119.885 470.476 Z\" fill=\"#000000\" fill-rule=\"nonzero\" fill-opacity=\"1\" /><path clip-path=\"url(#clip880)\" d=\"M156.019 442.93 Q152.408 442.93 150.579 446.495 Q148.774 450.036 148.774 457.166 Q148.774 464.272 150.579 467.837 Q152.408 471.379 156.019 471.379 Q159.653 471.379 161.459 467.837 Q163.288 464.272 163.288 457.166 Q163.288 450.036 161.459 446.495 Q159.653 442.93 156.019 442.93 M156.019 439.226 Q161.829 439.226 164.885 443.833 Q167.964 448.416 167.964 457.166 Q167.964 465.893 164.885 470.499 Q161.829 475.083 156.019 475.083 Q150.209 475.083 147.13 470.499 Q144.075 465.893 144.075 457.166 Q144.075 448.416 147.13 443.833 Q150.209 439.226 156.019 439.226 Z\" fill=\"#000000\" fill-rule=\"nonzero\" fill-opacity=\"1\" /><path clip-path=\"url(#clip880)\" d=\"M120.88 162.239 L137.2 162.239 L137.2 166.174 L115.256 166.174 L115.256 162.239 Q117.918 159.484 122.501 154.855 Q127.107 150.202 128.288 148.859 Q130.533 146.336 131.413 144.6 Q132.316 142.841 132.316 141.151 Q132.316 138.397 130.371 136.66 Q128.45 134.924 125.348 134.924 Q123.149 134.924 120.695 135.688 Q118.265 136.452 115.487 138.003 L115.487 133.281 Q118.311 132.147 120.765 131.568 Q123.218 130.989 125.255 130.989 Q130.626 130.989 133.82 133.674 Q137.015 136.36 137.015 140.85 Q137.015 142.98 136.204 144.901 Q135.417 146.799 133.311 149.392 Q132.732 150.063 129.63 153.281 Q126.529 156.475 120.88 162.239 Z\" fill=\"#000000\" fill-rule=\"nonzero\" fill-opacity=\"1\" /><path clip-path=\"url(#clip880)\" d=\"M147.061 131.614 L165.417 131.614 L165.417 135.549 L151.343 135.549 L151.343 144.022 Q152.362 143.674 153.38 143.512 Q154.399 143.327 155.417 143.327 Q161.204 143.327 164.584 146.498 Q167.964 149.67 167.964 155.086 Q167.964 160.665 164.491 163.767 Q161.019 166.846 154.7 166.846 Q152.524 166.846 150.255 166.475 Q148.01 166.105 145.603 165.364 L145.603 160.665 Q147.686 161.799 149.908 162.355 Q152.13 162.91 154.607 162.91 Q158.612 162.91 160.95 160.804 Q163.288 158.697 163.288 155.086 Q163.288 151.475 160.95 149.369 Q158.612 147.262 154.607 147.262 Q152.732 147.262 150.857 147.679 Q149.005 148.096 147.061 148.975 L147.061 131.614 Z\" fill=\"#000000\" fill-rule=\"nonzero\" fill-opacity=\"1\" /><path clip-path=\"url(#clip880)\" d=\"M41.3104 1014.48 L58.7206 1014.48 L58.7206 1004.16 Q58.7206 998.975 56.5881 996.492 Q54.4238 993.978 49.9996 993.978 Q45.5436 993.978 43.4429 996.492 Q41.3104 998.975 41.3104 1004.16 L41.3104 1014.48 M21.7677 1014.48 L36.0905 1014.48 L36.0905 1004.96 Q36.0905 1000.25 34.34 997.957 Q32.5576 995.633 28.9291 995.633 Q25.3325 995.633 23.5501 997.957 Q21.7677 1000.25 21.7677 1004.96 L21.7677 1014.48 M16.4842 1020.9 L16.4842 1004.48 Q16.4842 997.129 19.5397 993.15 Q22.5952 989.172 28.2289 989.172 Q32.5894 989.172 35.1675 991.209 Q37.7456 993.246 38.3822 997.193 Q39.4007 992.45 42.6472 989.84 Q45.8619 987.198 50.6998 987.198 Q57.0655 987.198 60.5348 991.527 Q64.0042 995.856 64.0042 1003.84 L64.0042 1020.9 L16.4842 1020.9 Z\" fill=\"#000000\" fill-rule=\"nonzero\" fill-opacity=\"1\" /><path clip-path=\"url(#clip880)\" d=\"M44.7161 945.949 L47.5806 945.949 L47.5806 972.876 Q53.6281 972.494 56.8109 969.247 Q59.9619 965.969 59.9619 960.144 Q59.9619 956.77 59.1344 953.619 Q58.3069 950.437 56.6518 947.317 L62.1899 947.317 Q63.5267 950.468 64.227 953.779 Q64.9272 957.089 64.9272 960.494 Q64.9272 969.024 59.9619 974.021 Q54.9967 978.987 46.5303 978.987 Q37.7774 978.987 32.6531 974.276 Q27.4968 969.534 27.4968 961.513 Q27.4968 954.32 32.1438 950.15 Q36.7589 945.949 44.7161 945.949 M42.9973 951.805 Q38.1912 951.869 35.3266 954.511 Q32.4621 957.121 32.4621 961.449 Q32.4621 966.351 35.2312 969.311 Q38.0002 972.239 43.0292 972.685 L42.9973 951.805 Z\" fill=\"#000000\" fill-rule=\"nonzero\" fill-opacity=\"1\" /><path clip-path=\"url(#clip880)\" d=\"M18.2347 930.544 L28.3562 930.544 L28.3562 918.481 L32.9077 918.481 L32.9077 930.544 L52.2594 930.544 Q56.6199 930.544 57.8613 929.366 Q59.1026 928.157 59.1026 924.496 L59.1026 918.481 L64.0042 918.481 L64.0042 924.496 Q64.0042 931.276 61.4897 933.854 Q58.9434 936.432 52.2594 936.432 L32.9077 936.432 L32.9077 940.729 L28.3562 940.729 L28.3562 936.432 L18.2347 936.432 L18.2347 930.544 Z\" fill=\"#000000\" fill-rule=\"nonzero\" fill-opacity=\"1\" /><path clip-path=\"url(#clip880)\" d=\"M46.0847 894.577 Q46.0847 901.675 47.7079 904.412 Q49.3312 907.15 53.2461 907.15 Q56.3653 907.15 58.2114 905.113 Q60.0256 903.044 60.0256 899.511 Q60.0256 894.641 56.5881 891.713 Q53.1188 888.753 47.3897 888.753 L46.0847 888.753 L46.0847 894.577 M43.6657 882.896 L64.0042 882.896 L64.0042 888.753 L58.5933 888.753 Q61.8398 890.758 63.3994 893.75 Q64.9272 896.742 64.9272 901.07 Q64.9272 906.545 61.8716 909.791 Q58.7843 913.006 53.6281 913.006 Q47.6125 913.006 44.5569 908.996 Q41.5014 904.954 41.5014 896.965 L41.5014 888.753 L40.9285 888.753 Q36.8862 888.753 34.6901 891.426 Q32.4621 894.068 32.4621 898.874 Q32.4621 901.93 33.1941 904.826 Q33.9262 907.723 35.3903 910.396 L29.9795 910.396 Q28.7381 907.182 28.1334 904.158 Q27.4968 901.134 27.4968 898.27 Q27.4968 890.535 31.5072 886.716 Q35.5176 882.896 43.6657 882.896 Z\" fill=\"#000000\" fill-rule=\"nonzero\" fill-opacity=\"1\" /><path clip-path=\"url(#clip880)\" d=\"M16.4842 849.858 L16.4842 822.549 L21.895 822.549 L21.895 843.429 L35.8996 843.429 L35.8996 824.586 L41.3104 824.586 L41.3104 843.429 L64.0042 843.429 L64.0042 849.858 L16.4842 849.858 Z\" fill=\"#000000\" fill-rule=\"nonzero\" fill-opacity=\"1\" /><path clip-path=\"url(#clip880)\" d=\"M49.9359 816.788 L28.3562 816.788 L28.3562 810.932 L49.7131 810.932 Q54.7739 810.932 57.3202 808.959 Q59.8346 806.985 59.8346 803.039 Q59.8346 798.296 56.8109 795.559 Q53.7872 792.79 48.5673 792.79 L28.3562 792.79 L28.3562 786.933 L64.0042 786.933 L64.0042 792.79 L58.5296 792.79 Q61.7762 794.922 63.3676 797.755 Q64.9272 800.556 64.9272 804.28 Q64.9272 810.423 61.1078 813.606 Q57.2883 816.788 49.9359 816.788 M27.4968 802.052 L27.4968 802.052 Z\" fill=\"#000000\" fill-rule=\"nonzero\" fill-opacity=\"1\" /><path clip-path=\"url(#clip880)\" d=\"M42.4881 745.238 L64.0042 745.238 L64.0042 751.094 L42.679 751.094 Q37.6183 751.094 35.1038 753.068 Q32.5894 755.041 32.5894 758.988 Q32.5894 763.73 35.6131 766.468 Q38.6368 769.205 43.8567 769.205 L64.0042 769.205 L64.0042 775.093 L28.3562 775.093 L28.3562 769.205 L33.8944 769.205 Q30.6797 767.104 29.0883 764.271 Q27.4968 761.407 27.4968 757.683 Q27.4968 751.54 31.3163 748.389 Q35.1038 745.238 42.4881 745.238 Z\" fill=\"#000000\" fill-rule=\"nonzero\" fill-opacity=\"1\" /><path clip-path=\"url(#clip880)\" d=\"M29.7248 707.903 L35.1993 707.903 Q33.8307 710.386 33.1623 712.9 Q32.4621 715.383 32.4621 717.929 Q32.4621 723.626 36.0905 726.777 Q39.6872 729.928 46.212 729.928 Q52.7369 729.928 56.3653 726.777 Q59.9619 723.626 59.9619 717.929 Q59.9619 715.383 59.2935 712.9 Q58.5933 710.386 57.2247 707.903 L62.6355 707.903 Q63.7814 710.354 64.3543 712.996 Q64.9272 715.606 64.9272 718.566 Q64.9272 726.618 59.8664 731.361 Q54.8057 736.103 46.212 736.103 Q37.491 736.103 32.4939 731.329 Q27.4968 726.523 27.4968 718.184 Q27.4968 715.478 28.0697 712.9 Q28.6108 710.322 29.7248 707.903 Z\" fill=\"#000000\" fill-rule=\"nonzero\" fill-opacity=\"1\" /><path clip-path=\"url(#clip880)\" d=\"M18.2347 691.925 L28.3562 691.925 L28.3562 679.862 L32.9077 679.862 L32.9077 691.925 L52.2594 691.925 Q56.6199 691.925 57.8613 690.748 Q59.1026 689.538 59.1026 685.878 L59.1026 679.862 L64.0042 679.862 L64.0042 685.878 Q64.0042 692.657 61.4897 695.235 Q58.9434 697.813 52.2594 697.813 L32.9077 697.813 L32.9077 702.11 L28.3562 702.11 L28.3562 697.813 L18.2347 697.813 L18.2347 691.925 Z\" fill=\"#000000\" fill-rule=\"nonzero\" fill-opacity=\"1\" /><path clip-path=\"url(#clip880)\" d=\"M28.3562 672.16 L28.3562 666.303 L64.0042 666.303 L64.0042 672.16 L28.3562 672.16 M14.479 672.16 L14.479 666.303 L21.895 666.303 L21.895 672.16 L14.479 672.16 Z\" fill=\"#000000\" fill-rule=\"nonzero\" fill-opacity=\"1\" /><path clip-path=\"url(#clip880)\" d=\"M32.4621 640.236 Q32.4621 644.946 36.1542 647.684 Q39.8145 650.421 46.212 650.421 Q52.6095 650.421 56.3017 647.715 Q59.9619 644.978 59.9619 640.236 Q59.9619 635.557 56.2698 632.82 Q52.5777 630.082 46.212 630.082 Q39.8781 630.082 36.186 632.82 Q32.4621 635.557 32.4621 640.236 M27.4968 640.236 Q27.4968 632.597 32.4621 628.236 Q37.4273 623.876 46.212 623.876 Q54.9649 623.876 59.9619 628.236 Q64.9272 632.597 64.9272 640.236 Q64.9272 647.906 59.9619 652.267 Q54.9649 656.595 46.212 656.595 Q37.4273 656.595 32.4621 652.267 Q27.4968 647.906 27.4968 640.236 Z\" fill=\"#000000\" fill-rule=\"nonzero\" fill-opacity=\"1\" /><path clip-path=\"url(#clip880)\" d=\"M42.4881 584.536 L64.0042 584.536 L64.0042 590.392 L42.679 590.392 Q37.6183 590.392 35.1038 592.366 Q32.5894 594.339 32.5894 598.286 Q32.5894 603.028 35.6131 605.765 Q38.6368 608.503 43.8567 608.503 L64.0042 608.503 L64.0042 614.391 L28.3562 614.391 L28.3562 608.503 L33.8944 608.503 Q30.6797 606.402 29.0883 603.569 Q27.4968 600.705 27.4968 596.981 Q27.4968 590.838 31.3163 587.687 Q35.1038 584.536 42.4881 584.536 Z\" fill=\"#000000\" fill-rule=\"nonzero\" fill-opacity=\"1\" /><path clip-path=\"url(#clip880)\" d=\"M14.479 552.675 L14.479 539.18 L19.0304 539.18 L19.0304 546.819 L68.0464 546.819 L68.0464 539.18 L72.5979 539.18 L72.5979 552.675 L14.479 552.675 Z\" fill=\"#000000\" fill-rule=\"nonzero\" fill-opacity=\"1\" /><path clip-path=\"url(#clip880)\" d=\"M35.1993 498.949 Q31.2526 496.753 29.3747 493.697 Q27.4968 490.642 27.4968 486.504 Q27.4968 480.934 31.4117 477.91 Q35.2948 474.886 42.4881 474.886 L64.0042 474.886 L64.0042 480.775 L42.679 480.775 Q37.5546 480.775 35.072 482.589 Q32.5894 484.403 32.5894 488.127 Q32.5894 492.679 35.6131 495.32 Q38.6368 497.962 43.8567 497.962 L64.0042 497.962 L64.0042 503.85 L42.679 503.85 Q37.5228 503.85 35.072 505.665 Q32.5894 507.479 32.5894 511.266 Q32.5894 515.754 35.6449 518.396 Q38.6686 521.038 43.8567 521.038 L64.0042 521.038 L64.0042 526.926 L28.3562 526.926 L28.3562 521.038 L33.8944 521.038 Q30.616 519.033 29.0564 516.232 Q27.4968 513.431 27.4968 509.579 Q27.4968 505.696 29.4702 502.991 Q31.4436 500.254 35.1993 498.949 Z\" fill=\"#000000\" fill-rule=\"nonzero\" fill-opacity=\"1\" /><path clip-path=\"url(#clip880)\" d=\"M14.479 449.519 L72.5979 449.519 L72.5979 463.014 L68.0464 463.014 L68.0464 455.407 L19.0304 455.407 L19.0304 463.014 L14.479 463.014 L14.479 449.519 Z\" fill=\"#000000\" fill-rule=\"nonzero\" fill-opacity=\"1\" /><polyline clip-path=\"url(#clip882)\" style=\"stroke:#009af9; stroke-linecap:round; stroke-linejoin:round; stroke-width:4; stroke-opacity:1; fill:none\" points=\"264.778,86.9349 328.929,86.9368 354.589,144.236 431.57,308.719 1201.38,1342.09 1278.36,1384.24 1342.51,1384.24 1368.17,1371.43 1445.15,1325.57 2214.96,255.121 2291.94,86.9349 \"/>\n",
       "<polyline clip-path=\"url(#clip882)\" style=\"stroke:#e26f46; stroke-linecap:round; stroke-linejoin:round; stroke-width:4; stroke-opacity:1; fill:none\" points=\"264.778,1383.91 328.929,1383.91 354.589,1371.09 431.57,1325.21 1201.38,254.454 1278.36,86.1857 1342.51,86.1857 1368.17,143.511 1445.15,308.071 2214.96,1341.74 2291.94,1383.91 \"/>\n",
       "<path clip-path=\"url(#clip880)\" d=\"M1912.45 248.629 L2281.13 248.629 L2281.13 93.1086 L1912.45 93.1086  Z\" fill=\"#ffffff\" fill-rule=\"evenodd\" fill-opacity=\"1\"/>\n",
       "<polyline clip-path=\"url(#clip880)\" style=\"stroke:#000000; stroke-linecap:round; stroke-linejoin:round; stroke-width:4; stroke-opacity:1; fill:none\" points=\"1912.45,248.629 2281.13,248.629 2281.13,93.1086 1912.45,93.1086 1912.45,248.629 \"/>\n",
       "<polyline clip-path=\"url(#clip880)\" style=\"stroke:#009af9; stroke-linecap:round; stroke-linejoin:round; stroke-width:4; stroke-opacity:1; fill:none\" points=\"1936.33,144.949 2079.58,144.949 \"/>\n",
       "<path clip-path=\"url(#clip880)\" d=\"M2122.23 149.289 Q2122.23 144.59 2120.29 141.928 Q2118.37 139.243 2114.99 139.243 Q2111.61 139.243 2109.66 141.928 Q2107.74 144.59 2107.74 149.289 Q2107.74 153.988 2109.66 156.673 Q2111.61 159.335 2114.99 159.335 Q2118.37 159.335 2120.29 156.673 Q2122.23 153.988 2122.23 149.289 M2107.74 140.238 Q2109.08 137.923 2111.12 136.812 Q2113.18 135.678 2116.03 135.678 Q2120.75 135.678 2123.69 139.428 Q2126.65 143.178 2126.65 149.289 Q2126.65 155.4 2123.69 159.15 Q2120.75 162.9 2116.03 162.9 Q2113.18 162.9 2111.12 161.789 Q2109.08 160.655 2107.74 158.34 L2107.74 162.229 L2103.46 162.229 L2103.46 126.21 L2107.74 126.21 L2107.74 140.238 Z\" fill=\"#000000\" fill-rule=\"nonzero\" fill-opacity=\"1\" /><path clip-path=\"url(#clip880)\" d=\"M2155.89 148.201 L2155.89 150.284 L2136.31 150.284 Q2136.58 154.682 2138.94 156.997 Q2141.33 159.289 2145.56 159.289 Q2148.02 159.289 2150.31 158.687 Q2152.62 158.085 2154.89 156.881 L2154.89 160.909 Q2152.6 161.881 2150.19 162.391 Q2147.79 162.9 2145.31 162.9 Q2139.11 162.9 2135.47 159.289 Q2131.86 155.678 2131.86 149.52 Q2131.86 143.155 2135.29 139.428 Q2138.74 135.678 2144.57 135.678 Q2149.8 135.678 2152.83 139.057 Q2155.89 142.414 2155.89 148.201 M2151.63 146.951 Q2151.58 143.456 2149.66 141.372 Q2147.76 139.289 2144.62 139.289 Q2141.05 139.289 2138.9 141.303 Q2136.77 143.317 2136.44 146.974 L2151.63 146.951 Z\" fill=\"#000000\" fill-rule=\"nonzero\" fill-opacity=\"1\" /><path clip-path=\"url(#clip880)\" d=\"M2167.09 128.942 L2167.09 136.303 L2175.87 136.303 L2175.87 139.613 L2167.09 139.613 L2167.09 153.687 Q2167.09 156.858 2167.95 157.761 Q2168.83 158.664 2171.49 158.664 L2175.87 158.664 L2175.87 162.229 L2171.49 162.229 Q2166.56 162.229 2164.69 160.4 Q2162.81 158.548 2162.81 153.687 L2162.81 139.613 L2159.69 139.613 L2159.69 136.303 L2162.81 136.303 L2162.81 128.942 L2167.09 128.942 Z\" fill=\"#000000\" fill-rule=\"nonzero\" fill-opacity=\"1\" /><path clip-path=\"url(#clip880)\" d=\"M2193.25 149.196 Q2188.09 149.196 2186.1 150.377 Q2184.11 151.557 2184.11 154.405 Q2184.11 156.673 2185.59 158.016 Q2187.09 159.335 2189.66 159.335 Q2193.2 159.335 2195.33 156.835 Q2197.49 154.312 2197.49 150.145 L2197.49 149.196 L2193.25 149.196 M2201.75 147.437 L2201.75 162.229 L2197.49 162.229 L2197.49 158.293 Q2196.03 160.655 2193.85 161.789 Q2191.68 162.9 2188.53 162.9 Q2184.55 162.9 2182.18 160.678 Q2179.85 158.432 2179.85 154.682 Q2179.85 150.307 2182.76 148.085 Q2185.7 145.863 2191.51 145.863 L2197.49 145.863 L2197.49 145.446 Q2197.49 142.507 2195.54 140.909 Q2193.62 139.289 2190.12 139.289 Q2187.9 139.289 2185.8 139.821 Q2183.69 140.354 2181.75 141.419 L2181.75 137.483 Q2184.08 136.581 2186.28 136.141 Q2188.48 135.678 2190.56 135.678 Q2196.19 135.678 2198.97 138.594 Q2201.75 141.511 2201.75 147.437 Z\" fill=\"#000000\" fill-rule=\"nonzero\" fill-opacity=\"1\" /><path clip-path=\"url(#clip880)\" d=\"M2230.22 170.099 L2230.22 173.409 L2205.59 173.409 L2205.59 170.099 L2230.22 170.099 Z\" fill=\"#000000\" fill-rule=\"nonzero\" fill-opacity=\"1\" /><path clip-path=\"url(#clip880)\" d=\"M2235.63 158.293 L2243.27 158.293 L2243.27 131.928 L2234.96 133.595 L2234.96 129.335 L2243.23 127.669 L2247.9 127.669 L2247.9 158.293 L2255.54 158.293 L2255.54 162.229 L2235.63 162.229 L2235.63 158.293 Z\" fill=\"#000000\" fill-rule=\"nonzero\" fill-opacity=\"1\" /><polyline clip-path=\"url(#clip880)\" style=\"stroke:#e26f46; stroke-linecap:round; stroke-linejoin:round; stroke-width:4; stroke-opacity:1; fill:none\" points=\"1936.33,196.789 2079.58,196.789 \"/>\n",
       "<path clip-path=\"url(#clip880)\" d=\"M2122.23 201.129 Q2122.23 196.43 2120.29 193.768 Q2118.37 191.083 2114.99 191.083 Q2111.61 191.083 2109.66 193.768 Q2107.74 196.43 2107.74 201.129 Q2107.74 205.828 2109.66 208.513 Q2111.61 211.175 2114.99 211.175 Q2118.37 211.175 2120.29 208.513 Q2122.23 205.828 2122.23 201.129 M2107.74 192.078 Q2109.08 189.763 2111.12 188.652 Q2113.18 187.518 2116.03 187.518 Q2120.75 187.518 2123.69 191.268 Q2126.65 195.018 2126.65 201.129 Q2126.65 207.24 2123.69 210.99 Q2120.75 214.74 2116.03 214.74 Q2113.18 214.74 2111.12 213.629 Q2109.08 212.495 2107.74 210.18 L2107.74 214.069 L2103.46 214.069 L2103.46 178.05 L2107.74 178.05 L2107.74 192.078 Z\" fill=\"#000000\" fill-rule=\"nonzero\" fill-opacity=\"1\" /><path clip-path=\"url(#clip880)\" d=\"M2155.89 200.041 L2155.89 202.124 L2136.31 202.124 Q2136.58 206.522 2138.94 208.837 Q2141.33 211.129 2145.56 211.129 Q2148.02 211.129 2150.31 210.527 Q2152.62 209.925 2154.89 208.721 L2154.89 212.749 Q2152.6 213.721 2150.19 214.231 Q2147.79 214.74 2145.31 214.74 Q2139.11 214.74 2135.47 211.129 Q2131.86 207.518 2131.86 201.36 Q2131.86 194.995 2135.29 191.268 Q2138.74 187.518 2144.57 187.518 Q2149.8 187.518 2152.83 190.897 Q2155.89 194.254 2155.89 200.041 M2151.63 198.791 Q2151.58 195.296 2149.66 193.212 Q2147.76 191.129 2144.62 191.129 Q2141.05 191.129 2138.9 193.143 Q2136.77 195.157 2136.44 198.814 L2151.63 198.791 Z\" fill=\"#000000\" fill-rule=\"nonzero\" fill-opacity=\"1\" /><path clip-path=\"url(#clip880)\" d=\"M2167.09 180.782 L2167.09 188.143 L2175.87 188.143 L2175.87 191.453 L2167.09 191.453 L2167.09 205.527 Q2167.09 208.698 2167.95 209.601 Q2168.83 210.504 2171.49 210.504 L2175.87 210.504 L2175.87 214.069 L2171.49 214.069 Q2166.56 214.069 2164.69 212.24 Q2162.81 210.388 2162.81 205.527 L2162.81 191.453 L2159.69 191.453 L2159.69 188.143 L2162.81 188.143 L2162.81 180.782 L2167.09 180.782 Z\" fill=\"#000000\" fill-rule=\"nonzero\" fill-opacity=\"1\" /><path clip-path=\"url(#clip880)\" d=\"M2193.25 201.036 Q2188.09 201.036 2186.1 202.217 Q2184.11 203.397 2184.11 206.245 Q2184.11 208.513 2185.59 209.856 Q2187.09 211.175 2189.66 211.175 Q2193.2 211.175 2195.33 208.675 Q2197.49 206.152 2197.49 201.985 L2197.49 201.036 L2193.25 201.036 M2201.75 199.277 L2201.75 214.069 L2197.49 214.069 L2197.49 210.133 Q2196.03 212.495 2193.85 213.629 Q2191.68 214.74 2188.53 214.74 Q2184.55 214.74 2182.18 212.518 Q2179.85 210.272 2179.85 206.522 Q2179.85 202.147 2182.76 199.925 Q2185.7 197.703 2191.51 197.703 L2197.49 197.703 L2197.49 197.286 Q2197.49 194.347 2195.54 192.749 Q2193.62 191.129 2190.12 191.129 Q2187.9 191.129 2185.8 191.661 Q2183.69 192.194 2181.75 193.259 L2181.75 189.323 Q2184.08 188.421 2186.28 187.981 Q2188.48 187.518 2190.56 187.518 Q2196.19 187.518 2198.97 190.434 Q2201.75 193.351 2201.75 199.277 Z\" fill=\"#000000\" fill-rule=\"nonzero\" fill-opacity=\"1\" /><path clip-path=\"url(#clip880)\" d=\"M2230.22 221.939 L2230.22 225.249 L2205.59 225.249 L2205.59 221.939 L2230.22 221.939 Z\" fill=\"#000000\" fill-rule=\"nonzero\" fill-opacity=\"1\" /><path clip-path=\"url(#clip880)\" d=\"M2252.83 201.129 Q2252.83 196.43 2250.89 193.768 Q2248.97 191.083 2245.59 191.083 Q2242.21 191.083 2240.26 193.768 Q2238.34 196.43 2238.34 201.129 Q2238.34 205.828 2240.26 208.513 Q2242.21 211.175 2245.59 211.175 Q2248.97 211.175 2250.89 208.513 Q2252.83 205.828 2252.83 201.129 M2238.34 192.078 Q2239.68 189.763 2241.72 188.652 Q2243.78 187.518 2246.63 187.518 Q2251.35 187.518 2254.29 191.268 Q2257.25 195.018 2257.25 201.129 Q2257.25 207.24 2254.29 210.99 Q2251.35 214.74 2246.63 214.74 Q2243.78 214.74 2241.72 213.629 Q2239.68 212.495 2238.34 210.18 L2238.34 214.069 L2234.06 214.069 L2234.06 178.05 L2238.34 178.05 L2238.34 192.078 Z\" fill=\"#000000\" fill-rule=\"nonzero\" fill-opacity=\"1\" /></svg>\n"
      ]
     },
     "execution_count": 23,
     "metadata": {},
     "output_type": "execute_result"
    }
   ],
   "source": [
    "# Plot betas and dispersion\n",
    "plot(t.s, t.beta_1, label=\"beta_1\"); plot!(t.s, t.beta_2, label=\"beta_b\")\n",
    "xlabel!(\"s [m]\")\n",
    "ylabel!(\"Beta Function [m]\")"
   ]
  },
  {
   "cell_type": "code",
   "execution_count": null,
   "id": "6f58214d",
   "metadata": {},
   "outputs": [
    {
     "data": {
      "text/plain": [
       "6-element Vector{TPS64{Descriptor(NV=6, MO=1)}}:\n",
       " Index Coefficient                Order   Exponent\n",
       "--------------------------------------------------------------------\n",
       "   1:  -2.3170807306711905e+00      1      1   0   0   0   0   0\n",
       "   1:   2.5992967947822709e+01      1      0   1   0   0   0   0\n",
       "   1:   4.8716319988507722e-01      1      0   0   0   0   0   1\n",
       "--------------------------------------------------------------------\n",
       "   2:  -2.5045883283697512e-01      1      1   0   0   0   0   0\n",
       "   2:   2.3780649250768429e+00      1      0   1   0   0   0   0\n",
       "   2:   6.4304094327838082e-02      1      0   0   0   0   0   1\n",
       "--------------------------------------------------------------------\n",
       "   3:   5.2634259299842112e-01      1      0   0   1   0   0   0\n",
       "   3:   4.9639790409998383e+00      1      0   0   0   1   0   0\n",
       "--------------------------------------------------------------------\n",
       "   4:  -2.5053800516899360e-01      1      0   0   1   0   0   0\n",
       "   4:  -4.6294069656172643e-01      1      0   0   0   1   0   0\n",
       "--------------------------------------------------------------------\n",
       "   5:   2.6983451425953753e-02      1      1   0   0   0   0   0\n",
       "   5:  -5.1294854434236214e-01      1      0   1   0   0   0   0\n",
       "   5:   1.0000000000000000e+00      1      0   0   0   0   1   0\n",
       "   5:  -7.2169338582354185e-03      1      0   0   0   0   0   1\n",
       "--------------------------------------------------------------------\n",
       "   6:   1.0000000000000000e+00      1      0   0   0   0   0   1\n"
      ]
     },
     "execution_count": 25,
     "metadata": {},
     "output_type": "execute_result"
    }
   ],
   "source": [
    "# Track a particle as a TPSA\n",
    "D1 = Descriptor(6, 1) # 6 variables, 3rd order\n",
    "GTPSA.show_eps=1e-10 # hide small monomials\n",
    "v0 = @vars(D1)\n",
    "res = track(v0, fodo) # Mutates b0 to contain the result\n",
    "res[1,2,:]"
   ]
  },
  {
   "cell_type": "code",
   "execution_count": null,
   "id": "a7801d66",
   "metadata": {},
   "outputs": [
    {
     "data": {
      "text/plain": [
       "Descriptor(NV=6, MO=2, NP=1, PO=2)"
      ]
     },
     "execution_count": 26,
     "metadata": {},
     "output_type": "execute_result"
    }
   ],
   "source": [
    "# Now \n",
    "D1_p = Descriptor([1,1,1,1,1,1], 2, [2], 2)\n",
    "v0 = @vars(D1_p)\n",
    "dk = \n"
   ]
  },
  {
   "cell_type": "code",
   "execution_count": null,
   "id": "b247195a",
   "metadata": {},
   "outputs": [
    {
     "ename": "LoadError",
     "evalue": "MethodError: no method matching track(::Bunch{Float64, BeamTracking.Coords{Vector{BeamTracking.State.T}, Matrix{TPS64{Descriptor(NV=6, MO=1)}}, Nothing}}, ::Beamline)\nThe function `track` exists, but no method is defined for this combination of argument types.\n\n\u001b[0mClosest candidates are:\n\u001b[0m  track(\u001b[91m::Union{AbstractMatrix, AbstractVector}\u001b[39m, ::Beamline; N_turns)\n\u001b[0m\u001b[90m   @\u001b[39m \u001b[35mSciBmad\u001b[39m \u001b[90m~/.julia/dev/SciBmad/src/\u001b[39m\u001b[90m\u001b[4mtrack.jl:1\u001b[24m\u001b[39m\n",
     "output_type": "error",
     "traceback": [
      "MethodError: no method matching track(::Bunch{Float64, BeamTracking.Coords{Vector{BeamTracking.State.T}, Matrix{TPS64{Descriptor(NV=6, MO=1)}}, Nothing}}, ::Beamline)\nThe function `track` exists, but no method is defined for this combination of argument types.\n\n\u001b[0mClosest candidates are:\n\u001b[0m  track(\u001b[91m::Union{AbstractMatrix, AbstractVector}\u001b[39m, ::Beamline; N_turns)\n\u001b[0m\u001b[90m   @\u001b[39m \u001b[35mSciBmad\u001b[39m \u001b[90m~/.julia/dev/SciBmad/src/\u001b[39m\u001b[90m\u001b[4mtrack.jl:1\u001b[24m\u001b[39m\n",
      "",
      "Stacktrace:",
      " [1] top-level scope",
      "\u001b[90m   @\u001b[39m \u001b[90m\u001b[4mIn[16]:6\u001b[24m\u001b[39m"
     ]
    }
   ],
   "source": []
  },
  {
   "cell_type": "code",
   "execution_count": null,
   "id": "619c1d03",
   "metadata": {},
   "outputs": [
    {
     "name": "stdout",
     "output_type": "stream",
     "text": [
      "DAMap{StaticArraysCore.MVector{5, ComplexF64}, StaticArraysCore.MVector{6, ComplexTPS64{Descriptor(NV=6, MO=3)}}, Nothing, Nothing}(ComplexF64[0.0 + 0.0im, 0.0 + 0.0im, 0.0 + 0.0im, 0.0 + 0.0im, 0.0 + 0.0im], 6-element StaticArraysCore.MVector{6, ComplexTPS64{Descriptor(NV=6, MO=3)}}:\n",
      " Index Real                     Imag                       Order   Exponent\n",
      "---------------------------------------------------------------------------------------------\n",
      "   1:   3.0492097202826335e-02  -9.9953500789525795e-01      1      1   0   0   0   0   0\n",
      "   1:   1.8150337287104346e+00   5.5369931463216386e-02      2      1   0   0   0   0   1\n",
      "   1:  -1.1285465004047446e-01  -3.4427758230310170e-03      3      2   1   0   0   0   0\n",
      "   1:  -7.5632592013723896e-02  -2.3072692093332094e-03      3      1   0   1   1   0   0\n",
      "   1:  -2.7843055280258771e+00   1.5645348143666986e+00      3      1   0   0   0   0   2\n",
      "---------------------------------------------------------------------------------------------\n",
      "   2:   3.0492097202826335e-02   9.9953500789525795e-01      1      0   1   0   0   0   0\n",
      "   2:   1.8150337287104346e+00  -5.5369931463216386e-02      2      0   1   0   0   0   1\n",
      "   2:  -1.1285465004047446e-01   3.4427758230310170e-03      3      1   2   0   0   0   0\n",
      "   2:  -7.5632592013723896e-02   2.3072692093332094e-03      3      0   1   1   1   0   0\n",
      "   2:  -2.7843055280258771e+00  -1.5645348143666986e+00      3      0   1   0   0   0   2\n",
      "---------------------------------------------------------------------------------------------\n",
      "   3:   3.1700948218347319e-02  -9.9949739863696330e-01      1      0   0   1   0   0   0\n",
      "   3:   1.8937429327173496e+00   6.0063634713610106e-02      2      0   0   1   0   0   1\n",
      "   3:  -7.5629746205468348e-02  -2.3987402792574335e-03      3      1   1   1   0   0   0\n",
      "   3:  -4.6481040216239627e-01  -1.4742340010482361e-02      3      0   0   2   1   0   0\n",
      "   3:  -2.8594700186253510e+00   1.7051440644545568e+00      3      0   0   1   0   0   2\n",
      "---------------------------------------------------------------------------------------------\n",
      "   4:   3.1700948218347319e-02   9.9949739863696330e-01      1      0   0   0   1   0   0\n",
      "   4:   1.8937429327173496e+00  -6.0063634713610106e-02      2      0   0   0   1   0   1\n",
      "   4:  -7.5629746205468348e-02   2.3987402792574335e-03      3      1   1   0   1   0   0\n",
      "   4:  -4.6481040216239627e-01   1.4742340010482361e-02      3      0   0   1   2   0   0\n",
      "   4:  -2.8594700186253510e+00  -1.7051440644545568e+00      3      0   0   0   1   0   2\n",
      "---------------------------------------------------------------------------------------------\n",
      "   5:   1.0000000000000000e+00   0.0000000000000000e+00      1      0   0   0   0   1   0\n",
      "   5:  -1.7448592095815476e-02   0.0000000000000000e+00      1      0   0   0   0   0   1\n",
      "   5:  -1.8158780976890285e+00   0.0000000000000000e+00      2      1   1   0   0   0   0\n",
      "   5:  -1.8946952091119851e+00   0.0000000000000000e+00      2      0   0   1   1   0   0\n",
      "   5:  -2.7958561633357793e-02   0.0000000000000000e+00      2      0   0   0   0   0   2\n",
      "   5:   5.4706098006026203e+00   0.0000000000000000e+00      3      1   1   0   0   0   1\n",
      "   5:   5.6079563228086462e+00   0.0000000000000000e+00      3      0   0   1   1   0   1\n",
      "   5:   5.0643189525996354e-03   0.0000000000000000e+00      3      0   0   0   0   0   3\n",
      "---------------------------------------------------------------------------------------------\n",
      "   6:   1.0000000000000000e+00   0.0000000000000000e+00      1      0   0   0   0   0   1\n",
      ", nothing, nothing)"
     ]
    }
   ],
   "source": [
    "m = DAMap(v=b0.coords.v) # Create a differential algebraic map from the tracking result\n",
    "a = normal(m) # Normalizing map, circle world to regular world\n",
    "ai = inv(a)   # Regular world to circle world\n",
    "c = c_map(m)  # Phasors sqrt(J)*exp(+-im*phi) to regular world\n",
    "ci = inv(c)   # Regular world to phasors\n",
    "r = ci ∘ ai ∘ m  ∘ a ∘ c # Amplitude dependent rotation\n",
    "print(r)"
   ]
  },
  {
   "cell_type": "code",
   "execution_count": null,
   "id": "bd8428d7",
   "metadata": {},
   "outputs": [
    {
     "data": {
      "text/plain": [
       "5.0e-5:5.0e-5:0.001"
      ]
     },
     "execution_count": 22,
     "metadata": {},
     "output_type": "execute_result"
    }
   ],
   "source": [
    "# Initialize distribution of particles with varying initial x\n",
    "N = 20\n",
    "x_max=1e-3\n",
    "v = zeros(N, 6)\n",
    "v[:,1] = x_max/N:x_max/N:x_max"
   ]
  },
  {
   "cell_type": "code",
   "execution_count": null,
   "id": "878caa8d",
   "metadata": {},
   "outputs": [],
   "source": [
    "# Structure\n",
    "trajectories = "
   ]
  },
  {
   "cell_type": "code",
   "execution_count": null,
   "id": "4b6c6757",
   "metadata": {},
   "outputs": [
    {
     "data": {
      "text/plain": [
       "20×6 Matrix{Float64}:\n",
       " -2.05972e-5  -8.77e-6     2.09179e-18  9.94561e-19  2.10532e-6  0.0\n",
       " -2.91289e-5  -1.24028e-5  2.95824e-18  1.40654e-18  2.9773e-6   0.0\n",
       " -3.56754e-5  -1.51904e-5  3.62309e-18  1.72267e-18  3.64637e-6  0.0\n",
       " -4.11945e-5  -1.75405e-5  4.18358e-18  1.98918e-18  4.21039e-6  0.0\n",
       " -4.60569e-5  -1.96111e-5  4.67739e-18  2.22398e-18  4.7073e-6   0.0\n",
       " -5.04528e-5  -2.1483e-5   5.12383e-18  2.43627e-18  5.15652e-6  0.0\n",
       " -5.44953e-5  -2.32044e-5  5.53437e-18  2.63148e-18  5.56961e-6  0.0\n",
       " -5.82579e-5  -2.48067e-5  5.91649e-18  2.81319e-18  5.9541e-6   0.0\n",
       " -6.17919e-5  -2.63116e-5  6.27539e-18  2.98385e-18  6.31521e-6  0.0\n",
       " -6.51344e-5  -2.7735e-5   6.61484e-18  3.14527e-18  6.65675e-6  0.0\n",
       " -6.83135e-5  -2.90889e-5  6.9377e-18   3.2988e-18   6.98159e-6  0.0\n",
       " -7.13512e-5  -3.03825e-5  7.2462e-18   3.4455e-18   7.29197e-6  0.0\n",
       " -7.42647e-5  -3.16232e-5  7.54208e-18  3.58621e-18  7.58966e-6  0.0\n",
       " -7.70681e-5  -3.28171e-5  7.82679e-18  3.7216e-18   7.87609e-6  0.0\n",
       " -7.97731e-5  -3.39691e-5  8.1015e-18   3.85223e-18  8.15247e-6  0.0\n",
       " -8.23893e-5  -3.50833e-5  8.36719e-18  3.97858e-18  8.41977e-6  0.0\n",
       " -8.4925e-5   -3.61631e-5  8.62471e-18  4.10104e-18  8.67883e-6  0.0\n",
       " -8.73871e-5  -3.72117e-5  8.87475e-18  4.21995e-18  8.93038e-6  0.0\n",
       " -8.97818e-5  -3.82315e-5  9.11794e-18  4.3356e-18   9.17503e-6  0.0\n",
       " -9.21142e-5  -3.92249e-5  9.35481e-18  4.44825e-18  9.41332e-6  0.0"
      ]
     },
     "execution_count": 19,
     "metadata": {},
     "output_type": "execute_result"
    }
   ],
   "source": [
    "# Now let's look at the phase space\n",
    "# Let's look at particles with J = 0:0.\n",
    "# In Floquet variables x = sqrt(2J)*cos(phi), px=sqrt(2J)*sin(phi)\n",
    "# so we can start a distribution with phi=0 so px=0\n",
    "N = 20\n",
    "J_max = 20e-9\n",
    "J = J_max/(N):J_max/(N):J_max\n",
    "x_in_floquet = sqrt.(2 .*J)\n",
    "\n",
    "# initialize particle distribution\n",
    "v_in_floquet = zeros(N, 6)\n",
    "v_in_floquet[:,1] = x_in_floquet\n",
    "\n",
    "v = zeros(N,6)\n",
    "for i in 1:N\n",
    "    v[i,:] = ai.v(v_in_floquet[i,:])\n",
    "end\n"
   ]
  }
 ],
 "metadata": {
  "kernelspec": {
   "display_name": "Python 3 (ipykernel)",
   "language": "python",
   "name": "python3"
  },
  "language_info": {
   "codemirror_mode": {
    "name": "ipython",
    "version": 3
   },
   "file_extension": ".py",
   "mimetype": "text/x-python",
   "name": "python",
   "nbconvert_exporter": "python",
   "pygments_lexer": "ipython3",
   "version": "3.13.2"
  }
 },
 "nbformat": 4,
 "nbformat_minor": 5
}
