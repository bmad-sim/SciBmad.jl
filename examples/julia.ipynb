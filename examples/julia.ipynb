{
 "cells": [
  {
   "cell_type": "markdown",
   "id": "8fec6c66",
   "metadata": {},
   "source": [
    "## Introduction to SciBmad  \n",
    "\n",
    "Differentiable simulation codes are necessary tools in accelerator physics to properly compute (via integration) Taylor maps representing the particle transport, and subsequently extract the lattice functions from. Early examples of differentiable accelerator physics codes are the Polymorphic Tracking Code (PTC) and COSY-INFINITY, both developed in the early 1990s. Modern examples of differentiable codes are CERN's `MAD-NG`, and Cornell's `SciBmad`:\n",
    "\n",
    "`SciBmad` is a new, modular, polymorphic, differentiable, and portable (CPU/GPU compatible) accelerator physics code being developed at Cornell. This Jupyter notebook will show some its basic features, including lazily evaluated deferred expressions, polymorphism, and differentiability."
   ]
  },
  {
   "cell_type": "code",
   "execution_count": null,
   "id": "a82bd33d-26f9-4eb5-9fa5-c74384b1b2a4",
   "metadata": {},
   "outputs": [],
   "source": [
    "# This only needs to be done once\n",
    "import Pkg; \n",
    "Pkg.add(\"SciBmad\")\n",
    "Pkg.add(\"GLMakie\") # Other good plotting packages are CairoMakie, Plots, WGLMakie"
   ]
  },
  {
   "cell_type": "code",
   "execution_count": 1,
   "id": "b2fdafd8-d21e-4652-ae5a-5dcfa5a45539",
   "metadata": {},
   "outputs": [],
   "source": [
    "using SciBmad"
   ]
  },
  {
   "cell_type": "markdown",
   "id": "96cb92ae",
   "metadata": {},
   "source": [
    "Let's first make a FODO cell consisting of a quadrupole, sextupole, bend, and drift. This uses the [`Beamlines.jl`](https://github.com/bmad-sim/Beamlines.jl) package within the SciBmad family, which is automatically included when `using SciBmad`. We require by design that the focusing quadrupole strength is negative that of the defocusing quadrupole strength, and likewise for the sextupole. To achieve this, we will use `SciBmad`'s deferred expressions"
   ]
  },
  {
   "cell_type": "code",
   "execution_count": 2,
   "id": "a4b9d39d",
   "metadata": {},
   "outputs": [],
   "source": [
    "# Make a FODO cell requiring that\n",
    "# qf.Kn1 = -qd.Kn1 \n",
    "# and\n",
    "# sf.Kn2 = -sd.Kn2\n",
    "# This is done using a \"deferred expression\"\n",
    "# to form a \"closure\" of the variables we define:\n",
    "\n",
    "K1 = 0.36;\n",
    "K2 = 0.1;\n",
    "\n",
    "qf = Quadrupole(Kn1=DefExpr(() -> +K1), L=0.5);\n",
    "sf = Sextupole(Kn2=DefExpr(() -> +K2), L=0.2);\n",
    "d  = Drift(L=0.6);\n",
    "b  = SBend(L=6.0, angle=pi/132);\n",
    "qd = Quadrupole(Kn1=DefExpr(() -> -K1), L=0.5);\n",
    "sd = Sextupole(Kn2=DefExpr(() -> -K2), L=0.2);\n",
    "\n",
    "\n",
    "fodo_line = [qf, sf, d, b, d, qd, sd, d, b, d];\n",
    "fodo = Beamline(fodo_line, species_ref=Species(\"electron\"), E_ref=18e9);"
   ]
  },
  {
   "cell_type": "markdown",
   "id": "fb4cc815",
   "metadata": {},
   "source": [
    "Now if we update `K1`, both `qf` and `qd` will be (lazily) updated."
   ]
  },
  {
   "cell_type": "code",
   "execution_count": 3,
   "id": "4c9dc7e6",
   "metadata": {},
   "outputs": [
    {
     "name": "stdout",
     "output_type": "stream",
     "text": [
      "0.3\n",
      "-0.3\n"
     ]
    }
   ],
   "source": [
    "K1 = 0.3\n",
    "println(qf.Kn1)\n",
    "println(qd.Kn1)"
   ]
  },
  {
   "cell_type": "markdown",
   "id": "c451c9a6",
   "metadata": {},
   "source": [
    "We can get the Twiss parameters using `twiss` "
   ]
  },
  {
   "cell_type": "code",
   "execution_count": 4,
   "id": "b88402ce",
   "metadata": {},
   "outputs": [
    {
     "ename": "LoadError",
     "evalue": "UndefVarError: `plot` not defined in `Main`\nSuggestion: check for spelling errors or missing imports.",
     "output_type": "error",
     "traceback": [
      "UndefVarError: `plot` not defined in `Main`\nSuggestion: check for spelling errors or missing imports.",
      "",
      "Stacktrace:",
      " [1] top-level scope",
      "\u001b[90m   @\u001b[39m \u001b[90m\u001b[4mIn[4]:3\u001b[24m\u001b[39m"
     ]
    }
   ],
   "source": [
    "t = twiss(fodo)\n",
    "\n",
    "plt = plot()\n",
    "plot!(plt, t.s, t.beta_1, label=\"beta_1\")\n",
    "plot!(plt, t.s, t.beta_2, label=\"beta_2\")\n",
    "xlabel!(plt, \"s [m]\")\n",
    "ylabel!(plt, \"Beta Function [m]\")\n",
    "display(plt)\n",
    "t"
   ]
  },
  {
   "cell_type": "markdown",
   "id": "a8aed78e",
   "metadata": {},
   "source": [
    "Let's compute the transport matrix for this FODO cell using automatic differentiation (AD). Because it is a periodic (closed) geometry, need to expand around the closed orbit. The closed orbit is computed in the `twiss` call"
   ]
  },
  {
   "cell_type": "code",
   "execution_count": 5,
   "id": "7d07240c",
   "metadata": {},
   "outputs": [
    {
     "data": {
      "text/plain": [
       "6-element Vector{Float64}:\n",
       "  2.5673907444456746e-17\n",
       " -3.469446951953614e-18\n",
       "  1.9503102460948876e-33\n",
       "  2.5494277617600177e-34\n",
       "  3.552713678800501e-15\n",
       "  0.0"
      ]
     },
     "execution_count": 5,
     "metadata": {},
     "output_type": "execute_result"
    }
   ],
   "source": [
    "co = [t.orbit_x[1], t.orbit_px[1], t.orbit_y[1], t.orbit_py[1], t.orbit_z[1], t.orbit_pz[1]]"
   ]
  },
  {
   "cell_type": "markdown",
   "id": "c494612f",
   "metadata": {},
   "source": [
    "We see that in this case the closed orbit is the \"zero orbit\", which makes sense because all the magnets are perfectly aligned and there are no RF cavities. Note that in general the \"zero orbit\" is not always the closed orbit (in the case of a periodic accelerator) or the reference orbit (in the case of a linac). We must always expand around some real trajectory.\n",
    "\n",
    "Now we will use [`GTPSA.jl`](https://github.com/bmad-sim/GTPSA.jl) to compute the Taylor map, to 2nd order. `GTPSA.jl` is a full-featured interface to the Generalised Truncated Power Series Algebra library, written by Laurent Deniau for CERN's `MAD-NG` code, and is another package in the `SciBmad` family. Because `SciBmad` is polymorphic, all we need to do is track a single particle on the closed orbit where the numbers are Truncated Power Series (`TPS`) types instead of the regular 64-bit floats `Float64`s.\n",
    "\n",
    "First, we define a `Descriptor` to define the number of variables (6) and the truncation order of our Taylor series (2)."
   ]
  },
  {
   "cell_type": "code",
   "execution_count": 6,
   "id": "158da855",
   "metadata": {},
   "outputs": [
    {
     "data": {
      "text/plain": [
       "Descriptor(NV=6, MO=2)"
      ]
     },
     "execution_count": 6,
     "metadata": {},
     "output_type": "execute_result"
    }
   ],
   "source": [
    "D2 = Descriptor(6, 2) # 6 variables, 2nd order"
   ]
  },
  {
   "cell_type": "markdown",
   "id": "0efc6faa",
   "metadata": {},
   "source": [
    "We will then get our special `TPS` number types. Specifically, we will start with the \"identity map\", or a vector of unit \"wiggles\". E.g., wiggle the input a bit, see how the output wiggles"
   ]
  },
  {
   "cell_type": "code",
   "execution_count": 7,
   "id": "b8035fae",
   "metadata": {},
   "outputs": [
    {
     "data": {
      "text/plain": [
       "6-element Vector{TPS64{Descriptor(NV=6, MO=2)}}:\n",
       " Index Coefficient                Order   Exponent\n",
       "--------------------------------------------------------------------\n",
       "   1:   1.0000000000000000e+00      1      1   0   0   0   0   0\n",
       "--------------------------------------------------------------------\n",
       "   2:   1.0000000000000000e+00      1      0   1   0   0   0   0\n",
       "--------------------------------------------------------------------\n",
       "   3:   1.0000000000000000e+00      1      0   0   1   0   0   0\n",
       "--------------------------------------------------------------------\n",
       "   4:   1.0000000000000000e+00      1      0   0   0   1   0   0\n",
       "--------------------------------------------------------------------\n",
       "   5:   1.0000000000000000e+00      1      0   0   0   0   1   0\n",
       "--------------------------------------------------------------------\n",
       "   6:   1.0000000000000000e+00      1      0   0   0   0   0   1\n"
      ]
     },
     "execution_count": 7,
     "metadata": {},
     "output_type": "execute_result"
    }
   ],
   "source": [
    "# Then get a vector of `TPS`s representing an identity of the variables:\n",
    "dv = @vars(D2) # Think of these as unit \"wiggles\"\n",
    "\n",
    " # Finally initialize our particle coordinates\n",
    "v0 = zeros(6) # Closed orbit\n",
    "v = v0 + dv   # Particle as a TPSA (wiggle around the closed orbit)"
   ]
  },
  {
   "cell_type": "markdown",
   "id": "a0c8b97c",
   "metadata": {},
   "source": [
    "Now we track!"
   ]
  },
  {
   "cell_type": "code",
   "execution_count": 8,
   "id": "1d9f7c33",
   "metadata": {},
   "outputs": [
    {
     "name": "stderr",
     "output_type": "stream",
     "text": [
      "\u001b[36m\u001b[1m[ \u001b[22m\u001b[39m\u001b[36m\u001b[1mInfo: \u001b[22m\u001b[39mSetting bunch.species = Species(\"electron\", -1 e, 0.51099895069 MeV c^-2, 0.5 h_bar, -9.2847646917e-24 J T^-1, 0.0, AtomicAndPhysicalConstants.Kind.LEPTON) (reference species from the Beamline)\n",
      "\u001b[36m\u001b[1m[ \u001b[22m\u001b[39m\u001b[36m\u001b[1mInfo: \u001b[22m\u001b[39mSetting bunch.R_ref = -60.04153711147289 (reference R_ref from the Beamline)\n"
     ]
    },
    {
     "name": "stdout",
     "output_type": "stream",
     "text": [
      "6-element Matrix{TPS64{Descriptor(NV=6, MO=2)}}:\n",
      " Index Coefficient                Order   Exponent\n",
      "--------------------------------------------------------------------\n",
      "   1:   2.5673907444456746e-17      0      0   0   0   0   0   0\n",
      "   1:  -1.5014406748569284e+00      1      1   0   0   0   0   0\n",
      "   1:   2.4337323961276095e+01      1      0   1   0   0   0   0\n",
      "   1:   3.0902218513873479e-16      1      0   0   1   0   0   0\n",
      "   1:   1.1862399218856096e-15      1      0   0   0   1   0   0\n",
      "   1:   4.6559967240029487e-01      1      0   0   0   0   0   1\n",
      "   1:  -2.1624629039941584e-01      2      2   0   0   0   0   0\n",
      "   1:  -5.9739097567507493e-01      2      1   1   0   0   0   0\n",
      "   1:   6.0045879718470401e+00      2      0   2   0   0   0   0\n",
      "   1:   2.0259254391159418e-17      2      1   0   1   0   0   0\n",
      "   1:   3.6346854686241299e-17      2      0   1   1   0   0   0\n",
      "   1:  -7.3954551315820696e-02      2      0   0   2   0   0   0\n",
      "   1:   9.5315805435515612e-18      2      1   0   0   1   0   0\n",
      "   1:   9.5877497795269650e-17      2      0   1   0   1   0   0\n",
      "   1:  -2.3689760676231550e+00      2      0   0   1   1   0   0\n",
      "   1:  -5.2327062138421629e+00      2      0   0   0   2   0   0\n",
      "   1:   3.8112249845238524e+00      2      1   0   0   0   0   1\n",
      "   1:  -3.2492213276665638e+01      2      0   1   0   0   0   1\n",
      "   1:  -4.7920330968023451e-16      2      0   0   1   0   0   1\n",
      "   1:  -2.4127154389007992e-15      2      0   0   0   1   0   1\n",
      "   1:  -5.7202779308232898e-01      2      0   0   0   0   0   2\n",
      "--------------------------------------------------------------------\n",
      "   2:  -3.4694469519536142e-18      0      0   0   0   0   0   0\n",
      "   2:  -1.7397295890500816e-01      1      1   0   0   0   0   0\n",
      "   2:   2.1539554079824854e+00      1      0   1   0   0   0   0\n",
      "   2:   4.0393024003251738e-17      1      0   0   1   0   0   0\n",
      "   2:   1.5507898776475879e-16      1      0   0   0   1   0   0\n",
      "   2:   6.1482849956368352e-02      1      0   0   0   0   0   1\n",
      "   2:  -1.9722870913301199e-02      2      2   0   0   0   0   0\n",
      "   2:  -5.0282247259354089e-02      2      1   1   0   0   0   0\n",
      "   2:   6.7476981448001927e-01      2      0   2   0   0   0   0\n",
      "   2:   2.9279449552972185e-18      2      1   0   1   0   0   0\n",
      "   2:   8.0243070091775161e-19      2      0   1   1   0   0   0\n",
      "   2:  -2.2745161470257270e-02      2      0   0   2   0   0   0\n",
      "   2:   2.3366295028067268e-18      2      1   0   0   1   0   0\n",
      "   2:  -3.4623545717189121e-18      2      0   1   0   1   0   0\n",
      "   2:  -3.3723372881227109e-01      2      0   0   1   1   0   0\n",
      "   2:  -7.1343301607080045e-01      2      0   0   0   2   0   0\n",
      "   2:   1.7345231288692578e-01      2      1   0   0   0   0   1\n",
      "   2:  -1.1088836056618629e+00      2      0   1   0   0   0   1\n",
      "   2:  -2.2321958047504711e-17      2      0   0   1   0   0   1\n",
      "   2:  -1.6063174858953920e-16      2      0   0   0   1   0   1\n",
      "   2:  -1.3965963035470819e-02      2      0   0   0   0   0   2\n",
      "--------------------------------------------------------------------\n",
      "   3:   1.9503102460948876e-33      0      0   0   0   0   0   0\n",
      "   3:  -2.3927261957155002e-17      1      1   0   0   0   0   0\n",
      "   3:   1.1038748331200114e-15      1      0   1   0   0   0   0\n",
      "   3:   8.6857893743585524e-01      1      0   0   1   0   0   0\n",
      "   3:   6.8131679885373284e+00      1      0   0   0   1   0   0\n",
      "   3:   1.2867286114383261e-17      1      0   0   0   0   0   1\n",
      "   3:  -9.8382803980890678e-18      2      2   0   0   0   0   0\n",
      "   3:  -1.2042156058859378e-17      2      1   1   0   0   0   0\n",
      "   3:  -2.3470654542006775e-18      2      0   2   0   0   0   0\n",
      "   3:   2.0820966400777624e-01      2      1   0   1   0   0   0\n",
      "   3:  -2.6756654190446780e+00      2      0   1   1   0   0   0\n",
      "   3:   6.5335351414440528e-18      2      0   0   2   0   0   0\n",
      "   3:   3.6240773616285304e-01      2      1   0   0   1   0   0\n",
      "   3:  -1.0570001099680727e+01      2      0   1   0   1   0   0\n",
      "   3:  -2.5880277039527031e-17      2      0   0   1   1   0   0\n",
      "   3:  -7.2050602930178200e-17      2      0   0   0   2   0   0\n",
      "   3:   1.8632928742761530e-16      2      1   0   0   0   0   1\n",
      "   3:  -2.1667494559807967e-15      2      0   1   0   0   0   1\n",
      "   3:   1.4140740187800873e+00      2      0   0   1   0   0   1\n",
      "   3:   2.2604678416660864e+00      2      0   0   0   1   0   1\n",
      "   3:  -2.5732412126539622e-17      2      0   0   0   0   0   2\n",
      "--------------------------------------------------------------------\n",
      "   4:   2.5494277617600177e-34      0      0   0   0   0   0   0\n",
      "   4:  -3.1351618188348685e-18      1      1   0   0   0   0   0\n",
      "   4:   1.4434565082821014e-16      1      0   1   0   0   0   0\n",
      "   4:  -1.7398939290416998e-01      1      0   0   1   0   0   0\n",
      "   4:  -2.1347393321223374e-01      1      0   0   0   1   0   0\n",
      "   4:   1.6831903456569136e-18      1      0   0   0   0   0   1\n",
      "   4:  -1.2952683507913980e-18      2      2   0   0   0   0   0\n",
      "   4:  -1.0010453721889786e-18      2      1   1   0   0   0   0\n",
      "   4:  -8.1487087223193381e-18      2      0   2   0   0   0   0\n",
      "   4:   7.3022308400481958e-03      2      1   0   1   0   0   0\n",
      "   4:  -3.7185533658269149e-01      2      0   1   1   0   0   0\n",
      "   4:   9.1558495150012200e-19      2      0   0   2   0   0   0\n",
      "   4:   3.5855761603031715e-02      2      1   0   0   1   0   0\n",
      "   4:  -1.4571267707018307e+00      2      0   1   0   1   0   0\n",
      "   4:  -3.1474466339308438e-18      2      0   0   1   1   0   0\n",
      "   4:  -9.4147249692288701e-18      2      0   0   0   2   0   0\n",
      "   4:   2.1243787128435713e-17      2      1   0   0   0   0   1\n",
      "   4:  -1.3920113956595321e-16      2      0   1   0   0   0   1\n",
      "   4:   1.6947583964386848e-01      2      0   0   1   0   0   1\n",
      "   4:   1.2241119774585181e+00      2      0   0   0   1   0   1\n",
      "   4:  -1.6843704085384344e-18      2      0   0   0   0   0   2\n",
      "--------------------------------------------------------------------\n",
      "   5:   3.5527136788005009e-15      0      0   0   0   0   0   0\n",
      "   5:   1.1311099057935241e-02      1      1   0   0   0   0   0\n",
      "   5:  -4.9344710512917722e-01      1      0   1   0   0   0   0\n",
      "   5:  -3.8933408802014251e-18      1      0   0   1   0   0   0\n",
      "   5:  -1.4943373988355360e-17      1      0   0   0   1   0   0\n",
      "   5:   1.0000000000000000e+00      1      0   0   0   0   1   0\n",
      "   5:  -6.9454818941118261e-03      1      0   0   0   0   0   1\n",
      "   5:  -1.9719838895671135e-01      2      2   0   0   0   0   0\n",
      "   5:   4.0011614377625913e+00      2      1   1   0   0   0   0\n",
      "   5:  -2.1554766055882183e+01      2      0   2   0   0   0   0\n",
      "   5:   4.9336220796246548e-17      2      1   0   1   0   0   0\n",
      "   5:  -4.7403272715040173e-16      2      0   1   1   0   0   0\n",
      "   5:  -2.0266171553111639e-01      2      0   0   2   0   0   0\n",
      "   5:   2.0112418871060279e-16      2      1   0   0   1   0   0\n",
      "   5:  -2.3209771029334907e-15      2      0   1   0   1   0   0\n",
      "   5:  -1.4678998216757262e+00      2      0   0   1   1   0   0\n",
      "   5:  -4.4217682376835699e+00      2      0   0   0   2   0   0\n",
      "   5:   3.5309717306444563e-03      2      1   0   0   0   0   1\n",
      "   5:  -3.0303835308768656e-01      2      0   1   0   0   0   1\n",
      "   5:  -6.8297018611890651e-18      2      0   0   1   0   0   1\n",
      "   5:  -2.4850087697338867e-17      2      0   0   0   1   0   1\n",
      "   5:  -1.9110915509567084e-03      2      0   0   0   0   0   2\n",
      "--------------------------------------------------------------------\n",
      "   6:   1.0000000000000000e+00      1      0   0   0   0   0   1\n",
      "\n"
     ]
    }
   ],
   "source": [
    "b0 = Bunch(v)\n",
    "track!(b0, fodo)  # b0 is mutated in-place with the result\n",
    "println(b0.coords.v)"
   ]
  },
  {
   "cell_type": "markdown",
   "id": "1d406465",
   "metadata": {},
   "source": [
    "This is the real nonlinear Taylor map, computed from the integrator itself - no matrix or map is stored internally.\n",
    "\n",
    "The exponent specifies the power of each variable, e.g. the last row in `1: ...` corresponds to $\\delta^2$ - it defines how $x$ depends on $\\delta^2$.\n",
    "\n",
    "We can also get the linear part (as a matrix):"
   ]
  },
  {
   "cell_type": "code",
   "execution_count": 9,
   "id": "bde7fdc3",
   "metadata": {},
   "outputs": [
    {
     "data": {
      "text/plain": [
       "6×6 Matrix{Float64}:\n",
       " -1.50144      24.3373        3.09022e-16   1.18624e-15  0.0   0.4656\n",
       " -0.173973      2.15396       4.0393e-17    1.55079e-16  0.0   0.0614828\n",
       " -2.39273e-17   1.10387e-15   0.868579      6.81317      0.0   1.28673e-17\n",
       " -3.13516e-18   1.44346e-16  -0.173989     -0.213474     0.0   1.68319e-18\n",
       "  0.0113111    -0.493447     -3.89334e-18  -1.49434e-17  1.0  -0.00694548\n",
       "  0.0           0.0           0.0           0.0          0.0   1.0"
      ]
     },
     "execution_count": 9,
     "metadata": {},
     "output_type": "execute_result"
    }
   ],
   "source": [
    "# We can clean up the output with\n",
    "GTPSA.show_eps = 1e-10\n",
    "\n",
    "# Also print the matrix (linear part)\n",
    "GTPSA.jacobian(b0.coords.v)"
   ]
  },
  {
   "cell_type": "markdown",
   "id": "b0edbb7e",
   "metadata": {},
   "source": [
    "To get the tunes, we need to go to the normal form, where the motion lies on circles in phase space with tunes as functions of solely the radius of the circle (amplitude-dependent rotations). E.g. we seek a nonlinear map $\\vec{a}$ such that $\\vec{r} = \\vec{a}^{-1}\\circ\\vec{m}\\circ\\vec{a}$ where $\\vec{m}$ is the one-turn map. $\\vec{r}$ will then, being in circle world, have the form\n",
    "\n",
    "$$\n",
    "\\begin{equation}\n",
    "    \\begin{pmatrix}\n",
    "        \\bar{q}_1 \\\\ \\bar{p}_1 \\\\ \\vdots \\\\ \\bar{q}_n \\\\ \\bar{p}_n\n",
    "    \\end{pmatrix}_{t_0+T} = \n",
    "    \\underbrace{\\begin{pmatrix}\n",
    "        \\mathsf{R}(\\mu_i(\\vec{J})) & \\mathsf{0} & \\mathsf{0} \\\\\n",
    "        \\mathsf{0} & \\ddots & \\mathsf{0}\\\\\n",
    "        \\mathsf{0} & \\mathsf{0} & \\mathsf{R}(\\mu_n(\\vec{J}))\n",
    "    \\end{pmatrix}}_{\\let\\scriptstyle\\textstyle\\substack{\\vec{r}}}\n",
    "\\begin{pmatrix}\n",
    "        \\bar{q}_1 \\\\ \\bar{p}_1 \\\\ \\vdots \\\\ \\bar{q}_n \\\\ \\bar{p}_n\n",
    "    \\end{pmatrix}_{t_0},\\ \\  \\mathsf{R}(\\alpha)= \\begin{pmatrix}\n",
    "        \\cos{\\alpha} && \\sin{\\alpha} \\\\\n",
    "        -\\sin{\\alpha} && \\cos{\\alpha}\n",
    "    \\end{pmatrix} \\ .\n",
    "\\end{equation}\n",
    "$$\n",
    "\n",
    "where $(\\bar{q}_1,\\bar{p}_1) = (\\sqrt{2J_1}\\cos{\\phi_1},\\sqrt{2J_1}\\sin{\\phi_1})$.\n",
    "\n",
    "`SciBmad`'s `NonlinearNormalForm.jl` package makes it very easy to compute `a`, with a single function `normal`. We will elevate the tracking map result to a bona-fide `DAMap` (differential algebraic map) type, and then compute `a`:"
   ]
  },
  {
   "cell_type": "code",
   "execution_count": 10,
   "id": "07d6365a",
   "metadata": {},
   "outputs": [
    {
     "data": {
      "text/plain": [
       "DAMap{StaticArraysCore.MVector{5, Float64}, StaticArraysCore.MVector{6, TPS64{Descriptor(NV=6, MO=2)}}, Nothing, Nothing}([0.0, 0.0, 0.0, 0.0, 0.0], 6-element StaticArraysCore.MVector{6, TPS64{Descriptor(NV=6, MO=2)}}:\n",
       " Index Coefficient                Order   Exponent\n",
       "--------------------------------------------------------------------\n",
       "   1:  -5.0740641298145208e+00      1      0   1   0   0   0   0\n",
       "   1:   7.1173080782844123e-01      1      0   0   0   0   0   1\n",
       "   1:  -3.2440195507262537e+00      2      2   0   0   0   0   0\n",
       "   1:  -1.0588609141558833e-01      2      1   1   0   0   0   0\n",
       "   1:  -6.2957227019419260e-01      2      0   2   0   0   0   0\n",
       "   1:  -7.7843206796179210e-01      2      0   0   2   0   0   0\n",
       "   1:   2.0172973343682132e-01      2      0   0   1   1   0   0\n",
       "   1:  -9.4879578008434196e-01      2      0   0   0   2   0   0\n",
       "   1:   4.0762360205410986e-01      2      1   0   0   0   0   1\n",
       "   1:   2.2525273815312095e+00      2      0   1   0   0   0   1\n",
       "   1:   4.8426245951542735e-01      2      0   0   0   0   0   2\n",
       "--------------------------------------------------------------------\n",
       "   2:   1.9708067821297998e-01      1      1   0   0   0   0   0\n",
       "   2:  -3.8105492152119613e-01      1      0   1   0   0   0   0\n",
       "   2:   5.4022074158296678e-02      1      0   0   0   0   0   1\n",
       "   2:  -2.4567755447654155e-01      2      2   0   0   0   0   0\n",
       "   2:  -5.6858066603311094e-02      2      1   1   0   0   0   0\n",
       "   2:   7.8358079323231578e-02      2      0   2   0   0   0   0\n",
       "   2:  -5.9006495658259682e-02      2      0   0   2   0   0   0\n",
       "   2:  -5.2924336286638424e-02      2      0   0   1   1   0   0\n",
       "   2:  -1.1275408902141754e-01      2      0   0   0   2   0   0\n",
       "  ⋮               ⋮             ⋮  ⋮   ⋮  ⋮   ⋮   ⋮   ⋮   ⋮   ⋮   ⋮\n",
       "\u001b[36m                                                     33 rows omitted\u001b[0m\n",
       ", nothing, nothing)"
      ]
     },
     "execution_count": 10,
     "metadata": {},
     "output_type": "execute_result"
    }
   ],
   "source": [
    "m = DAMap(v=b0.coords.v)\n",
    "a = normal(m)"
   ]
  },
  {
   "cell_type": "markdown",
   "id": "d2387e9a",
   "metadata": {},
   "source": [
    "We now can compute the nonlinear rotation $\\vec{r}$:"
   ]
  },
  {
   "cell_type": "code",
   "execution_count": 11,
   "id": "c062c4d2",
   "metadata": {},
   "outputs": [
    {
     "data": {
      "text/plain": [
       "6×6 Matrix{Float64}:\n",
       "  0.326257      0.945281     -2.38455e-16   7.58989e-17  0.0   1.38778e-16\n",
       " -0.945281      0.326257     -1.2326e-32   -1.84889e-32  0.0   4.16334e-17\n",
       " -3.78653e-29  -6.31089e-30   0.327553      0.944833     0.0  -1.26218e-29\n",
       "  0.0           0.0          -0.944833      0.327553     0.0   1.57772e-30\n",
       " -4.71845e-16  -3.33501e-16   0.0           2.46519e-32  1.0  -0.0255521\n",
       "  0.0           0.0           0.0           0.0          0.0   1.0"
      ]
     },
     "execution_count": 11,
     "metadata": {},
     "output_type": "execute_result"
    }
   ],
   "source": [
    "ai = inv(a)\n",
    "r = ai * m * a\n",
    "GTPSA.jacobian(r.v)"
   ]
  },
  {
   "cell_type": "markdown",
   "id": "06c464f6",
   "metadata": {},
   "source": [
    "It is easiest to view this in the complex phasors basis where the coordinates are $(\\tilde{q}_i,\\tilde{p}_i)=(\\sqrt{J_i}e^{+\\textrm{i}\\phi_i},\\sqrt{J_i}e^{-\\textrm{i}\\phi_i})$. That way, we see explicitly that the monomials $(\\tilde{q}_i\\tilde{p}_i)^n = J_i^n$."
   ]
  },
  {
   "cell_type": "code",
   "execution_count": 12,
   "id": "eb00add2",
   "metadata": {},
   "outputs": [
    {
     "name": "stdout",
     "output_type": "stream",
     "text": [
      "DAMap{StaticArraysCore.MVector{5, ComplexF64}, StaticArraysCore.MVector{6, ComplexTPS64{Descriptor(NV=6, MO=2)}}, Nothing, Nothing}(ComplexF64[0.0 + 0.0im, 0.0 + 0.0im, 0.0 + 0.0im, 0.0 + 0.0im, 0.0 + 0.0im], 6-element StaticArraysCore.MVector{6, ComplexTPS64{Descriptor(NV=6, MO=2)}}:\n",
      " Index Real                     Imag                       Order   Exponent\n",
      "---------------------------------------------------------------------------------------------\n",
      "   1:   3.2625736656277848e-01  -9.4528097979570247e-01      1      1   0   0   0   0   0\n",
      "   1:   1.1996841454073626e+00   4.1406290653633482e-01      2      1   0   0   0   0   1\n",
      "---------------------------------------------------------------------------------------------\n",
      "   2:   3.2625736656277848e-01   9.4528097979570247e-01      1      0   1   0   0   0   0\n",
      "   2:   1.1996841454073626e+00  -4.1406290653633482e-01      2      0   1   0   0   0   1\n",
      "---------------------------------------------------------------------------------------------\n",
      "   3:   3.2755250211181086e-01  -9.4483297908164277e-01      1      0   0   1   0   0   0\n",
      "   3:   1.2943164363081314e+00   4.4871061512823929e-01      2      0   0   1   0   0   1\n",
      "---------------------------------------------------------------------------------------------\n",
      "   4:   3.2755250211181086e-01   9.4483297908164277e-01      1      0   0   0   1   0   0\n",
      "   4:   1.2943164363081314e+00  -4.4871061512823929e-01      2      0   0   0   1   0   1\n",
      "---------------------------------------------------------------------------------------------\n",
      "   5:   1.0000000000000000e+00   0.0000000000000000e+00      1      0   0   0   0   1   0\n",
      "   5:  -2.5552060330665306e-02   0.0000000000000000e+00      1      0   0   0   0   0   1\n",
      "   5:  -1.2691296778939141e+00   0.0000000000000000e+00      2      1   1   0   0   0   0\n",
      "   5:  -1.3698891391007313e+00   0.0000000000000000e+00      2      0   0   1   1   0   0\n",
      "   5:  -3.8329009509992636e-02   0.0000000000000000e+00      2      0   0   0   0   0   2\n",
      "---------------------------------------------------------------------------------------------\n",
      "   6:   1.0000000000000000e+00   0.0000000000000000e+00      1      0   0   0   0   0   1\n",
      ", nothing, nothing)"
     ]
    }
   ],
   "source": [
    "c = c_map(m)\n",
    "ci = inv(c)\n",
    "r_phasor = ci * r * c\n",
    "print(r_phasor)"
   ]
  },
  {
   "cell_type": "markdown",
   "id": "1f0c06e6",
   "metadata": {},
   "source": [
    "Note that this map, which is a rotation, is in the phasors basis. So, $\\tilde{q}_1 = \\sqrt{J}e^{\\textrm{i}\\phi_1}$. In the linear case we have\n",
    "\n",
    "$$\n",
    "\\tilde{q}_1 ∘ \\vec{r}_{phasor,linear} = \\underbrace{\\sqrt{J}e^{\\textrm{i}\\phi_1}}_{\\tilde{q}_1}e^{-\\textrm{i}2\\pi\\nu_{1}} = \\sqrt{J}e^{\\textrm{i}(\\phi_1 - 2\\pi\\nu_{1})} \\ .\n",
    "$$\n",
    "This makes sense - it rotators phase. In the nonlinear case we see that we have\n",
    "\n",
    "$$\n",
    "\\tilde{q}_1 ∘ \\vec{r}_{phasor} = \\sqrt{J}e^{\\textrm{i}\\phi_1}e^{-\\textrm{i}2\\pi\\left(\\nu_{1}+\\xi_x\\delta\\right)}\n",
    "$$\n",
    "\n",
    "We can remove the $\\sqrt{J}e^{\\textrm{i}\\phi_1}$ using `par` in `GTPSA`, specifying to remove the first variable. Then we can naturally compute the amplitude-dependent tune"
   ]
  },
  {
   "cell_type": "code",
   "execution_count": 13,
   "id": "d0cb4300",
   "metadata": {},
   "outputs": [
    {
     "data": {
      "text/plain": [
       "TPS64{Descriptor(NV=6, MO=2)}:\n",
       " Coefficient                Order   Exponent\n",
       "  1.9710619563624454e-01      0      0   0   0   0   0   0\n",
       " -2.0198826166144121e-01      1      0   0   0   0   0   1\n"
      ]
     },
     "execution_count": 13,
     "metadata": {},
     "output_type": "execute_result"
    }
   ],
   "source": [
    "ADT = real(-log(par(r_phasor.v[1], 1))/(2*pi*im))\n",
    "ADT"
   ]
  },
  {
   "cell_type": "markdown",
   "id": "3b6b0502",
   "metadata": {},
   "source": [
    "With a differentiable code, we can trivially extract things like the chromaticity, and get exact solutions given the physics of the tracking code - no nasty equations or integrals.\n",
    "\n",
    "Not only is differentiability necessary to compute and analyze high order Taylor maps, it also allows us to compute exact derivatives of anything we want. This includes the parameters, e.g. the quadrupole strengths. Using `SciBmad`, we can compute the tune $\\nu_x$ as a function of variations in the quadrupole strength, e.g. $\\nu=\\nu(\\Delta K_{n1})$"
   ]
  }
 ],
 "metadata": {
  "kernelspec": {
   "display_name": "Julia 1.11.6",
   "language": "julia",
   "name": "julia-1.11"
  },
  "language_info": {
   "file_extension": ".jl",
   "mimetype": "application/julia",
   "name": "julia",
   "version": "1.11.6"
  }
 },
 "nbformat": 4,
 "nbformat_minor": 5
}
