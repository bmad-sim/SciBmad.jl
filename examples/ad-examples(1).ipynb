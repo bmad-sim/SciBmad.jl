{
 "cells": [
  {
   "cell_type": "code",
   "execution_count": 1,
   "id": "1ff2c3b4-e83b-4348-8c02-8504740c02b2",
   "metadata": {},
   "outputs": [],
   "source": [
    "using SciBmad\n",
    "using DifferentiationInterface\n",
    "import DifferentiationInterface as DI\n",
    "# Different differentiation packages:\n",
    "using ForwardDiff, GTPSA, ReverseDiff, Mooncake, FiniteDiff, FiniteDifferences"
   ]
  },
  {
   "cell_type": "code",
   "execution_count": 2,
   "id": "2f720d76-f35b-4575-9967-97de69c67152",
   "metadata": {},
   "outputs": [],
   "source": [
    "K1 = 0.36\n",
    "K2 = 0.1\n",
    "\n",
    "qf = Quadrupole(L=0.5, Kn1=K1)\n",
    "sf = Sextupole(L=0.2, Kn2=K2)\n",
    "d = Drift(L=0.6)\n",
    "b = SBend(L=6.0, angle=π/132)\n",
    "qd = Quadrupole(L=0.5, Kn1=-K1)\n",
    "sd = Sextupole(L=0.2, Kn2=-K2)\n",
    "fodo = Beamline([qf, d, sf, b, sd, d, qd], species_ref=Species(\"electron\"), E_ref=18e9);"
   ]
  },
  {
   "cell_type": "code",
   "execution_count": 16,
   "id": "3de3d2f8-abe3-4559-9ce8-1741afb8b9ae",
   "metadata": {},
   "outputs": [],
   "source": [
    "# Returns exit coordinates for 1 particle\n",
    "function track_a_particle(v0)\n",
    "    v0_ = similar(v0)\n",
    "    v0_ .= v0\n",
    "    b0 = Bunch(v0_; species=fodo.species_ref, R_ref=fodo.R_ref)\n",
    "    track!(b0, fodo)\n",
    "    return b0.coords.v\n",
    "end\n",
    "x0 = [1e-2, 0.0, 1e-2, 0.0, 0.0, 0.0];"
   ]
  },
  {
   "cell_type": "code",
   "execution_count": 13,
   "id": "b481def7-4306-47bd-ae1b-802fcb05a41b",
   "metadata": {
    "scrolled": true
   },
   "outputs": [
    {
     "data": {
      "text/plain": [
       "6×6 Matrix{Float64}:\n",
       " -0.501301     8.58617      0.000765453  -0.00240033  0.0   0.122029\n",
       " -0.257394     2.41377     -0.000629133  -0.00359376  0.0   0.0439702\n",
       "  0.00154156  -0.00171283   2.41678       8.59153     0.0  -0.013781\n",
       "  4.81099e-5  -0.00281752  -0.256971     -0.499744    0.0   0.00253851\n",
       " -0.00937178  -0.0829428   -0.0027041    -0.0152556   1.0  -0.000483029\n",
       "  0.0          0.0          0.0           0.0         0.0   1.0"
      ]
     },
     "execution_count": 13,
     "metadata": {},
     "output_type": "execute_result"
    }
   ],
   "source": [
    "# Forward AD using ForwardDiff.jl:\n",
    "prep_FD = DI.prepare_jacobian(track_a_particle, AutoForwardDiff(), x0, Constant(fodo))\n",
    "J_FD = DI.jacobian(track_a_particle, prep_FD, AutoForwardDiff(), x0, Constant(fodo))"
   ]
  },
  {
   "cell_type": "code",
   "execution_count": 14,
   "id": "fa4ffadf-e727-4951-9163-75a760a0b4ff",
   "metadata": {
    "scrolled": true
   },
   "outputs": [
    {
     "data": {
      "text/plain": [
       "6×6 Matrix{Float64}:\n",
       " -0.501301     8.58617      0.000765453  -0.00240033  0.0   0.122029\n",
       " -0.257394     2.41377     -0.000629133  -0.00359376  0.0   0.0439702\n",
       "  0.00154156  -0.00171283   2.41678       8.59153     0.0  -0.013781\n",
       "  4.81099e-5  -0.00281752  -0.256971     -0.499744    0.0   0.00253851\n",
       " -0.00937178  -0.0829428   -0.0027041    -0.0152556   1.0  -0.000483029\n",
       "  0.0          0.0          0.0           0.0         0.0   1.0"
      ]
     },
     "execution_count": 14,
     "metadata": {},
     "output_type": "execute_result"
    }
   ],
   "source": [
    "# Taylor AD using GTPSA.jl:\n",
    "prep_GTPSA = DI.prepare_jacobian(track_a_particle, AutoGTPSA(), x0, Constant(fodo))\n",
    "J_GTPSA = DI.jacobian(track_a_particle, prep_GTPSA, AutoGTPSA(), x0, Constant(fodo))"
   ]
  },
  {
   "cell_type": "code",
   "execution_count": 15,
   "id": "351aa79a-7bbd-423c-8613-a0a9ceb0b0bd",
   "metadata": {},
   "outputs": [
    {
     "ename": "LoadError",
     "evalue": "ArgumentError: Implement `KernelAbstractions.get_backend(::ReverseDiff.TrackedArray{Float64, Float64, 2, Matrix{Float64}, Matrix{Float64}})`",
     "output_type": "error",
     "traceback": [
      "ArgumentError: Implement `KernelAbstractions.get_backend(::ReverseDiff.TrackedArray{Float64, Float64, 2, Matrix{Float64}, Matrix{Float64}})`",
      "",
      "Stacktrace:",
      "  [1] \u001b[0m\u001b[1mget_backend\u001b[22m\u001b[0m\u001b[1m(\u001b[22m\u001b[90mA\u001b[39m::\u001b[0mReverseDiff.TrackedArray\u001b[90m{Float64, Float64, 2, Matrix{Float64}, Matrix{Float64}}\u001b[39m\u001b[0m\u001b[1m)\u001b[22m",
      "\u001b[90m    @\u001b[39m \u001b[33mKernelAbstractions\u001b[39m \u001b[90m~/.julia/packages/KernelAbstractions/lGrz7/src/\u001b[39m\u001b[90m\u001b[4mKernelAbstractions.jl:522\u001b[24m\u001b[39m",
      "  [2] \u001b[0m\u001b[1mlaunch!\u001b[22m",
      "\u001b[90m    @\u001b[39m \u001b[90m~/.julia/dev/BeamTracking/src/\u001b[39m\u001b[90m\u001b[4mkernel.jl:78\u001b[24m\u001b[39m\u001b[90m [inlined]\u001b[39m",
      "  [3] \u001b[0m\u001b[1mrunkernels!\u001b[22m\u001b[0m\u001b[1m(\u001b[22m\u001b[90mi\u001b[39m::\u001b[0mNothing, \u001b[90mcoords\u001b[39m::\u001b[0mBeamTracking.Coords\u001b[90m{Vector{UInt8}, ReverseDiff.TrackedArray{Float64, Float64, 2, Matrix{Float64}, Matrix{Float64}}, Nothing}\u001b[39m, \u001b[90mkc\u001b[39m::\u001b[0mBeamTracking.KernelChain\u001b[90m{Tuple{BeamTracking.KernelCall{typeof(BeamTracking.IntegrationTracking.order_four_integrator!), Tuple{typeof(BeamTracking.IntegrationTracking.mkm_quadrupole!), Tuple{Float64, Float64, Float64, Float64, StaticArraysCore.SVector{4, Float64}, StaticArraysCore.SVector{4, Float64}, Float64, StaticArraysCore.SVector{1, Int64}, StaticArraysCore.SVector{1, Float64}, StaticArraysCore.SVector{1, Float64}}, Float64, Int64, Int64, Int64, Float64}}, Vararg{BeamTracking.KernelCall{typeof(BeamTracking.blank_kernel!), Tuple{}}, 5}}, BeamTracking.RefState{Float64, Float64}}\u001b[39m; \u001b[90mkwargs\u001b[39m::\u001b[0m@Kwargs\u001b[90m{}\u001b[39m\u001b[0m\u001b[1m)\u001b[22m",
      "\u001b[90m    @\u001b[39m \u001b[35mBeamTracking\u001b[39m \u001b[90m~/.julia/dev/BeamTracking/src/\u001b[39m\u001b[90m\u001b[4mkernel.jl:146\u001b[24m\u001b[39m",
      "  [4] \u001b[0m\u001b[1muniversal!\u001b[22m\u001b[0m\u001b[1m(\u001b[22m\u001b[90mi\u001b[39m::\u001b[0mNothing, \u001b[90mcoords\u001b[39m::\u001b[0mBeamTracking.Coords\u001b[90m{Vector{UInt8}, ReverseDiff.TrackedArray{Float64, Float64, 2, Matrix{Float64}, Matrix{Float64}}, Nothing}\u001b[39m, \u001b[90mtm\u001b[39m::\u001b[0mBeamTracking.SplitIntegration, \u001b[90mbunch\u001b[39m::\u001b[0mBunch\u001b[90m{Float64, Float64, BeamTracking.Coords{Vector{UInt8}, ReverseDiff.TrackedArray{Float64, Float64, 2, Matrix{Float64}, Matrix{Float64}}, Nothing}}\u001b[39m, \u001b[90mL\u001b[39m::\u001b[0mFloat64, \u001b[90mR_ref\u001b[39m::\u001b[0mFloat64, \u001b[90malignmentparams\u001b[39m::\u001b[0mNothing, \u001b[90mbendparams\u001b[39m::\u001b[0mNothing, \u001b[90mbmultipoleparams\u001b[39m::\u001b[0mBMultipoleParams\u001b[90m{Float64, 1}\u001b[39m, \u001b[90mpatchparams\u001b[39m::\u001b[0mNothing, \u001b[90mapertureparams\u001b[39m::\u001b[0mNothing, \u001b[90mrfparams\u001b[39m::\u001b[0mNothing, \u001b[90mbeamlineparams\u001b[39m::\u001b[0mBeamlineParams; \u001b[90mkwargs\u001b[39m::\u001b[0m@Kwargs\u001b[90m{}\u001b[39m\u001b[0m\u001b[1m)\u001b[22m",
      "\u001b[90m    @\u001b[39m \u001b[36mBeamTrackingBeamlinesExt\u001b[39m \u001b[90m~/.julia/dev/BeamTracking/ext/BeamTrackingBeamlinesExt/\u001b[39m\u001b[90m\u001b[4munpack.jl:221\u001b[24m\u001b[39m",
      "  [5] \u001b[0m\u001b[1muniversal!\u001b[22m\u001b[0m\u001b[1m(\u001b[22m\u001b[90mi\u001b[39m::\u001b[0mNothing, \u001b[90mcoords\u001b[39m::\u001b[0mBeamTracking.Coords\u001b[90m{Vector{UInt8}, ReverseDiff.TrackedArray{Float64, Float64, 2, Matrix{Float64}, Matrix{Float64}}, Nothing}\u001b[39m, \u001b[90mtm\u001b[39m::\u001b[0mBeamTracking.SplitIntegration, \u001b[90mbunch\u001b[39m::\u001b[0mBunch\u001b[90m{Float64, Float64, BeamTracking.Coords{Vector{UInt8}, ReverseDiff.TrackedArray{Float64, Float64, 2, Matrix{Float64}, Matrix{Float64}}, Nothing}}\u001b[39m, \u001b[90mL\u001b[39m::\u001b[0mFloat64, \u001b[90mR_ref\u001b[39m::\u001b[0mFloat64, \u001b[90malignmentparams\u001b[39m::\u001b[0mNothing, \u001b[90mbendparams\u001b[39m::\u001b[0mNothing, \u001b[90mbmultipoleparams\u001b[39m::\u001b[0mBMultipoleParams\u001b[90m{Float64, 1}\u001b[39m, \u001b[90mpatchparams\u001b[39m::\u001b[0mNothing, \u001b[90mapertureparams\u001b[39m::\u001b[0mNothing, \u001b[90mrfparams\u001b[39m::\u001b[0mNothing, \u001b[90mbeamlineparams\u001b[39m::\u001b[0mBeamlineParams\u001b[0m\u001b[1m)\u001b[22m",
      "\u001b[90m    @\u001b[39m \u001b[36mBeamTrackingBeamlinesExt\u001b[39m \u001b[90m~/.julia/dev/BeamTracking/ext/BeamTrackingBeamlinesExt/\u001b[39m\u001b[90m\u001b[4munpack.jl:35\u001b[24m\u001b[39m",
      "  [6] \u001b[0m\u001b[1m_track!\u001b[22m\u001b[0m\u001b[1m(\u001b[22m\u001b[90mi\u001b[39m::\u001b[0mNothing, \u001b[90mcoords\u001b[39m::\u001b[0mBeamTracking.Coords\u001b[90m{Vector{UInt8}, ReverseDiff.TrackedArray{Float64, Float64, 2, Matrix{Float64}, Matrix{Float64}}, Nothing}\u001b[39m, \u001b[90mbunch\u001b[39m::\u001b[0mBunch\u001b[90m{Float64, Float64, BeamTracking.Coords{Vector{UInt8}, ReverseDiff.TrackedArray{Float64, Float64, 2, Matrix{Float64}, Matrix{Float64}}, Nothing}}\u001b[39m, \u001b[90mele\u001b[39m::\u001b[0mLineElement, \u001b[90mtm\u001b[39m::\u001b[0mBeamTracking.SplitIntegration; \u001b[90mkwargs\u001b[39m::\u001b[0m@Kwargs\u001b[90m{}\u001b[39m\u001b[0m\u001b[1m)\u001b[22m",
      "\u001b[90m    @\u001b[39m \u001b[36mBeamTrackingBeamlinesExt\u001b[39m \u001b[90m~/.julia/dev/BeamTracking/ext/BeamTrackingBeamlinesExt/\u001b[39m\u001b[90m\u001b[4munpack.jl:31\u001b[24m\u001b[39m",
      "  [7] \u001b[0m\u001b[1m_track!\u001b[22m\u001b[0m\u001b[1m(\u001b[22m\u001b[90mi\u001b[39m::\u001b[0mNothing, \u001b[90mcoords\u001b[39m::\u001b[0mBeamTracking.Coords\u001b[90m{Vector{UInt8}, ReverseDiff.TrackedArray{Float64, Float64, 2, Matrix{Float64}, Matrix{Float64}}, Nothing}\u001b[39m, \u001b[90mbunch\u001b[39m::\u001b[0mBunch\u001b[90m{Float64, Float64, BeamTracking.Coords{Vector{UInt8}, ReverseDiff.TrackedArray{Float64, Float64, 2, Matrix{Float64}, Matrix{Float64}}, Nothing}}\u001b[39m, \u001b[90mele\u001b[39m::\u001b[0mLineElement, \u001b[90mtm\u001b[39m::\u001b[0mBeamTracking.SplitIntegration\u001b[0m\u001b[1m)\u001b[22m",
      "\u001b[90m    @\u001b[39m \u001b[36mBeamTrackingBeamlinesExt\u001b[39m \u001b[90m~/.julia/dev/BeamTracking/ext/BeamTrackingBeamlinesExt/\u001b[39m\u001b[90m\u001b[4munpack.jl:2\u001b[24m\u001b[39m",
      "  [8] \u001b[0m\u001b[1m_track!\u001b[22m\u001b[0m\u001b[1m(\u001b[22m\u001b[90mi\u001b[39m::\u001b[0mNothing, \u001b[90mcoords\u001b[39m::\u001b[0mBeamTracking.Coords\u001b[90m{Vector{UInt8}, ReverseDiff.TrackedArray{Float64, Float64, 2, Matrix{Float64}, Matrix{Float64}}, Nothing}\u001b[39m, \u001b[90mbunch\u001b[39m::\u001b[0mBunch\u001b[90m{Float64, Float64, BeamTracking.Coords{Vector{UInt8}, ReverseDiff.TrackedArray{Float64, Float64, 2, Matrix{Float64}, Matrix{Float64}}, Nothing}}\u001b[39m, \u001b[90mele\u001b[39m::\u001b[0mLineElement, \u001b[90mtm\u001b[39m::\u001b[0mSciBmadStandard; \u001b[90mkwargs\u001b[39m::\u001b[0m@Kwargs\u001b[90m{}\u001b[39m\u001b[0m\u001b[1m)\u001b[22m",
      "\u001b[90m    @\u001b[39m \u001b[36mBeamTrackingBeamlinesExt\u001b[39m \u001b[90m~/.julia/dev/BeamTracking/ext/BeamTrackingBeamlinesExt/\u001b[39m\u001b[90m\u001b[4mscibmadstandard.jl:1\u001b[24m\u001b[39m",
      "  [9] \u001b[0m\u001b[1mtrack!\u001b[22m\u001b[0m\u001b[1m(\u001b[22m\u001b[90mbunch\u001b[39m::\u001b[0mBunch\u001b[90m{Float64, Float64, BeamTracking.Coords{Vector{UInt8}, ReverseDiff.TrackedArray{Float64, Float64, 2, Matrix{Float64}, Matrix{Float64}}, Nothing}}\u001b[39m, \u001b[90mele\u001b[39m::\u001b[0mLineElement; \u001b[90mkwargs\u001b[39m::\u001b[0m@Kwargs\u001b[90m{}\u001b[39m\u001b[0m\u001b[1m)\u001b[22m",
      "\u001b[90m    @\u001b[39m \u001b[36mBeamTrackingBeamlinesExt\u001b[39m \u001b[90m~/.julia/dev/BeamTracking/ext/BeamTrackingBeamlinesExt/\u001b[39m\u001b[90m\u001b[4mBeamTrackingBeamlinesExt.jl:17\u001b[24m\u001b[39m",
      " [10] \u001b[0m\u001b[1mtrack!\u001b[22m\u001b[0m\u001b[1m(\u001b[22m\u001b[90mbunch\u001b[39m::\u001b[0mBunch\u001b[90m{Float64, Float64, BeamTracking.Coords{Vector{UInt8}, ReverseDiff.TrackedArray{Float64, Float64, 2, Matrix{Float64}, Matrix{Float64}}, Nothing}}\u001b[39m, \u001b[90mele\u001b[39m::\u001b[0mLineElement\u001b[0m\u001b[1m)\u001b[22m",
      "\u001b[90m    @\u001b[39m \u001b[36mBeamTrackingBeamlinesExt\u001b[39m \u001b[90m~/.julia/dev/BeamTracking/ext/BeamTrackingBeamlinesExt/\u001b[39m\u001b[90m\u001b[4mBeamTrackingBeamlinesExt.jl:11\u001b[24m\u001b[39m",
      " [11] \u001b[0m\u001b[1m#track!#4\u001b[22m",
      "\u001b[90m    @\u001b[39m \u001b[90m~/.julia/dev/BeamTracking/ext/BeamTrackingBeamlinesExt/\u001b[39m\u001b[90m\u001b[4mBeamTrackingBeamlinesExt.jl:47\u001b[24m\u001b[39m\u001b[90m [inlined]\u001b[39m",
      " [12] \u001b[0m\u001b[1mtrack!\u001b[22m",
      "\u001b[90m    @\u001b[39m \u001b[90m~/.julia/dev/BeamTracking/ext/BeamTrackingBeamlinesExt/\u001b[39m\u001b[90m\u001b[4mBeamTrackingBeamlinesExt.jl:33\u001b[24m\u001b[39m\u001b[90m [inlined]\u001b[39m",
      " [13] \u001b[0m\u001b[1mtrack\u001b[22m\u001b[0m\u001b[1m(\u001b[22m\u001b[90mv0\u001b[39m::\u001b[0mReverseDiff.TrackedArray\u001b[90m{Float64, Float64, 1, Vector{Float64}, Vector{Float64}}\u001b[39m, \u001b[90mbl\u001b[39m::\u001b[0mBeamline; \u001b[90mn_turns\u001b[39m::\u001b[0mInt64, \u001b[90msave_every_n_turns\u001b[39m::\u001b[0mInt64\u001b[0m\u001b[1m)\u001b[22m",
      "\u001b[90m    @\u001b[39m \u001b[32mSciBmad\u001b[39m \u001b[90m~/.julia/dev/SciBmad/src/\u001b[39m\u001b[90m\u001b[4mtrack.jl:19\u001b[24m\u001b[39m",
      " [14] \u001b[0m\u001b[1mtrack\u001b[22m\u001b[0m\u001b[1m(\u001b[22m\u001b[90mv0\u001b[39m::\u001b[0mReverseDiff.TrackedArray\u001b[90m{Float64, Float64, 1, Vector{Float64}, Vector{Float64}}\u001b[39m, \u001b[90mbl\u001b[39m::\u001b[0mBeamline\u001b[0m\u001b[1m)\u001b[22m",
      "\u001b[90m    @\u001b[39m \u001b[32mSciBmad\u001b[39m \u001b[90m~/.julia/dev/SciBmad/src/\u001b[39m\u001b[90m\u001b[4mtrack.jl:1\u001b[24m\u001b[39m",
      " [15] \u001b[0m\u001b[1mtrack_a_particle\u001b[22m\u001b[0m\u001b[1m(\u001b[22m::\u001b[0mReverseDiff.TrackedArray\u001b[90m{Float64, Float64, 1, Vector{Float64}, Vector{Float64}}\u001b[39m, ::\u001b[0mVararg\u001b[90m{Any}\u001b[39m; \u001b[90mkwargs\u001b[39m::\u001b[0m@Kwargs\u001b[90m{}\u001b[39m\u001b[0m\u001b[1m)\u001b[22m",
      "\u001b[90m    @\u001b[39m \u001b[35mMain\u001b[39m \u001b[90m./\u001b[39m\u001b[90m\u001b[4mIn[7]:2\u001b[24m\u001b[39m",
      " [16] \u001b[0m\u001b[1mtrack_a_particle\u001b[22m",
      "\u001b[90m    @\u001b[39m \u001b[90m./\u001b[39m\u001b[90m\u001b[4mIn[7]:2\u001b[24m\u001b[39m\u001b[90m [inlined]\u001b[39m",
      " [17] \u001b[0m\u001b[1mFixTail\u001b[22m",
      "\u001b[90m    @\u001b[39m \u001b[90m~/.julia/packages/DifferentiationInterface/L0TGS/src/utils/\u001b[39m\u001b[90m\u001b[4mcontext.jl:172\u001b[24m\u001b[39m\u001b[90m [inlined]\u001b[39m",
      " [18] \u001b[0m\u001b[1mJacobianTape\u001b[22m",
      "\u001b[90m    @\u001b[39m \u001b[90m~/.julia/packages/ReverseDiff/rKZaG/src/api/\u001b[39m\u001b[90m\u001b[4mtape.jl:229\u001b[24m\u001b[39m\u001b[90m [inlined]\u001b[39m",
      " [19] \u001b[0m\u001b[1mjacobian\u001b[22m\u001b[0m\u001b[1m(\u001b[22m\u001b[90mf\u001b[39m::\u001b[0mDifferentiationInterface.FixTail\u001b[90m{typeof(track_a_particle), Tuple{Beamline}}\u001b[39m, \u001b[90minput\u001b[39m::\u001b[0mVector\u001b[90m{Float64}\u001b[39m, \u001b[90mcfg\u001b[39m::\u001b[0mReverseDiff.JacobianConfig\u001b[90m{ReverseDiff.TrackedArray{Float64, Float64, 1, Vector{Float64}, Vector{Float64}}, Nothing}\u001b[39m\u001b[0m\u001b[1m)\u001b[22m",
      "\u001b[90m    @\u001b[39m \u001b[32mReverseDiff\u001b[39m \u001b[90m~/.julia/packages/ReverseDiff/rKZaG/src/api/\u001b[39m\u001b[90m\u001b[4mjacobians.jl:23\u001b[24m\u001b[39m",
      " [20] \u001b[0m\u001b[1mjacobian\u001b[22m\u001b[0m\u001b[1m(\u001b[22m\u001b[90mf\u001b[39m::\u001b[0mFunction, \u001b[90mprep\u001b[39m::\u001b[0mDifferentiationInterfaceReverseDiffExt.ReverseDiffOneArgJacobianPrep\u001b[90m{Tuple{typeof(track_a_particle), AutoReverseDiff{true}, Vector{Float64}, Tuple{Constant{Beamline}}}, ReverseDiff.JacobianConfig{ReverseDiff.TrackedArray{Float64, Float64, 1, Vector{Float64}, Vector{Float64}}, Nothing}, Nothing}\u001b[39m, \u001b[90mbackend\u001b[39m::\u001b[0mAutoReverseDiff\u001b[90m{true}\u001b[39m, \u001b[90mx\u001b[39m::\u001b[0mVector\u001b[90m{Float64}\u001b[39m, \u001b[90mcontexts\u001b[39m::\u001b[0mConstant\u001b[90m{Beamline}\u001b[39m\u001b[0m\u001b[1m)\u001b[22m",
      "\u001b[90m    @\u001b[39m \u001b[33mDifferentiationInterfaceReverseDiffExt\u001b[39m \u001b[90m~/.julia/packages/DifferentiationInterface/L0TGS/ext/DifferentiationInterfaceReverseDiffExt/\u001b[39m\u001b[90m\u001b[4monearg.jl:343\u001b[24m\u001b[39m",
      " [21] top-level scope",
      "\u001b[90m    @\u001b[39m \u001b[90m\u001b[4mIn[15]:3\u001b[24m\u001b[39m"
     ]
    }
   ],
   "source": [
    "# Reverse AD using ReverseDiff.jl:\n",
    "prep_RD = DI.prepare_jacobian(track_a_particle, AutoReverseDiff(;compile=true), x0, Constant(fodo))\n",
    "J_RD = DI.jacobian(track_a_particle, prep_RD, AutoReverseDiff(;compile=true), x0, Constant(fodo))"
   ]
  },
  {
   "cell_type": "code",
   "execution_count": 7,
   "id": "ef110376-28c4-4a9d-88ad-693c95f5b20c",
   "metadata": {},
   "outputs": [
    {
     "data": {
      "text/plain": [
       "6×6 Matrix{Float64}:\n",
       " -0.501301     8.58617      0.000765453  -0.00240033  0.0   0.122029\n",
       " -0.257394     2.41377     -0.000629133  -0.00359376  0.0   0.0439702\n",
       "  0.00154156  -0.00171283   2.41678       8.59153     0.0  -0.013781\n",
       "  4.81099e-5  -0.00281752  -0.256971     -0.499744    0.0   0.00253851\n",
       " -0.00937178  -0.0829428   -0.0027041    -0.0152556   1.0  -0.000483029\n",
       "  0.0          0.0          0.0           0.0         0.0   1.0"
      ]
     },
     "execution_count": 7,
     "metadata": {},
     "output_type": "execute_result"
    }
   ],
   "source": [
    "# Reverse AD using Mooncake.jl:\n",
    "prep_MR = DI.prepare_jacobian(track_a_particle, AutoMooncake(), x0)\n",
    "J_MR = DI.jacobian(track_a_particle, prep_MR, AutoMooncake(), x0)"
   ]
  },
  {
   "cell_type": "code",
   "execution_count": 8,
   "id": "d835d6a6-7ebb-4971-850e-35995f9df4c4",
   "metadata": {},
   "outputs": [
    {
     "data": {
      "text/plain": [
       "6×6 Matrix{Float64}:\n",
       " -0.501301     8.58617      0.000765455  -0.00240034  0.0   0.122029\n",
       " -0.257394     2.41377     -0.000629133  -0.00359377  0.0   0.0439702\n",
       "  0.00154156  -0.00171282   2.41678       8.59153     0.0  -0.013781\n",
       "  4.81099e-5  -0.00281752  -0.256971     -0.499744    0.0   0.00253851\n",
       " -0.00937178  -0.0829429   -0.00270414   -0.0152558   1.0  -0.000483002\n",
       "  0.0          0.0          0.0           0.0         0.0   1.0"
      ]
     },
     "execution_count": 8,
     "metadata": {},
     "output_type": "execute_result"
    }
   ],
   "source": [
    "# Finite differencing using FiniteDiff.jl:\n",
    "prep_fdif1 = DI.prepare_jacobian(track_a_particle, AutoFiniteDiff(), x0)\n",
    "J_fdif1 = DI.jacobian(track_a_particle, prep_fdif1, AutoFiniteDiff(), x0)"
   ]
  },
  {
   "cell_type": "code",
   "execution_count": 9,
   "id": "c88033cb-f9ab-4a71-a3af-f2eb9e162c18",
   "metadata": {},
   "outputs": [
    {
     "data": {
      "text/plain": [
       "6×6 Matrix{Float64}:\n",
       " -0.501301     8.58617      0.000765453  -0.00240033  0.0   0.122029\n",
       " -0.257394     2.41377     -0.000629133  -0.00359376  0.0   0.0439702\n",
       "  0.00154156  -0.00171283   2.41678       8.59153     0.0  -0.013781\n",
       "  4.81099e-5  -0.00281752  -0.256971     -0.499744    0.0   0.00253851\n",
       " -0.00937178  -0.0829428   -0.0027041    -0.0152556   1.0  -0.000483029\n",
       "  0.0          0.0          0.0           0.0         0.0   1.0"
      ]
     },
     "execution_count": 9,
     "metadata": {},
     "output_type": "execute_result"
    }
   ],
   "source": [
    "# Finite differencing using FiniteDifferences.jl:\n",
    "prep_fdif2 = DI.prepare_jacobian(track_a_particle, AutoFiniteDifferences(;fdm=central_fdm(3,1)), x0)\n",
    "J_fdif2 = DI.jacobian(track_a_particle, prep_fdif2, AutoFiniteDifferences(;fdm=central_fdm(3,1)), x0)"
   ]
  },
  {
   "cell_type": "code",
   "execution_count": 10,
   "id": "3cd2cc3d-8016-4aa6-bea5-77591bd20397",
   "metadata": {},
   "outputs": [
    {
     "data": {
      "text/plain": [
       "true"
      ]
     },
     "execution_count": 10,
     "metadata": {},
     "output_type": "execute_result"
    }
   ],
   "source": [
    "# Show they're all equal:\n",
    "J_FD ≈ J_GTPSA ≈ J_RD ≈ J_MR ≈ J_fdif1 ≈ J_fdif2"
   ]
  }
 ],
 "metadata": {
  "kernelspec": {
   "display_name": "Julia Global Project (8 threads) 1.10.10",
   "language": "julia",
   "name": "julia-global-project-_8-threads_-1.10"
  },
  "language_info": {
   "file_extension": ".jl",
   "mimetype": "application/julia",
   "name": "julia",
   "version": "1.10.10"
  }
 },
 "nbformat": 4,
 "nbformat_minor": 5
}
